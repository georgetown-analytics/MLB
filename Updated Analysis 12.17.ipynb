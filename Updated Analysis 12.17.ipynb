{
 "cells": [
  {
   "cell_type": "code",
   "execution_count": 146,
   "id": "557f9359",
   "metadata": {},
   "outputs": [],
   "source": [
    "import pandas as pd\n",
    "import numpy as np\n",
    "from datetime import datetime\n",
    "import os\n",
    "from matplotlib import pyplot"
   ]
  },
  {
   "cell_type": "code",
   "execution_count": 147,
   "id": "0da83733",
   "metadata": {},
   "outputs": [],
   "source": [
    "mainData = pd.read_csv(\"game_logs.csv\")"
   ]
  },
  {
   "cell_type": "code",
   "execution_count": 148,
   "id": "2db36b6b",
   "metadata": {},
   "outputs": [
    {
     "data": {
      "text/plain": [
       "(171907, 161)"
      ]
     },
     "execution_count": 148,
     "metadata": {},
     "output_type": "execute_result"
    }
   ],
   "source": [
    "mainData.shape"
   ]
  },
  {
   "cell_type": "code",
   "execution_count": 149,
   "id": "497d076f",
   "metadata": {},
   "outputs": [
    {
     "data": {
      "text/html": [
       "<div>\n",
       "<style scoped>\n",
       "    .dataframe tbody tr th:only-of-type {\n",
       "        vertical-align: middle;\n",
       "    }\n",
       "\n",
       "    .dataframe tbody tr th {\n",
       "        vertical-align: top;\n",
       "    }\n",
       "\n",
       "    .dataframe thead th {\n",
       "        text-align: right;\n",
       "    }\n",
       "</style>\n",
       "<table border=\"1\" class=\"dataframe\">\n",
       "  <thead>\n",
       "    <tr style=\"text-align: right;\">\n",
       "      <th></th>\n",
       "      <th>date</th>\n",
       "      <th>day_of_week</th>\n",
       "      <th>v_game_number</th>\n",
       "      <th>h_game_number</th>\n",
       "      <th>v_score</th>\n",
       "      <th>h_score</th>\n",
       "      <th>day_night</th>\n",
       "      <th>attendance</th>\n",
       "      <th>length_minutes</th>\n",
       "    </tr>\n",
       "  </thead>\n",
       "  <tbody>\n",
       "    <tr>\n",
       "      <th>0</th>\n",
       "      <td>18710504</td>\n",
       "      <td>Thu</td>\n",
       "      <td>1</td>\n",
       "      <td>1</td>\n",
       "      <td>0</td>\n",
       "      <td>2</td>\n",
       "      <td>D</td>\n",
       "      <td>200.0</td>\n",
       "      <td>120.0</td>\n",
       "    </tr>\n",
       "    <tr>\n",
       "      <th>1</th>\n",
       "      <td>18710505</td>\n",
       "      <td>Fri</td>\n",
       "      <td>1</td>\n",
       "      <td>1</td>\n",
       "      <td>20</td>\n",
       "      <td>18</td>\n",
       "      <td>D</td>\n",
       "      <td>5000.0</td>\n",
       "      <td>145.0</td>\n",
       "    </tr>\n",
       "    <tr>\n",
       "      <th>2</th>\n",
       "      <td>18710506</td>\n",
       "      <td>Sat</td>\n",
       "      <td>2</td>\n",
       "      <td>1</td>\n",
       "      <td>12</td>\n",
       "      <td>4</td>\n",
       "      <td>D</td>\n",
       "      <td>1000.0</td>\n",
       "      <td>140.0</td>\n",
       "    </tr>\n",
       "    <tr>\n",
       "      <th>3</th>\n",
       "      <td>18710508</td>\n",
       "      <td>Mon</td>\n",
       "      <td>3</td>\n",
       "      <td>1</td>\n",
       "      <td>12</td>\n",
       "      <td>14</td>\n",
       "      <td>D</td>\n",
       "      <td>5000.0</td>\n",
       "      <td>150.0</td>\n",
       "    </tr>\n",
       "    <tr>\n",
       "      <th>4</th>\n",
       "      <td>18710509</td>\n",
       "      <td>Tue</td>\n",
       "      <td>2</td>\n",
       "      <td>1</td>\n",
       "      <td>9</td>\n",
       "      <td>5</td>\n",
       "      <td>D</td>\n",
       "      <td>3250.0</td>\n",
       "      <td>145.0</td>\n",
       "    </tr>\n",
       "    <tr>\n",
       "      <th>...</th>\n",
       "      <td>...</td>\n",
       "      <td>...</td>\n",
       "      <td>...</td>\n",
       "      <td>...</td>\n",
       "      <td>...</td>\n",
       "      <td>...</td>\n",
       "      <td>...</td>\n",
       "      <td>...</td>\n",
       "      <td>...</td>\n",
       "    </tr>\n",
       "    <tr>\n",
       "      <th>171902</th>\n",
       "      <td>20161002</td>\n",
       "      <td>Sun</td>\n",
       "      <td>162</td>\n",
       "      <td>162</td>\n",
       "      <td>6</td>\n",
       "      <td>4</td>\n",
       "      <td>D</td>\n",
       "      <td>27762.0</td>\n",
       "      <td>203.0</td>\n",
       "    </tr>\n",
       "    <tr>\n",
       "      <th>171903</th>\n",
       "      <td>20161002</td>\n",
       "      <td>Sun</td>\n",
       "      <td>162</td>\n",
       "      <td>162</td>\n",
       "      <td>2</td>\n",
       "      <td>5</td>\n",
       "      <td>D</td>\n",
       "      <td>36935.0</td>\n",
       "      <td>159.0</td>\n",
       "    </tr>\n",
       "    <tr>\n",
       "      <th>171904</th>\n",
       "      <td>20161002</td>\n",
       "      <td>Sun</td>\n",
       "      <td>162</td>\n",
       "      <td>162</td>\n",
       "      <td>1</td>\n",
       "      <td>7</td>\n",
       "      <td>D</td>\n",
       "      <td>41445.0</td>\n",
       "      <td>184.0</td>\n",
       "    </tr>\n",
       "    <tr>\n",
       "      <th>171905</th>\n",
       "      <td>20161002</td>\n",
       "      <td>Sun</td>\n",
       "      <td>162</td>\n",
       "      <td>162</td>\n",
       "      <td>4</td>\n",
       "      <td>10</td>\n",
       "      <td>D</td>\n",
       "      <td>44615.0</td>\n",
       "      <td>192.0</td>\n",
       "    </tr>\n",
       "    <tr>\n",
       "      <th>171906</th>\n",
       "      <td>20161002</td>\n",
       "      <td>Sun</td>\n",
       "      <td>161</td>\n",
       "      <td>162</td>\n",
       "      <td>7</td>\n",
       "      <td>10</td>\n",
       "      <td>D</td>\n",
       "      <td>28730.0</td>\n",
       "      <td>216.0</td>\n",
       "    </tr>\n",
       "  </tbody>\n",
       "</table>\n",
       "<p>171907 rows × 9 columns</p>\n",
       "</div>"
      ],
      "text/plain": [
       "            date day_of_week  v_game_number  h_game_number  v_score  h_score  \\\n",
       "0       18710504         Thu              1              1        0        2   \n",
       "1       18710505         Fri              1              1       20       18   \n",
       "2       18710506         Sat              2              1       12        4   \n",
       "3       18710508         Mon              3              1       12       14   \n",
       "4       18710509         Tue              2              1        9        5   \n",
       "...          ...         ...            ...            ...      ...      ...   \n",
       "171902  20161002         Sun            162            162        6        4   \n",
       "171903  20161002         Sun            162            162        2        5   \n",
       "171904  20161002         Sun            162            162        1        7   \n",
       "171905  20161002         Sun            162            162        4       10   \n",
       "171906  20161002         Sun            161            162        7       10   \n",
       "\n",
       "       day_night  attendance  length_minutes  \n",
       "0              D       200.0           120.0  \n",
       "1              D      5000.0           145.0  \n",
       "2              D      1000.0           140.0  \n",
       "3              D      5000.0           150.0  \n",
       "4              D      3250.0           145.0  \n",
       "...          ...         ...             ...  \n",
       "171902         D     27762.0           203.0  \n",
       "171903         D     36935.0           159.0  \n",
       "171904         D     41445.0           184.0  \n",
       "171905         D     44615.0           192.0  \n",
       "171906         D     28730.0           216.0  \n",
       "\n",
       "[171907 rows x 9 columns]"
      ]
     },
     "execution_count": 149,
     "metadata": {},
     "output_type": "execute_result"
    }
   ],
   "source": [
    "df = mainData[['date', 'day_of_week','v_game_number','h_game_number', 'v_score','h_score','day_night',\n",
    "               'attendance','length_minutes']].copy()\n",
    "df"
   ]
  },
  {
   "cell_type": "code",
   "execution_count": 150,
   "id": "2f5b8515",
   "metadata": {},
   "outputs": [],
   "source": [
    "# change day/night to 1/0\n",
    "df['day_night'] = df['day_night'].replace(['D','N'],[1,0])"
   ]
  },
  {
   "cell_type": "code",
   "execution_count": 151,
   "id": "a3143fbe",
   "metadata": {},
   "outputs": [],
   "source": [
    "df['day_of_week'] = df['day_of_week'].replace(['Sun','Mon', 'Tue', 'Wed', 'Thu', 'Fri', 'Sat'],[1,2,3,4,5,6,7])"
   ]
  },
  {
   "cell_type": "code",
   "execution_count": 152,
   "id": "a0e6e2ed",
   "metadata": {},
   "outputs": [],
   "source": [
    "# calculate which column is greater than the other then if the visiting team win v=1, if the home team win h=0\n",
    "df['vist_win'] = np.where(\n",
    "    df['v_score'] > df['h_score'], 1, 0)"
   ]
  },
  {
   "cell_type": "code",
   "execution_count": 153,
   "id": "118b1ef7",
   "metadata": {},
   "outputs": [],
   "source": [
    "win=df['vist_win'].value_counts()"
   ]
  },
  {
   "cell_type": "code",
   "execution_count": 154,
   "id": "eabcd468",
   "metadata": {},
   "outputs": [
    {
     "data": {
      "text/plain": [
       "<AxesSubplot:>"
      ]
     },
     "execution_count": 154,
     "metadata": {},
     "output_type": "execute_result"
    },
    {
     "data": {
      "image/png": "[encoded data removed]",
      "text/plain": [
       "<Figure size 576x396 with 1 Axes>"
      ]
     },
     "metadata": {},
     "output_type": "display_data"
    }
   ],
   "source": [
    "win.plot(kind='bar')"
   ]
  },
  {
   "cell_type": "code",
   "execution_count": 155,
   "id": "9b613059",
   "metadata": {},
   "outputs": [
    {
     "data": {
      "text/html": [
       "<div>\n",
       "<style scoped>\n",
       "    .dataframe tbody tr th:only-of-type {\n",
       "        vertical-align: middle;\n",
       "    }\n",
       "\n",
       "    .dataframe tbody tr th {\n",
       "        vertical-align: top;\n",
       "    }\n",
       "\n",
       "    .dataframe thead th {\n",
       "        text-align: right;\n",
       "    }\n",
       "</style>\n",
       "<table border=\"1\" class=\"dataframe\">\n",
       "  <thead>\n",
       "    <tr style=\"text-align: right;\">\n",
       "      <th></th>\n",
       "      <th>date</th>\n",
       "      <th>day_of_week</th>\n",
       "      <th>v_game_number</th>\n",
       "      <th>h_game_number</th>\n",
       "      <th>v_score</th>\n",
       "      <th>h_score</th>\n",
       "      <th>day_night</th>\n",
       "      <th>attendance</th>\n",
       "      <th>length_minutes</th>\n",
       "      <th>vist_win</th>\n",
       "    </tr>\n",
       "  </thead>\n",
       "  <tbody>\n",
       "    <tr>\n",
       "      <th>0</th>\n",
       "      <td>18710504</td>\n",
       "      <td>5</td>\n",
       "      <td>1</td>\n",
       "      <td>1</td>\n",
       "      <td>0</td>\n",
       "      <td>2</td>\n",
       "      <td>1.0</td>\n",
       "      <td>200.0</td>\n",
       "      <td>120.0</td>\n",
       "      <td>0</td>\n",
       "    </tr>\n",
       "    <tr>\n",
       "      <th>1</th>\n",
       "      <td>18710505</td>\n",
       "      <td>6</td>\n",
       "      <td>1</td>\n",
       "      <td>1</td>\n",
       "      <td>20</td>\n",
       "      <td>18</td>\n",
       "      <td>1.0</td>\n",
       "      <td>5000.0</td>\n",
       "      <td>145.0</td>\n",
       "      <td>1</td>\n",
       "    </tr>\n",
       "    <tr>\n",
       "      <th>2</th>\n",
       "      <td>18710506</td>\n",
       "      <td>7</td>\n",
       "      <td>2</td>\n",
       "      <td>1</td>\n",
       "      <td>12</td>\n",
       "      <td>4</td>\n",
       "      <td>1.0</td>\n",
       "      <td>1000.0</td>\n",
       "      <td>140.0</td>\n",
       "      <td>1</td>\n",
       "    </tr>\n",
       "    <tr>\n",
       "      <th>3</th>\n",
       "      <td>18710508</td>\n",
       "      <td>2</td>\n",
       "      <td>3</td>\n",
       "      <td>1</td>\n",
       "      <td>12</td>\n",
       "      <td>14</td>\n",
       "      <td>1.0</td>\n",
       "      <td>5000.0</td>\n",
       "      <td>150.0</td>\n",
       "      <td>0</td>\n",
       "    </tr>\n",
       "    <tr>\n",
       "      <th>4</th>\n",
       "      <td>18710509</td>\n",
       "      <td>3</td>\n",
       "      <td>2</td>\n",
       "      <td>1</td>\n",
       "      <td>9</td>\n",
       "      <td>5</td>\n",
       "      <td>1.0</td>\n",
       "      <td>3250.0</td>\n",
       "      <td>145.0</td>\n",
       "      <td>1</td>\n",
       "    </tr>\n",
       "    <tr>\n",
       "      <th>...</th>\n",
       "      <td>...</td>\n",
       "      <td>...</td>\n",
       "      <td>...</td>\n",
       "      <td>...</td>\n",
       "      <td>...</td>\n",
       "      <td>...</td>\n",
       "      <td>...</td>\n",
       "      <td>...</td>\n",
       "      <td>...</td>\n",
       "      <td>...</td>\n",
       "    </tr>\n",
       "    <tr>\n",
       "      <th>171902</th>\n",
       "      <td>20161002</td>\n",
       "      <td>1</td>\n",
       "      <td>162</td>\n",
       "      <td>162</td>\n",
       "      <td>6</td>\n",
       "      <td>4</td>\n",
       "      <td>1.0</td>\n",
       "      <td>27762.0</td>\n",
       "      <td>203.0</td>\n",
       "      <td>1</td>\n",
       "    </tr>\n",
       "    <tr>\n",
       "      <th>171903</th>\n",
       "      <td>20161002</td>\n",
       "      <td>1</td>\n",
       "      <td>162</td>\n",
       "      <td>162</td>\n",
       "      <td>2</td>\n",
       "      <td>5</td>\n",
       "      <td>1.0</td>\n",
       "      <td>36935.0</td>\n",
       "      <td>159.0</td>\n",
       "      <td>0</td>\n",
       "    </tr>\n",
       "    <tr>\n",
       "      <th>171904</th>\n",
       "      <td>20161002</td>\n",
       "      <td>1</td>\n",
       "      <td>162</td>\n",
       "      <td>162</td>\n",
       "      <td>1</td>\n",
       "      <td>7</td>\n",
       "      <td>1.0</td>\n",
       "      <td>41445.0</td>\n",
       "      <td>184.0</td>\n",
       "      <td>0</td>\n",
       "    </tr>\n",
       "    <tr>\n",
       "      <th>171905</th>\n",
       "      <td>20161002</td>\n",
       "      <td>1</td>\n",
       "      <td>162</td>\n",
       "      <td>162</td>\n",
       "      <td>4</td>\n",
       "      <td>10</td>\n",
       "      <td>1.0</td>\n",
       "      <td>44615.0</td>\n",
       "      <td>192.0</td>\n",
       "      <td>0</td>\n",
       "    </tr>\n",
       "    <tr>\n",
       "      <th>171906</th>\n",
       "      <td>20161002</td>\n",
       "      <td>1</td>\n",
       "      <td>161</td>\n",
       "      <td>162</td>\n",
       "      <td>7</td>\n",
       "      <td>10</td>\n",
       "      <td>1.0</td>\n",
       "      <td>28730.0</td>\n",
       "      <td>216.0</td>\n",
       "      <td>0</td>\n",
       "    </tr>\n",
       "  </tbody>\n",
       "</table>\n",
       "<p>171907 rows × 10 columns</p>\n",
       "</div>"
      ],
      "text/plain": [
       "            date  day_of_week  v_game_number  h_game_number  v_score  h_score  \\\n",
       "0       18710504            5              1              1        0        2   \n",
       "1       18710505            6              1              1       20       18   \n",
       "2       18710506            7              2              1       12        4   \n",
       "3       18710508            2              3              1       12       14   \n",
       "4       18710509            3              2              1        9        5   \n",
       "...          ...          ...            ...            ...      ...      ...   \n",
       "171902  20161002            1            162            162        6        4   \n",
       "171903  20161002            1            162            162        2        5   \n",
       "171904  20161002            1            162            162        1        7   \n",
       "171905  20161002            1            162            162        4       10   \n",
       "171906  20161002            1            161            162        7       10   \n",
       "\n",
       "        day_night  attendance  length_minutes  vist_win  \n",
       "0             1.0       200.0           120.0         0  \n",
       "1             1.0      5000.0           145.0         1  \n",
       "2             1.0      1000.0           140.0         1  \n",
       "3             1.0      5000.0           150.0         0  \n",
       "4             1.0      3250.0           145.0         1  \n",
       "...           ...         ...             ...       ...  \n",
       "171902        1.0     27762.0           203.0         1  \n",
       "171903        1.0     36935.0           159.0         0  \n",
       "171904        1.0     41445.0           184.0         0  \n",
       "171905        1.0     44615.0           192.0         0  \n",
       "171906        1.0     28730.0           216.0         0  \n",
       "\n",
       "[171907 rows x 10 columns]"
      ]
     },
     "execution_count": 155,
     "metadata": {},
     "output_type": "execute_result"
    }
   ],
   "source": [
    "df = df.replace([' ','NULL','na','(none)'],np.nan)\n",
    "df"
   ]
  },
  {
   "cell_type": "code",
   "execution_count": 156,
   "id": "ffc9dedd",
   "metadata": {},
   "outputs": [],
   "source": [
    "# drop any NaNs\n",
    "df_2 = df.dropna()"
   ]
  },
  {
   "cell_type": "code",
   "execution_count": 157,
   "id": "a36b6a6f",
   "metadata": {},
   "outputs": [
    {
     "data": {
      "text/plain": [
       "(114648, 10)"
      ]
     },
     "execution_count": 157,
     "metadata": {},
     "output_type": "execute_result"
    }
   ],
   "source": [
    "df_2.shape"
   ]
  },
  {
   "cell_type": "code",
   "execution_count": 158,
   "id": "0f7a0ee2",
   "metadata": {},
   "outputs": [
    {
     "data": {
      "text/plain": [
       "date                int64\n",
       "day_of_week         int64\n",
       "v_game_number       int64\n",
       "h_game_number       int64\n",
       "v_score             int64\n",
       "h_score             int64\n",
       "day_night         float64\n",
       "attendance        float64\n",
       "length_minutes    float64\n",
       "vist_win            int32\n",
       "dtype: object"
      ]
     },
     "execution_count": 158,
     "metadata": {},
     "output_type": "execute_result"
    }
   ],
   "source": [
    "df_2.dtypes"
   ]
  },
  {
   "cell_type": "code",
   "execution_count": 159,
   "id": "d92e8a33",
   "metadata": {},
   "outputs": [
    {
     "data": {
      "text/html": [
       "<div>\n",
       "<style scoped>\n",
       "    .dataframe tbody tr th:only-of-type {\n",
       "        vertical-align: middle;\n",
       "    }\n",
       "\n",
       "    .dataframe tbody tr th {\n",
       "        vertical-align: top;\n",
       "    }\n",
       "\n",
       "    .dataframe thead th {\n",
       "        text-align: right;\n",
       "    }\n",
       "</style>\n",
       "<table border=\"1\" class=\"dataframe\">\n",
       "  <thead>\n",
       "    <tr style=\"text-align: right;\">\n",
       "      <th></th>\n",
       "      <th>date</th>\n",
       "      <th>day_of_week</th>\n",
       "      <th>v_game_number</th>\n",
       "      <th>h_game_number</th>\n",
       "      <th>v_score</th>\n",
       "      <th>h_score</th>\n",
       "      <th>day_night</th>\n",
       "      <th>attendance</th>\n",
       "      <th>length_minutes</th>\n",
       "      <th>vist_win</th>\n",
       "    </tr>\n",
       "  </thead>\n",
       "  <tbody>\n",
       "    <tr>\n",
       "      <th>94311</th>\n",
       "      <td>19600412</td>\n",
       "      <td>3</td>\n",
       "      <td>1</td>\n",
       "      <td>1</td>\n",
       "      <td>4</td>\n",
       "      <td>9</td>\n",
       "      <td>1.0</td>\n",
       "      <td>30075.0</td>\n",
       "      <td>154.0</td>\n",
       "      <td>0</td>\n",
       "    </tr>\n",
       "    <tr>\n",
       "      <th>94312</th>\n",
       "      <td>19600412</td>\n",
       "      <td>3</td>\n",
       "      <td>1</td>\n",
       "      <td>1</td>\n",
       "      <td>2</td>\n",
       "      <td>3</td>\n",
       "      <td>0.0</td>\n",
       "      <td>67550.0</td>\n",
       "      <td>197.0</td>\n",
       "      <td>0</td>\n",
       "    </tr>\n",
       "    <tr>\n",
       "      <th>94313</th>\n",
       "      <td>19600412</td>\n",
       "      <td>3</td>\n",
       "      <td>1</td>\n",
       "      <td>1</td>\n",
       "      <td>3</td>\n",
       "      <td>4</td>\n",
       "      <td>1.0</td>\n",
       "      <td>39888.0</td>\n",
       "      <td>157.0</td>\n",
       "      <td>0</td>\n",
       "    </tr>\n",
       "    <tr>\n",
       "      <th>94314</th>\n",
       "      <td>19600412</td>\n",
       "      <td>3</td>\n",
       "      <td>1</td>\n",
       "      <td>1</td>\n",
       "      <td>1</td>\n",
       "      <td>3</td>\n",
       "      <td>1.0</td>\n",
       "      <td>42269.0</td>\n",
       "      <td>141.0</td>\n",
       "      <td>0</td>\n",
       "    </tr>\n",
       "    <tr>\n",
       "      <th>94315</th>\n",
       "      <td>19600413</td>\n",
       "      <td>4</td>\n",
       "      <td>2</td>\n",
       "      <td>2</td>\n",
       "      <td>4</td>\n",
       "      <td>0</td>\n",
       "      <td>0.0</td>\n",
       "      <td>24475.0</td>\n",
       "      <td>147.0</td>\n",
       "      <td>1</td>\n",
       "    </tr>\n",
       "    <tr>\n",
       "      <th>...</th>\n",
       "      <td>...</td>\n",
       "      <td>...</td>\n",
       "      <td>...</td>\n",
       "      <td>...</td>\n",
       "      <td>...</td>\n",
       "      <td>...</td>\n",
       "      <td>...</td>\n",
       "      <td>...</td>\n",
       "      <td>...</td>\n",
       "      <td>...</td>\n",
       "    </tr>\n",
       "    <tr>\n",
       "      <th>171902</th>\n",
       "      <td>20161002</td>\n",
       "      <td>1</td>\n",
       "      <td>162</td>\n",
       "      <td>162</td>\n",
       "      <td>6</td>\n",
       "      <td>4</td>\n",
       "      <td>1.0</td>\n",
       "      <td>27762.0</td>\n",
       "      <td>203.0</td>\n",
       "      <td>1</td>\n",
       "    </tr>\n",
       "    <tr>\n",
       "      <th>171903</th>\n",
       "      <td>20161002</td>\n",
       "      <td>1</td>\n",
       "      <td>162</td>\n",
       "      <td>162</td>\n",
       "      <td>2</td>\n",
       "      <td>5</td>\n",
       "      <td>1.0</td>\n",
       "      <td>36935.0</td>\n",
       "      <td>159.0</td>\n",
       "      <td>0</td>\n",
       "    </tr>\n",
       "    <tr>\n",
       "      <th>171904</th>\n",
       "      <td>20161002</td>\n",
       "      <td>1</td>\n",
       "      <td>162</td>\n",
       "      <td>162</td>\n",
       "      <td>1</td>\n",
       "      <td>7</td>\n",
       "      <td>1.0</td>\n",
       "      <td>41445.0</td>\n",
       "      <td>184.0</td>\n",
       "      <td>0</td>\n",
       "    </tr>\n",
       "    <tr>\n",
       "      <th>171905</th>\n",
       "      <td>20161002</td>\n",
       "      <td>1</td>\n",
       "      <td>162</td>\n",
       "      <td>162</td>\n",
       "      <td>4</td>\n",
       "      <td>10</td>\n",
       "      <td>1.0</td>\n",
       "      <td>44615.0</td>\n",
       "      <td>192.0</td>\n",
       "      <td>0</td>\n",
       "    </tr>\n",
       "    <tr>\n",
       "      <th>171906</th>\n",
       "      <td>20161002</td>\n",
       "      <td>1</td>\n",
       "      <td>161</td>\n",
       "      <td>162</td>\n",
       "      <td>7</td>\n",
       "      <td>10</td>\n",
       "      <td>1.0</td>\n",
       "      <td>28730.0</td>\n",
       "      <td>216.0</td>\n",
       "      <td>0</td>\n",
       "    </tr>\n",
       "  </tbody>\n",
       "</table>\n",
       "<p>77594 rows × 10 columns</p>\n",
       "</div>"
      ],
      "text/plain": [
       "            date  day_of_week  v_game_number  h_game_number  v_score  h_score  \\\n",
       "94311   19600412            3              1              1        4        9   \n",
       "94312   19600412            3              1              1        2        3   \n",
       "94313   19600412            3              1              1        3        4   \n",
       "94314   19600412            3              1              1        1        3   \n",
       "94315   19600413            4              2              2        4        0   \n",
       "...          ...          ...            ...            ...      ...      ...   \n",
       "171902  20161002            1            162            162        6        4   \n",
       "171903  20161002            1            162            162        2        5   \n",
       "171904  20161002            1            162            162        1        7   \n",
       "171905  20161002            1            162            162        4       10   \n",
       "171906  20161002            1            161            162        7       10   \n",
       "\n",
       "        day_night  attendance  length_minutes  vist_win  \n",
       "94311         1.0     30075.0           154.0         0  \n",
       "94312         0.0     67550.0           197.0         0  \n",
       "94313         1.0     39888.0           157.0         0  \n",
       "94314         1.0     42269.0           141.0         0  \n",
       "94315         0.0     24475.0           147.0         1  \n",
       "...           ...         ...             ...       ...  \n",
       "171902        1.0     27762.0           203.0         1  \n",
       "171903        1.0     36935.0           159.0         0  \n",
       "171904        1.0     41445.0           184.0         0  \n",
       "171905        1.0     44615.0           192.0         0  \n",
       "171906        1.0     28730.0           216.0         0  \n",
       "\n",
       "[77594 rows x 10 columns]"
      ]
     },
     "execution_count": 159,
     "metadata": {},
     "output_type": "execute_result"
    }
   ],
   "source": [
    "#Segmenting dataset\n",
    "df_3 = df_2[df_2[\"date\"] > 19600411]\n",
    "df_3"
   ]
  },
  {
   "cell_type": "code",
   "execution_count": 160,
   "id": "2b8ed9b3",
   "metadata": {},
   "outputs": [],
   "source": [
    "# drop date feature\n",
    "df_3 = df_3.drop(['date', 'v_score', 'h_score'],axis=1)"
   ]
  },
  {
   "cell_type": "code",
   "execution_count": 161,
   "id": "084a7190",
   "metadata": {},
   "outputs": [
    {
     "data": {
      "text/plain": [
       "day_of_week         int64\n",
       "v_game_number       int64\n",
       "h_game_number       int64\n",
       "day_night         float64\n",
       "attendance        float64\n",
       "length_minutes    float64\n",
       "vist_win            int32\n",
       "dtype: object"
      ]
     },
     "execution_count": 161,
     "metadata": {},
     "output_type": "execute_result"
    }
   ],
   "source": [
    "df_3.dtypes"
   ]
  },
  {
   "cell_type": "code",
   "execution_count": 162,
   "id": "c26f1967",
   "metadata": {},
   "outputs": [
    {
     "name": "stdout",
     "output_type": "stream",
     "text": [
      "<class 'pandas.core.frame.DataFrame'>\n",
      "Int64Index: 77594 entries, 94311 to 171906\n",
      "Data columns (total 7 columns):\n",
      " #   Column          Non-Null Count  Dtype  \n",
      "---  ------          --------------  -----  \n",
      " 0   day_of_week     77594 non-null  int64  \n",
      " 1   v_game_number   77594 non-null  int64  \n",
      " 2   h_game_number   77594 non-null  int64  \n",
      " 3   day_night       77594 non-null  float64\n",
      " 4   attendance      77594 non-null  float64\n",
      " 5   length_minutes  77594 non-null  float64\n",
      " 6   vist_win        77594 non-null  int32  \n",
      "dtypes: float64(3), int32(1), int64(3)\n",
      "memory usage: 4.4 MB\n"
     ]
    }
   ],
   "source": [
    "df_3.info()"
   ]
  },
  {
   "cell_type": "markdown",
   "id": "6d4e243f",
   "metadata": {},
   "source": [
    "Modeling"
   ]
  },
  {
   "cell_type": "code",
   "execution_count": 163,
   "id": "2b044898",
   "metadata": {},
   "outputs": [],
   "source": [
    "from sklearn.model_selection import train_test_split\n",
    "from sklearn.pipeline import Pipeline\n",
    "from sklearn.impute import SimpleImputer \n",
    "from sklearn.model_selection import TimeSeriesSplit\n",
    "from sklearn.model_selection import cross_validate\n",
    "\n",
    "from sklearn.neighbors import KNeighborsClassifier\n",
    "from sklearn.svm import SVC\n",
    "from sklearn.linear_model import LogisticRegression\n",
    "from sklearn.naive_bayes import GaussianNB"
   ]
  },
  {
   "cell_type": "code",
   "execution_count": 164,
   "id": "860d79f6",
   "metadata": {},
   "outputs": [],
   "source": [
    "#VS\n",
    "from yellowbrick.classifier import classification_report, confusion_matrix, discrimination_threshold"
   ]
  },
  {
   "cell_type": "code",
   "execution_count": 165,
   "id": "58702bad",
   "metadata": {},
   "outputs": [],
   "source": [
    "scale= StandardScaler()"
   ]
  },
  {
   "cell_type": "code",
   "execution_count": 166,
   "id": "0064bff0",
   "metadata": {},
   "outputs": [
    {
     "data": {
      "text/plain": [
       "StandardScaler(copy=True, with_mean=True, with_std=True)"
      ]
     },
     "execution_count": 166,
     "metadata": {},
     "output_type": "execute_result"
    }
   ],
   "source": [
    "scale.fit(df_3)"
   ]
  },
  {
   "cell_type": "code",
   "execution_count": 167,
   "id": "59d08fcf",
   "metadata": {},
   "outputs": [],
   "source": [
    "features = df_3[[\n",
    "    'day_of_week','v_game_number','h_game_number'\n",
    "    ,'attendance','length_minutes', 'day_night']]\n",
    "\n",
    "target = df_3[['vist_win']].values.ravel()"
   ]
  },
  {
   "cell_type": "code",
   "execution_count": 168,
   "id": "7faf8dc1",
   "metadata": {},
   "outputs": [],
   "source": [
    "from sklearn.ensemble import RandomForestClassifier\n",
    "from yellowbrick.datasets import load_occupancy\n",
    "from yellowbrick.model_selection import FeatureImportances"
   ]
  },
  {
   "cell_type": "code",
   "execution_count": 169,
   "id": "2be0586f",
   "metadata": {},
   "outputs": [
    {
     "data": {
      "image/png": "[encoded data removed]",
      "text/plain": [
       "<Figure size 576x396 with 1 Axes>"
      ]
     },
     "metadata": {},
     "output_type": "display_data"
    },
    {
     "data": {
      "text/plain": [
       "<AxesSubplot:title={'center':'Feature Importances of 6 Features using RandomForestClassifier'}, xlabel='relative importance'>"
      ]
     },
     "execution_count": 169,
     "metadata": {},
     "output_type": "execute_result"
    }
   ],
   "source": [
    "# Load the classification data set\n",
    "\n",
    "model = RandomForestClassifier(n_estimators=10)\n",
    "viz = FeatureImportances(model)\n",
    "viz.fit(features, target)\n",
    "viz.show()"
   ]
  },
  {
   "cell_type": "code",
   "execution_count": 170,
   "id": "9ce963fe",
   "metadata": {},
   "outputs": [],
   "source": [
    "#split the data\n",
    "X_train, X_test, y_train, y_test = train_test_split(\n",
    "    features, target, test_size=0.2\n",
    ")"
   ]
  },
  {
   "cell_type": "code",
   "execution_count": 171,
   "id": "cca69dc2",
   "metadata": {},
   "outputs": [
    {
     "data": {
      "text/plain": [
       "(62075, 6)"
      ]
     },
     "execution_count": 171,
     "metadata": {},
     "output_type": "execute_result"
    }
   ],
   "source": [
    "X_train.shape"
   ]
  },
  {
   "cell_type": "code",
   "execution_count": 172,
   "id": "3c6ac88f",
   "metadata": {},
   "outputs": [
    {
     "data": {
      "text/plain": [
       "(62075,)"
      ]
     },
     "execution_count": 172,
     "metadata": {},
     "output_type": "execute_result"
    }
   ],
   "source": [
    "y_train.shape"
   ]
  },
  {
   "cell_type": "code",
   "execution_count": 173,
   "id": "cbcbbf71",
   "metadata": {},
   "outputs": [
    {
     "data": {
      "text/plain": [
       "{'fit_time': array([0.01548386, 0.01561284, 0.        , 0.0156548 , 0.03121042]),\n",
       " 'score_time': array([0.01558566, 0.        , 0.015589  , 0.        , 0.        ]),\n",
       " 'test_score': array([0.52150696, 0.51949551, 0.51538782, 0.51640914, 0.5175307 ])}"
      ]
     },
     "execution_count": 173,
     "metadata": {},
     "output_type": "execute_result"
    }
   ],
   "source": [
    "# Taking the best seven features and applying them to different ML models\n",
    "cross_validate(GaussianNB(), X_train, y_train, cv=TimeSeriesSplit(), scoring='f1_macro')"
   ]
  },
  {
   "cell_type": "code",
   "execution_count": 174,
   "id": "df9a5133",
   "metadata": {},
   "outputs": [
    {
     "data": {
      "image/png": "[encoded data removed]",
      "text/plain": [
       "<Figure size 576x396 with 1 Axes>"
      ]
     },
     "metadata": {},
     "output_type": "display_data"
    },
    {
     "data": {
      "text/plain": [
       "ConfusionMatrix(ax=<AxesSubplot:title={'center':'GaussianNB Confusion Matrix'}, xlabel='Predicted Class', ylabel='True Class'>,\n",
       "                classes=None,\n",
       "                cmap=<matplotlib.colors.ListedColormap object at 0x0000018C44B846A0>,\n",
       "                encoder=None,\n",
       "                estimator=GaussianNB(priors=None, var_smoothing=1e-09),\n",
       "                fontsize=None, force_model=False, is_fitted=False,\n",
       "                percent=False, sample_weight=None)"
      ]
     },
     "execution_count": 174,
     "metadata": {},
     "output_type": "execute_result"
    }
   ],
   "source": [
    "confusion_matrix(GaussianNB(), X_train, y_train, X_test, y_test, is_fitted=False)"
   ]
  },
  {
   "cell_type": "code",
   "execution_count": 175,
   "id": "e619f7a2",
   "metadata": {},
   "outputs": [
    {
     "data": {
      "image/png": "[encoded data removed]",
      "text/plain": [
       "<Figure size 576x396 with 2 Axes>"
      ]
     },
     "metadata": {},
     "output_type": "display_data"
    },
    {
     "data": {
      "text/plain": [
       "ClassificationReport(ax=<AxesSubplot:title={'center':'GaussianNB Classification Report'}>,\n",
       "                     classes=None,\n",
       "                     cmap=<matplotlib.colors.ListedColormap object at 0x0000018C26CC59D0>,\n",
       "                     encoder=None,\n",
       "                     estimator=GaussianNB(priors=None, var_smoothing=1e-09),\n",
       "                     force_model=False, is_fitted=False, support=None)"
      ]
     },
     "execution_count": 175,
     "metadata": {},
     "output_type": "execute_result"
    }
   ],
   "source": [
    "classification_report(GaussianNB(), X_train, y_train, X_test, y_test,scoring='f1_macro', is_fitted=False)"
   ]
  },
  {
   "cell_type": "code",
   "execution_count": 176,
   "id": "0ecff219",
   "metadata": {},
   "outputs": [],
   "source": [
    "#cross_validate(SVC(kernel='rbf', degree=3), X_train, y_train, cv=TimeSeriesSplit(), scoring='f1_macro')\n",
    "#confusion_matrix(SVC(kernel='rbf', degree=3), X_train, y_train, X_test, y_test, is_fitted=False)\n",
    "#classification_report(SVC(kernel='rbf', degree=3), X_train, y_train, X_test, y_test,scoring='f1_macro', is_fitted=False)"
   ]
  },
  {
   "cell_type": "code",
   "execution_count": 177,
   "id": "86742a4c",
   "metadata": {},
   "outputs": [
    {
     "data": {
      "text/plain": [
       "{'fit_time': array([0.06515861, 0.08377481, 0.10937834, 0.15529609, 0.23445559]),\n",
       " 'score_time': array([0.52458572, 0.55317426, 0.55969095, 0.51594567, 0.49260545]),\n",
       " 'test_score': array([0.51129218, 0.51660042, 0.51392317, 0.51942145, 0.5190068 ])}"
      ]
     },
     "execution_count": 177,
     "metadata": {},
     "output_type": "execute_result"
    }
   ],
   "source": [
    "cross_validate(KNeighborsClassifier(n_neighbors=5), X_train, y_train, cv=TimeSeriesSplit(),\n",
    "               scoring='f1_macro')"
   ]
  },
  {
   "cell_type": "code",
   "execution_count": 178,
   "id": "443b69c0",
   "metadata": {},
   "outputs": [
    {
     "data": {
      "image/png": "[encoded data removed]",
      "text/plain": [
       "<Figure size 576x396 with 1 Axes>"
      ]
     },
     "metadata": {},
     "output_type": "display_data"
    },
    {
     "data": {
      "text/plain": [
       "ConfusionMatrix(ax=<AxesSubplot:title={'center':'KNeighborsClassifier Confusion Matrix'}, xlabel='Predicted Class', ylabel='True Class'>,\n",
       "                classes=None,\n",
       "                cmap=<matplotlib.colors.ListedColormap object at 0x0000018C26ABDE80>,\n",
       "                encoder=None,\n",
       "                estimator=KNeighborsClassifier(algorithm='auto', leaf_size=30,\n",
       "                                               metric='minkowski',\n",
       "                                               metric_params=None, n_jobs=None,\n",
       "                                               n_neighbors=5, p=2,\n",
       "                                               weights='uniform'),\n",
       "                fontsize=None, force_model=False, is_fitted=False,\n",
       "                percent=False, sample_weight=None)"
      ]
     },
     "execution_count": 178,
     "metadata": {},
     "output_type": "execute_result"
    }
   ],
   "source": [
    "confusion_matrix(KNeighborsClassifier(n_neighbors=5), X_train, y_train, X_test, y_test, is_fitted=False)"
   ]
  },
  {
   "cell_type": "code",
   "execution_count": 179,
   "id": "0afa20f3",
   "metadata": {},
   "outputs": [
    {
     "data": {
      "image/png": "[encoded data removed]",
      "text/plain": [
       "<Figure size 576x396 with 2 Axes>"
      ]
     },
     "metadata": {},
     "output_type": "display_data"
    },
    {
     "data": {
      "text/plain": [
       "ClassificationReport(ax=<AxesSubplot:title={'center':'KNeighborsClassifier Classification Report'}>,\n",
       "                     classes=None,\n",
       "                     cmap=<matplotlib.colors.ListedColormap object at 0x0000018C26147EE0>,\n",
       "                     encoder=None,\n",
       "                     estimator=KNeighborsClassifier(algorithm='auto',\n",
       "                                                    leaf_size=30,\n",
       "                                                    metric='minkowski',\n",
       "                                                    metric_params=None,\n",
       "                                                    n_jobs=None, n_neighbors=5,\n",
       "                                                    p=2, weights='uniform'),\n",
       "                     force_model=False, is_fitted=False, support=None)"
      ]
     },
     "execution_count": 179,
     "metadata": {},
     "output_type": "execute_result"
    }
   ],
   "source": [
    "classification_report(KNeighborsClassifier(n_neighbors=5), X_train, y_train, X_test, y_test,scoring='f1_macro', is_fitted=False)"
   ]
  },
  {
   "cell_type": "code",
   "execution_count": 180,
   "id": "a5286605",
   "metadata": {},
   "outputs": [
    {
     "data": {
      "text/plain": [
       "{'fit_time': array([0.13060212, 0.18273568, 0.16558027, 0.20844865, 0.23038793]),\n",
       " 'score_time': array([0.01562452, 0.00997186, 0.0059588 , 0.00797343, 0.00797653]),\n",
       " 'test_score': array([0.50865486, 0.50433932, 0.50224751, 0.49771858, 0.49396649])}"
      ]
     },
     "execution_count": 180,
     "metadata": {},
     "output_type": "execute_result"
    }
   ],
   "source": [
    "cross_validate(LogisticRegression(), X_train, y_train, cv=TimeSeriesSplit(), scoring='f1_macro')"
   ]
  },
  {
   "cell_type": "code",
   "execution_count": 181,
   "id": "5bc7759a",
   "metadata": {},
   "outputs": [
    {
     "data": {
      "image/png": "[encoded data removed]",
      "text/plain": [
       "<Figure size 576x396 with 1 Axes>"
      ]
     },
     "metadata": {},
     "output_type": "display_data"
    },
    {
     "data": {
      "text/plain": [
       "ConfusionMatrix(ax=<AxesSubplot:title={'center':'LogisticRegression Confusion Matrix'}, xlabel='Predicted Class', ylabel='True Class'>,\n",
       "                classes=None,\n",
       "                cmap=<matplotlib.colors.ListedColormap object at 0x0000018C26147610>,\n",
       "                encoder=None,\n",
       "                estimator=LogisticRegression(C=1.0, class_weight=None,\n",
       "                                             dual=False, fit_intercept=True,\n",
       "                                             intercept_scaling=1, l1_ratio=None,\n",
       "                                             max_iter=100, multi_class='auto',\n",
       "                                             n_jobs=None, penalty='l2',\n",
       "                                             random_state=None, solver='lbfgs',\n",
       "                                             tol=0.0001, verbose=0,\n",
       "                                             warm_start=False),\n",
       "                fontsize=None, force_model=False, is_fitted=False,\n",
       "                percent=False, sample_weight=None)"
      ]
     },
     "execution_count": 181,
     "metadata": {},
     "output_type": "execute_result"
    }
   ],
   "source": [
    "confusion_matrix(LogisticRegression(), X_train, y_train, X_test, y_test, is_fitted=False)"
   ]
  },
  {
   "cell_type": "code",
   "execution_count": 182,
   "id": "0ee97ec0",
   "metadata": {},
   "outputs": [
    {
     "data": {
      "image/png": "[encoded data removed]",
      "text/plain": [
       "<Figure size 576x396 with 2 Axes>"
      ]
     },
     "metadata": {},
     "output_type": "display_data"
    },
    {
     "data": {
      "text/plain": [
       "ClassificationReport(ax=<AxesSubplot:title={'center':'LogisticRegression Classification Report'}>,\n",
       "                     classes=None,\n",
       "                     cmap=<matplotlib.colors.ListedColormap object at 0x0000018C26B72520>,\n",
       "                     encoder=None,\n",
       "                     estimator=LogisticRegression(C=1.0, class_weight=None,\n",
       "                                                  dual=False,\n",
       "                                                  fit_intercept=True,\n",
       "                                                  intercept_scaling=1,\n",
       "                                                  l1_ratio=None, max_iter=100,\n",
       "                                                  multi_class='auto',\n",
       "                                                  n_jobs=None, penalty='l2',\n",
       "                                                  random_state=None,\n",
       "                                                  solver='lbfgs', tol=0.0001,\n",
       "                                                  verbose=0, warm_start=False),\n",
       "                     force_model=False, is_fitted=False, support=None)"
      ]
     },
     "execution_count": 182,
     "metadata": {},
     "output_type": "execute_result"
    }
   ],
   "source": [
    "classification_report(LogisticRegression(), X_train, y_train, X_test, y_test,scoring='f1_macro', is_fitted=False)"
   ]
  },
  {
   "cell_type": "markdown",
   "id": "3ba02419",
   "metadata": {},
   "source": [
    "Run All Models"
   ]
  },
  {
   "cell_type": "code",
   "execution_count": 183,
   "id": "4571c406",
   "metadata": {},
   "outputs": [],
   "source": [
    "import warnings\n",
    "warnings.filterwarnings('ignore')"
   ]
  },
  {
   "cell_type": "code",
   "execution_count": 184,
   "id": "fcd60606",
   "metadata": {},
   "outputs": [],
   "source": [
    "from sklearn.svm import SVR, LinearSVR\n",
    "from sklearn.tree import DecisionTreeRegressor\n",
    "from sklearn.neural_network import MLPRegressor\n",
    "from sklearn.neighbors import KNeighborsRegressor\n",
    "from sklearn.ensemble import RandomForestRegressor\n",
    "from sklearn.metrics import r2_score, mean_squared_error\n",
    "from sklearn.linear_model import Lasso, Ridge, ElasticNet\n",
    "from sklearn.model_selection import train_test_split as tts\n",
    "\n",
    "from yellowbrick.datasets import load_concrete\n",
    "from yellowbrick.regressor import ResidualsPlot"
   ]
  },
  {
   "cell_type": "code",
   "execution_count": 185,
   "id": "b7348bfc",
   "metadata": {},
   "outputs": [],
   "source": [
    "features = features"
   ]
  },
  {
   "cell_type": "code",
   "execution_count": 194,
   "id": "79bf66b8",
   "metadata": {},
   "outputs": [],
   "source": [
    "target = df_3[['vist_win']].values.ravel()"
   ]
  },
  {
   "cell_type": "code",
   "execution_count": 203,
   "id": "cba9be66",
   "metadata": {},
   "outputs": [],
   "source": [
    "XX = df_3.iloc[:, :-1].values\n",
    "yy = df_3.iloc[:,-1].values"
   ]
  },
  {
   "cell_type": "code",
   "execution_count": 204,
   "id": "1e5d3615",
   "metadata": {},
   "outputs": [
    {
     "data": {
      "text/plain": [
       "array([[3.0000e+00, 1.0000e+00, 1.0000e+00, 1.0000e+00, 3.0075e+04,\n",
       "        1.5400e+02],\n",
       "       [3.0000e+00, 1.0000e+00, 1.0000e+00, 0.0000e+00, 6.7550e+04,\n",
       "        1.9700e+02],\n",
       "       [3.0000e+00, 1.0000e+00, 1.0000e+00, 1.0000e+00, 3.9888e+04,\n",
       "        1.5700e+02],\n",
       "       ...,\n",
       "       [1.0000e+00, 1.6200e+02, 1.6200e+02, 1.0000e+00, 4.1445e+04,\n",
       "        1.8400e+02],\n",
       "       [1.0000e+00, 1.6200e+02, 1.6200e+02, 1.0000e+00, 4.4615e+04,\n",
       "        1.9200e+02],\n",
       "       [1.0000e+00, 1.6100e+02, 1.6200e+02, 1.0000e+00, 2.8730e+04,\n",
       "        2.1600e+02]])"
      ]
     },
     "execution_count": 204,
     "metadata": {},
     "output_type": "execute_result"
    }
   ],
   "source": [
    "XX"
   ]
  },
  {
   "cell_type": "code",
   "execution_count": 205,
   "id": "681fca00",
   "metadata": {},
   "outputs": [
    {
     "data": {
      "text/plain": [
       "array([0, 0, 0, ..., 0, 0, 0])"
      ]
     },
     "execution_count": 205,
     "metadata": {},
     "output_type": "execute_result"
    }
   ],
   "source": [
    "yy"
   ]
  },
  {
   "cell_type": "code",
   "execution_count": 206,
   "id": "1bbee110",
   "metadata": {},
   "outputs": [
    {
     "data": {
      "text/html": [
       "<div>\n",
       "<style scoped>\n",
       "    .dataframe tbody tr th:only-of-type {\n",
       "        vertical-align: middle;\n",
       "    }\n",
       "\n",
       "    .dataframe tbody tr th {\n",
       "        vertical-align: top;\n",
       "    }\n",
       "\n",
       "    .dataframe thead th {\n",
       "        text-align: right;\n",
       "    }\n",
       "</style>\n",
       "<table border=\"1\" class=\"dataframe\">\n",
       "  <thead>\n",
       "    <tr style=\"text-align: right;\">\n",
       "      <th></th>\n",
       "      <th>day_of_week</th>\n",
       "      <th>v_game_number</th>\n",
       "      <th>h_game_number</th>\n",
       "      <th>day_night</th>\n",
       "      <th>attendance</th>\n",
       "      <th>length_minutes</th>\n",
       "      <th>vist_win</th>\n",
       "    </tr>\n",
       "  </thead>\n",
       "  <tbody>\n",
       "    <tr>\n",
       "      <th>94311</th>\n",
       "      <td>3</td>\n",
       "      <td>1</td>\n",
       "      <td>1</td>\n",
       "      <td>1.0</td>\n",
       "      <td>30075.0</td>\n",
       "      <td>154.0</td>\n",
       "      <td>0</td>\n",
       "    </tr>\n",
       "    <tr>\n",
       "      <th>94312</th>\n",
       "      <td>3</td>\n",
       "      <td>1</td>\n",
       "      <td>1</td>\n",
       "      <td>0.0</td>\n",
       "      <td>67550.0</td>\n",
       "      <td>197.0</td>\n",
       "      <td>0</td>\n",
       "    </tr>\n",
       "    <tr>\n",
       "      <th>94313</th>\n",
       "      <td>3</td>\n",
       "      <td>1</td>\n",
       "      <td>1</td>\n",
       "      <td>1.0</td>\n",
       "      <td>39888.0</td>\n",
       "      <td>157.0</td>\n",
       "      <td>0</td>\n",
       "    </tr>\n",
       "    <tr>\n",
       "      <th>94314</th>\n",
       "      <td>3</td>\n",
       "      <td>1</td>\n",
       "      <td>1</td>\n",
       "      <td>1.0</td>\n",
       "      <td>42269.0</td>\n",
       "      <td>141.0</td>\n",
       "      <td>0</td>\n",
       "    </tr>\n",
       "    <tr>\n",
       "      <th>94315</th>\n",
       "      <td>4</td>\n",
       "      <td>2</td>\n",
       "      <td>2</td>\n",
       "      <td>0.0</td>\n",
       "      <td>24475.0</td>\n",
       "      <td>147.0</td>\n",
       "      <td>1</td>\n",
       "    </tr>\n",
       "  </tbody>\n",
       "</table>\n",
       "</div>"
      ],
      "text/plain": [
       "       day_of_week  v_game_number  h_game_number  day_night  attendance  \\\n",
       "94311            3              1              1        1.0     30075.0   \n",
       "94312            3              1              1        0.0     67550.0   \n",
       "94313            3              1              1        1.0     39888.0   \n",
       "94314            3              1              1        1.0     42269.0   \n",
       "94315            4              2              2        0.0     24475.0   \n",
       "\n",
       "       length_minutes  vist_win  \n",
       "94311           154.0         0  \n",
       "94312           197.0         0  \n",
       "94313           157.0         0  \n",
       "94314           141.0         0  \n",
       "94315           147.0         1  "
      ]
     },
     "execution_count": 206,
     "metadata": {},
     "output_type": "execute_result"
    }
   ],
   "source": [
    "df_3.head()"
   ]
  },
  {
   "cell_type": "code",
   "execution_count": 207,
   "id": "307c7cab",
   "metadata": {},
   "outputs": [],
   "source": [
    "regressors = [\n",
    "    SVR(),\n",
    "    Lasso(),\n",
    "    Ridge(),\n",
    "    LinearSVR(),\n",
    "    ElasticNet(),\n",
    "    MLPRegressor(),\n",
    "    KNeighborsRegressor(),\n",
    "    DecisionTreeRegressor(),\n",
    "    RandomForestRegressor(),\n",
    "]"
   ]
  },
  {
   "cell_type": "code",
   "execution_count": 208,
   "id": "95e75cae",
   "metadata": {},
   "outputs": [],
   "source": [
    "def score_model(XX, yy, estimator):\n",
    "    \"\"\"\n",
    "    Split the data into train and test splits and evaluate the mode\n",
    "    \"\"\"\n",
    "    XX_train, XX_test, yy_train, yy_test = tts(XX, yy)\n",
    "   \n",
    "    estimator.fit(XX_train, yy_train)\n",
    "    yy_pred = estimator.predict(XX_test)\n",
    "    print(\"{}: {}\".format(estimator.__class__.__name__, r2_score(yy_test, yy_pred)))"
   ]
  },
  {
   "cell_type": "code",
   "execution_count": 209,
   "id": "ddbaf729",
   "metadata": {},
   "outputs": [
    {
     "name": "stdout",
     "output_type": "stream",
     "text": [
      "SVR: -0.5133746783485524\n",
      "Lasso: 0.016031885420300096\n",
      "Ridge: 0.022530699610258886\n",
      "LinearSVR: -2.53935072624995\n",
      "ElasticNet: 0.021589853835687567\n",
      "MLPRegressor: -2.360359853704875\n",
      "KNeighborsRegressor: -0.16569858405439053\n",
      "DecisionTreeRegressor: -0.9845486258732465\n",
      "RandomForestRegressor: -0.05498940476802927\n"
     ]
    }
   ],
   "source": [
    "for regressor in regressors:\n",
    "    score_model(XX, yy, regressor)"
   ]
  },
  {
   "cell_type": "code",
   "execution_count": null,
   "id": "d69256c4",
   "metadata": {},
   "outputs": [],
   "source": []
  },
  {
   "cell_type": "code",
   "execution_count": null,
   "id": "453e3b6e",
   "metadata": {},
   "outputs": [],
   "source": []
  }
 ],
 "metadata": {
  "kernelspec": {
   "display_name": "Python 3",
   "language": "python",
   "name": "python3"
  },
  "language_info": {
   "codemirror_mode": {
    "name": "ipython",
    "version": 3
   },
   "file_extension": ".py",
   "mimetype": "text/x-python",
   "name": "python",
   "nbconvert_exporter": "python",
   "pygments_lexer": "ipython3",
   "version": "3.8.8"
  }
 },
 "nbformat": 4,
 "nbformat_minor": 5
}
