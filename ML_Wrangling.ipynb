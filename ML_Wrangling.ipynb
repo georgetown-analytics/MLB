{
 "cells": [
  {
   "cell_type": "code",
   "execution_count": 1,
   "id": "2ee8ed19",
   "metadata": {},
   "outputs": [],
   "source": [
    "import pandas as pd\n",
    "import numpy as np\n",
    "from datetime import datetime\n",
    "import os\n",
    "from matplotlib import pyplot"
   ]
  },
  {
   "cell_type": "markdown",
   "id": "4d2dd2d0",
   "metadata": {},
   "source": [
    "## Game  by game describtion of home team/ visiter team wins "
   ]
  },
  {
   "cell_type": "code",
   "execution_count": 2,
   "id": "8b242c90",
   "metadata": {},
   "outputs": [
    {
     "name": "stderr",
     "output_type": "stream",
     "text": [
      "C:\\Users\\amjad\\anaconda3\\lib\\site-packages\\IPython\\core\\interactiveshell.py:3165: DtypeWarning: Columns (12,13,14,15,19,20,81,83,85,87,93,94,95,96,97,98,99,100,105,106,108,109,111,112,114,115,117,118,120,121,123,124,126,127,129,130,132,133,135,136,138,139,141,142,144,145,147,148,150,151,153,154,156,157,160) have mixed types.Specify dtype option on import or set low_memory=False.\n",
      "  has_raised = await self.run_ast_nodes(code_ast.body, cell_name,\n"
     ]
    }
   ],
   "source": [
<<<<<<< HEAD
    "mainData = pd.read_csv(\"game_logs.csv\")"
=======
    "mainData = pd.read_csv(\"game_logs.csv\")\n",
    "     # just taking the first 40k rows for efficiency\n"
>>>>>>> 99fbb42c6b0a82f6b194645a974d6fc0bf2cab8c
   ]
  },
  {
   "cell_type": "code",
   "execution_count": 3,
   "id": "13469455",
   "metadata": {},
   "outputs": [
    {
     "data": {
      "text/html": [
       "<div>\n",
       "<style scoped>\n",
       "    .dataframe tbody tr th:only-of-type {\n",
       "        vertical-align: middle;\n",
       "    }\n",
       "\n",
       "    .dataframe tbody tr th {\n",
       "        vertical-align: top;\n",
       "    }\n",
       "\n",
       "    .dataframe thead th {\n",
       "        text-align: right;\n",
       "    }\n",
       "</style>\n",
       "<table border=\"1\" class=\"dataframe\">\n",
       "  <thead>\n",
       "    <tr style=\"text-align: right;\">\n",
       "      <th></th>\n",
       "      <th>date</th>\n",
       "      <th>number_of_game</th>\n",
       "      <th>day_of_week</th>\n",
       "      <th>v_name</th>\n",
       "      <th>v_league</th>\n",
       "      <th>v_game_number</th>\n",
       "      <th>h_name</th>\n",
       "      <th>h_league</th>\n",
       "      <th>h_game_number</th>\n",
       "      <th>v_score</th>\n",
       "      <th>...</th>\n",
       "      <th>h_player_7_name</th>\n",
       "      <th>h_player_7_def_pos</th>\n",
       "      <th>h_player_8_id</th>\n",
       "      <th>h_player_8_name</th>\n",
       "      <th>h_player_8_def_pos</th>\n",
       "      <th>h_player_9_id</th>\n",
       "      <th>h_player_9_name</th>\n",
       "      <th>h_player_9_def_pos</th>\n",
       "      <th>additional_info</th>\n",
       "      <th>acquisition_info</th>\n",
       "    </tr>\n",
       "  </thead>\n",
       "  <tbody>\n",
       "    <tr>\n",
       "      <th>0</th>\n",
       "      <td>18710504</td>\n",
       "      <td>0</td>\n",
       "      <td>5</td>\n",
       "      <td>CL1</td>\n",
       "      <td>na</td>\n",
       "      <td>1</td>\n",
       "      <td>FW1</td>\n",
       "      <td>na</td>\n",
       "      <td>1</td>\n",
       "      <td>0</td>\n",
       "      <td>...</td>\n",
       "      <td>Ed Mincher</td>\n",
       "      <td>7.0</td>\n",
       "      <td>mcdej101</td>\n",
       "      <td>James McDermott</td>\n",
       "      <td>8.0</td>\n",
       "      <td>kellb105</td>\n",
       "      <td>Bill Kelly</td>\n",
       "      <td>9.0</td>\n",
       "      <td>NaN</td>\n",
       "      <td>Y</td>\n",
       "    </tr>\n",
       "    <tr>\n",
       "      <th>1</th>\n",
       "      <td>18710505</td>\n",
       "      <td>0</td>\n",
       "      <td>6</td>\n",
       "      <td>BS1</td>\n",
       "      <td>na</td>\n",
       "      <td>1</td>\n",
       "      <td>WS3</td>\n",
       "      <td>na</td>\n",
       "      <td>1</td>\n",
       "      <td>20</td>\n",
       "      <td>...</td>\n",
       "      <td>Asa Brainard</td>\n",
       "      <td>1.0</td>\n",
       "      <td>burrh101</td>\n",
       "      <td>Henry Burroughs</td>\n",
       "      <td>9.0</td>\n",
       "      <td>berth101</td>\n",
       "      <td>Henry Berthrong</td>\n",
       "      <td>8.0</td>\n",
       "      <td>HTBF</td>\n",
       "      <td>Y</td>\n",
       "    </tr>\n",
       "    <tr>\n",
       "      <th>2</th>\n",
       "      <td>18710506</td>\n",
       "      <td>0</td>\n",
       "      <td>7</td>\n",
       "      <td>CL1</td>\n",
       "      <td>na</td>\n",
       "      <td>2</td>\n",
       "      <td>RC1</td>\n",
       "      <td>na</td>\n",
       "      <td>1</td>\n",
       "      <td>12</td>\n",
       "      <td>...</td>\n",
       "      <td>Pony Sager</td>\n",
       "      <td>6.0</td>\n",
       "      <td>birdg101</td>\n",
       "      <td>George Bird</td>\n",
       "      <td>7.0</td>\n",
       "      <td>stirg101</td>\n",
       "      <td>Gat Stires</td>\n",
       "      <td>9.0</td>\n",
       "      <td>NaN</td>\n",
       "      <td>Y</td>\n",
       "    </tr>\n",
       "    <tr>\n",
       "      <th>3</th>\n",
       "      <td>18710508</td>\n",
       "      <td>0</td>\n",
       "      <td>2</td>\n",
       "      <td>CL1</td>\n",
       "      <td>na</td>\n",
       "      <td>3</td>\n",
       "      <td>CH1</td>\n",
       "      <td>na</td>\n",
       "      <td>1</td>\n",
       "      <td>12</td>\n",
       "      <td>...</td>\n",
       "      <td>Ed Duffy</td>\n",
       "      <td>6.0</td>\n",
       "      <td>pinke101</td>\n",
       "      <td>Ed Pinkham</td>\n",
       "      <td>5.0</td>\n",
       "      <td>zettg101</td>\n",
       "      <td>George Zettlein</td>\n",
       "      <td>1.0</td>\n",
       "      <td>NaN</td>\n",
       "      <td>Y</td>\n",
       "    </tr>\n",
       "    <tr>\n",
       "      <th>4</th>\n",
       "      <td>18710509</td>\n",
       "      <td>0</td>\n",
       "      <td>3</td>\n",
       "      <td>BS1</td>\n",
       "      <td>na</td>\n",
       "      <td>2</td>\n",
       "      <td>TRO</td>\n",
       "      <td>na</td>\n",
       "      <td>1</td>\n",
       "      <td>9</td>\n",
       "      <td>...</td>\n",
       "      <td>Steve Bellan</td>\n",
       "      <td>5.0</td>\n",
       "      <td>pikel101</td>\n",
       "      <td>Lip Pike</td>\n",
       "      <td>3.0</td>\n",
       "      <td>cravb101</td>\n",
       "      <td>Bill Craver</td>\n",
       "      <td>6.0</td>\n",
       "      <td>HTBF</td>\n",
       "      <td>Y</td>\n",
       "    </tr>\n",
       "  </tbody>\n",
       "</table>\n",
       "<p>5 rows × 161 columns</p>\n",
       "</div>"
      ],
      "text/plain": [
       "       date  number_of_game  day_of_week v_name v_league  v_game_number  \\\n",
       "0  18710504               0            5    CL1       na              1   \n",
       "1  18710505               0            6    BS1       na              1   \n",
       "2  18710506               0            7    CL1       na              2   \n",
       "3  18710508               0            2    CL1       na              3   \n",
       "4  18710509               0            3    BS1       na              2   \n",
       "\n",
       "  h_name h_league  h_game_number  v_score  ...  h_player_7_name  \\\n",
       "0    FW1       na              1        0  ...       Ed Mincher   \n",
       "1    WS3       na              1       20  ...     Asa Brainard   \n",
       "2    RC1       na              1       12  ...       Pony Sager   \n",
       "3    CH1       na              1       12  ...         Ed Duffy   \n",
       "4    TRO       na              1        9  ...     Steve Bellan   \n",
       "\n",
       "   h_player_7_def_pos h_player_8_id  h_player_8_name h_player_8_def_pos  \\\n",
       "0                 7.0      mcdej101  James McDermott                8.0   \n",
       "1                 1.0      burrh101  Henry Burroughs                9.0   \n",
       "2                 6.0      birdg101      George Bird                7.0   \n",
       "3                 6.0      pinke101       Ed Pinkham                5.0   \n",
       "4                 5.0      pikel101         Lip Pike                3.0   \n",
       "\n",
       "  h_player_9_id  h_player_9_name  h_player_9_def_pos  additional_info  \\\n",
       "0      kellb105       Bill Kelly                 9.0              NaN   \n",
       "1      berth101  Henry Berthrong                 8.0             HTBF   \n",
       "2      stirg101       Gat Stires                 9.0              NaN   \n",
       "3      zettg101  George Zettlein                 1.0              NaN   \n",
       "4      cravb101      Bill Craver                 6.0             HTBF   \n",
       "\n",
       "  acquisition_info  \n",
       "0                Y  \n",
       "1                Y  \n",
       "2                Y  \n",
       "3                Y  \n",
       "4                Y  \n",
       "\n",
       "[5 rows x 161 columns]"
      ]
     },
     "execution_count": 3,
     "metadata": {},
     "output_type": "execute_result"
    }
   ],
   "source": [
    "mainData.head()"
   ]
  },
  {
   "cell_type": "code",
   "execution_count": 4,
   "id": "e1491373",
   "metadata": {},
   "outputs": [],
   "source": [
    "df = mainData[['date', 'day_of_week','v_game_number','h_game_number', 'v_score','h_score','day_night',\n",
    "               'attendance','length_minutes']].copy()"
   ]
  },
  {
   "cell_type": "code",
   "execution_count": 5,
   "id": "e5aef7b6",
   "metadata": {},
   "outputs": [
    {
     "data": {
      "text/plain": [
       "(171907, 9)"
      ]
     },
     "execution_count": 5,
     "metadata": {},
     "output_type": "execute_result"
    }
   ],
   "source": [
    "df.shape"
   ]
  },
  {
   "cell_type": "code",
   "execution_count": 6,
   "id": "ce129a12",
   "metadata": {},
   "outputs": [
    {
     "data": {
      "text/plain": [
       "date                int64\n",
       "day_of_week         int64\n",
       "v_game_number       int64\n",
       "h_game_number       int64\n",
       "v_score             int64\n",
       "h_score             int64\n",
       "day_night          object\n",
       "attendance        float64\n",
       "length_minutes    float64\n",
       "dtype: object"
      ]
     },
     "execution_count": 6,
     "metadata": {},
     "output_type": "execute_result"
    }
   ],
   "source": [
    "df.dtypes"
   ]
  },
  {
   "cell_type": "code",
   "execution_count": 7,
   "id": "33f4860f",
   "metadata": {},
   "outputs": [],
   "source": [
    "# change date into datetime\n",
    "# doing this step create a problem that it makes the data not fitted for the transformer! it make it 3d\n",
    "#df['date'] = datetime.strptime('18710504', '%Y%m%d')\n",
    "df['day_night'] = df['day_night'].replace(['D','N'],[1,0])"
   ]
  },
  {
   "cell_type": "code",
   "execution_count": 8,
   "id": "3c1c4afb",
   "metadata": {},
   "outputs": [
    {
     "data": {
      "text/html": [
       "<div>\n",
       "<style scoped>\n",
       "    .dataframe tbody tr th:only-of-type {\n",
       "        vertical-align: middle;\n",
       "    }\n",
       "\n",
       "    .dataframe tbody tr th {\n",
       "        vertical-align: top;\n",
       "    }\n",
       "\n",
       "    .dataframe thead th {\n",
       "        text-align: right;\n",
       "    }\n",
       "</style>\n",
       "<table border=\"1\" class=\"dataframe\">\n",
       "  <thead>\n",
       "    <tr style=\"text-align: right;\">\n",
       "      <th></th>\n",
       "      <th>day_night</th>\n",
       "    </tr>\n",
       "  </thead>\n",
       "  <tbody>\n",
       "    <tr>\n",
       "      <th>0</th>\n",
       "      <td>1.0</td>\n",
       "    </tr>\n",
       "    <tr>\n",
       "      <th>1</th>\n",
       "      <td>1.0</td>\n",
       "    </tr>\n",
       "    <tr>\n",
       "      <th>2</th>\n",
       "      <td>1.0</td>\n",
       "    </tr>\n",
       "    <tr>\n",
       "      <th>3</th>\n",
       "      <td>1.0</td>\n",
       "    </tr>\n",
       "    <tr>\n",
       "      <th>4</th>\n",
       "      <td>1.0</td>\n",
       "    </tr>\n",
       "    <tr>\n",
       "      <th>...</th>\n",
       "      <td>...</td>\n",
       "    </tr>\n",
       "    <tr>\n",
       "      <th>171902</th>\n",
       "      <td>1.0</td>\n",
       "    </tr>\n",
       "    <tr>\n",
       "      <th>171903</th>\n",
       "      <td>1.0</td>\n",
       "    </tr>\n",
       "    <tr>\n",
       "      <th>171904</th>\n",
       "      <td>1.0</td>\n",
       "    </tr>\n",
       "    <tr>\n",
       "      <th>171905</th>\n",
       "      <td>1.0</td>\n",
       "    </tr>\n",
       "    <tr>\n",
       "      <th>171906</th>\n",
       "      <td>1.0</td>\n",
       "    </tr>\n",
       "  </tbody>\n",
       "</table>\n",
       "<p>171907 rows × 1 columns</p>\n",
       "</div>"
      ],
      "text/plain": [
       "        day_night\n",
       "0             1.0\n",
       "1             1.0\n",
       "2             1.0\n",
       "3             1.0\n",
       "4             1.0\n",
       "...           ...\n",
       "171902        1.0\n",
       "171903        1.0\n",
       "171904        1.0\n",
       "171905        1.0\n",
       "171906        1.0\n",
       "\n",
       "[171907 rows x 1 columns]"
      ]
     },
     "execution_count": 8,
     "metadata": {},
     "output_type": "execute_result"
    }
   ],
   "source": [
    "df[['day_night']]"
   ]
  },
  {
   "cell_type": "code",
   "execution_count": 9,
   "id": "4f9d9448",
   "metadata": {},
   "outputs": [],
   "source": [
    "# calculate which column is greater than the other then if the visiting team win v=1, if the home team win h=0\n",
    "df['visit_win'] = np.where(\n",
    "    df['v_score'] > df['h_score'], 1, 0)"
   ]
  },
  {
   "cell_type": "code",
   "execution_count": 10,
   "id": "b60fd2da",
   "metadata": {},
   "outputs": [
    {
     "data": {
      "text/html": [
       "<div>\n",
       "<style scoped>\n",
       "    .dataframe tbody tr th:only-of-type {\n",
       "        vertical-align: middle;\n",
       "    }\n",
       "\n",
       "    .dataframe tbody tr th {\n",
       "        vertical-align: top;\n",
       "    }\n",
       "\n",
       "    .dataframe thead th {\n",
       "        text-align: right;\n",
       "    }\n",
       "</style>\n",
       "<table border=\"1\" class=\"dataframe\">\n",
       "  <thead>\n",
       "    <tr style=\"text-align: right;\">\n",
       "      <th></th>\n",
       "      <th>visit_win</th>\n",
       "    </tr>\n",
       "  </thead>\n",
       "  <tbody>\n",
       "    <tr>\n",
       "      <th>0</th>\n",
       "      <td>0</td>\n",
       "    </tr>\n",
       "    <tr>\n",
       "      <th>1</th>\n",
       "      <td>1</td>\n",
       "    </tr>\n",
       "    <tr>\n",
       "      <th>2</th>\n",
       "      <td>1</td>\n",
       "    </tr>\n",
       "    <tr>\n",
       "      <th>3</th>\n",
       "      <td>0</td>\n",
       "    </tr>\n",
       "    <tr>\n",
       "      <th>4</th>\n",
       "      <td>1</td>\n",
       "    </tr>\n",
       "    <tr>\n",
       "      <th>...</th>\n",
       "      <td>...</td>\n",
       "    </tr>\n",
       "    <tr>\n",
       "      <th>171902</th>\n",
       "      <td>1</td>\n",
       "    </tr>\n",
       "    <tr>\n",
       "      <th>171903</th>\n",
       "      <td>1</td>\n",
       "    </tr>\n",
       "    <tr>\n",
       "      <th>171904</th>\n",
       "      <td>1</td>\n",
       "    </tr>\n",
       "    <tr>\n",
       "      <th>171905</th>\n",
       "      <td>0</td>\n",
       "    </tr>\n",
       "    <tr>\n",
       "      <th>171906</th>\n",
       "      <td>1</td>\n",
       "    </tr>\n",
       "  </tbody>\n",
       "</table>\n",
       "<p>171907 rows × 1 columns</p>\n",
       "</div>"
      ],
      "text/plain": [
<<<<<<< HEAD
       "        visit_win\n",
       "0               0\n",
       "1               1\n",
       "2               1\n",
       "3               0\n",
       "4               1\n",
       "...           ...\n",
       "171902          1\n",
       "171903          1\n",
       "171904          1\n",
       "171905          0\n",
       "171906          1\n",
=======
       "        vist_win\n",
       "0              0\n",
       "1              1\n",
       "2              1\n",
       "3              0\n",
       "4              1\n",
       "...          ...\n",
       "171902         1\n",
       "171903         1\n",
       "171904         1\n",
       "171905         0\n",
       "171906         1\n",
>>>>>>> 99fbb42c6b0a82f6b194645a974d6fc0bf2cab8c
       "\n",
       "[171907 rows x 1 columns]"
      ]
     },
     "execution_count": 10,
     "metadata": {},
     "output_type": "execute_result"
    }
   ],
   "source": [
    "df[['visit_win']]"
   ]
  },
  {
   "cell_type": "code",
   "execution_count": 11,
   "id": "923ae31e",
   "metadata": {},
   "outputs": [],
   "source": [
    "win=df['visit_win'].value_counts()"
   ]
  },
  {
   "cell_type": "markdown",
   "id": "e45689ee",
   "metadata": {},
   "source": [
    "### - Detect impalance dataset"
   ]
  },
  {
   "cell_type": "markdown",
   "id": "e45689ee",
   "metadata": {},
   "source": [
    "#### Detect impalance dataset"
   ]
  },
  {
   "cell_type": "code",
   "execution_count": 14,
   "id": "84e9d14b",
   "metadata": {},
   "outputs": [
    {
     "data": {
      "text/plain": [
       "<AxesSubplot:>"
      ]
     },
     "execution_count": 14,
     "metadata": {},
     "output_type": "execute_result"
    },
    {
     "data": {
      "image/png": "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\n",
      "text/plain": [
       "<Figure size 432x288 with 1 Axes>"
      ]
     },
     "metadata": {
      "needs_background": "light"
     },
     "output_type": "display_data"
    }
   ],
   "source": [
    "win.plot(kind='bar')"
   ]
  },
  {
   "cell_type": "code",
   "execution_count": 15,
   "id": "55eb83ac",
   "metadata": {},
   "outputs": [],
   "source": [
    "df = df.replace([' ','NULL','na','(none)'],np.nan)"
   ]
  },
  {
   "cell_type": "markdown",
   "id": "ed2c6252",
   "metadata": {},
   "source": [
    "### - Acoording the analysis we detict a big gab in the score before 1960"
   ]
  },
  {
   "cell_type": "code",
   "execution_count": 23,
   "id": "c9bc7911",
   "metadata": {},
   "outputs": [],
   "source": [
    "df_2 = df[df[\"date\"] > 19600411]"
   ]
  },
  {
   "cell_type": "code",
   "execution_count": 24,
   "id": "79e4bd2d",
   "metadata": {},
   "outputs": [],
   "source": [
    "# drop any NaNs\n",
    "df_3 = df.dropna()"
   ]
  },
  {
   "cell_type": "code",
   "execution_count": 25,
   "id": "d3b3d19a",
   "metadata": {},
   "outputs": [
    {
     "data": {
      "text/plain": [
       "(114648, 10)"
      ]
     },
     "execution_count": 25,
     "metadata": {},
     "output_type": "execute_result"
    }
   ],
   "source": [
    "df_3.shape"
   ]
  },
  {
   "cell_type": "code",
   "execution_count": 26,
   "id": "6356268f",
   "metadata": {},
   "outputs": [
    {
     "data": {
      "text/plain": [
       "date                int64\n",
       "day_of_week         int64\n",
       "v_game_number       int64\n",
       "h_game_number       int64\n",
       "v_score             int64\n",
       "h_score             int64\n",
       "day_night         float64\n",
       "attendance        float64\n",
       "length_minutes    float64\n",
<<<<<<< HEAD
       "visit_win           int32\n",
=======
       "vist_win            int32\n",
>>>>>>> 99fbb42c6b0a82f6b194645a974d6fc0bf2cab8c
       "dtype: object"
      ]
     },
     "execution_count": 26,
     "metadata": {},
     "output_type": "execute_result"
    }
   ],
   "source": [
    "df_3.dtypes"
   ]
  },
  {
   "cell_type": "markdown",
   "id": "8283b5c3",
   "metadata": {},
   "source": [
    "## Modeling"
   ]
  },
  {
   "cell_type": "code",
   "execution_count": 27,
   "id": "cfd4f8df",
   "metadata": {},
   "outputs": [],
   "source": [
    "#ML model\n",
    "from sklearn.model_selection import train_test_split\n",
    "from sklearn.pipeline import Pipeline\n",
    "from sklearn.impute import SimpleImputer \n",
    "from sklearn.model_selection import TimeSeriesSplit\n",
    "from sklearn.model_selection import cross_validate\n",
    "\n",
    "from sklearn.neighbors import KNeighborsClassifier\n",
    "from sklearn.svm import SVC\n",
    "from sklearn.linear_model import LogisticRegression\n",
    "from sklearn.naive_bayes import GaussianNB"
   ]
  },
  {
   "cell_type": "code",
   "execution_count": 28,
   "id": "7c035a71",
   "metadata": {},
   "outputs": [],
   "source": [
    "#VS\n",
    "from yellowbrick.classifier import classification_report, confusion_matrix, discrimination_threshold"
   ]
  },
  {
   "cell_type": "code",
<<<<<<< HEAD
   "execution_count": 29,
=======
   "execution_count": 27,
>>>>>>> 99fbb42c6b0a82f6b194645a974d6fc0bf2cab8c
   "id": "aab345c4",
   "metadata": {},
   "outputs": [],
   "source": [
<<<<<<< HEAD
    "features = df_3[[\n",
=======
    "features = df_2[[\n",
>>>>>>> 99fbb42c6b0a82f6b194645a974d6fc0bf2cab8c
    "    'date', 'day_of_week','v_game_number','h_game_number'\n",
    "    ,'attendance','length_minutes', 'day_night']]\n",
    "\n",
    "target = df_3[['visit_win']].values.ravel()"
   ]
  },
  {
   "cell_type": "code",
<<<<<<< HEAD
   "execution_count": 30,
=======
   "execution_count": 28,
>>>>>>> 99fbb42c6b0a82f6b194645a974d6fc0bf2cab8c
   "id": "3af23ecc",
   "metadata": {},
   "outputs": [
    {
     "data": {
<<<<<<< HEAD
      "image/png": "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\n",
=======
      "image/png": "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\n",
>>>>>>> 99fbb42c6b0a82f6b194645a974d6fc0bf2cab8c
      "text/plain": [
       "<Figure size 576x396 with 1 Axes>"
      ]
     },
     "metadata": {},
     "output_type": "display_data"
    },
    {
     "data": {
      "text/plain": [
       "<AxesSubplot:title={'center':'Feature Importances of 7 Features using RandomForestClassifier'}, xlabel='relative importance'>"
      ]
     },
<<<<<<< HEAD
     "execution_count": 30,
=======
     "execution_count": 28,
>>>>>>> 99fbb42c6b0a82f6b194645a974d6fc0bf2cab8c
     "metadata": {},
     "output_type": "execute_result"
    }
   ],
   "source": [
    "from sklearn.ensemble import RandomForestClassifier\n",
    "\n",
    "from yellowbrick.datasets import load_occupancy\n",
    "from yellowbrick.model_selection import FeatureImportances\n",
    "\n",
    "# Load the classification data set\n",
    "\n",
    "model = RandomForestClassifier(n_estimators=10)\n",
    "viz = FeatureImportances(model)\n",
    "viz.fit(features, target)\n",
    "viz.show()"
   ]
  },
  {
   "cell_type": "code",
<<<<<<< HEAD
   "execution_count": 31,
=======
   "execution_count": 29,
>>>>>>> 99fbb42c6b0a82f6b194645a974d6fc0bf2cab8c
   "id": "4cb1dfb0",
   "metadata": {},
   "outputs": [],
   "source": [
    "#split the data\n",
    "X_train, X_test, y_train, y_test = train_test_split(\n",
    "    features, target, test_size=0.2\n",
    ")"
   ]
  },
  {
   "cell_type": "code",
<<<<<<< HEAD
   "execution_count": 32,
=======
   "execution_count": 30,
>>>>>>> 99fbb42c6b0a82f6b194645a974d6fc0bf2cab8c
   "id": "d8e40adf",
   "metadata": {},
   "outputs": [
    {
     "data": {
      "text/plain": [
       "(91718, 7)"
      ]
     },
<<<<<<< HEAD
     "execution_count": 32,
=======
     "execution_count": 30,
>>>>>>> 99fbb42c6b0a82f6b194645a974d6fc0bf2cab8c
     "metadata": {},
     "output_type": "execute_result"
    }
   ],
   "source": [
    "X_train.shape"
   ]
  },
  {
   "cell_type": "code",
<<<<<<< HEAD
   "execution_count": 33,
=======
   "execution_count": 31,
>>>>>>> 99fbb42c6b0a82f6b194645a974d6fc0bf2cab8c
   "id": "c8b0399e",
   "metadata": {},
   "outputs": [
    {
     "data": {
      "text/plain": [
       "(91718,)"
      ]
     },
<<<<<<< HEAD
     "execution_count": 33,
=======
     "execution_count": 31,
>>>>>>> 99fbb42c6b0a82f6b194645a974d6fc0bf2cab8c
     "metadata": {},
     "output_type": "execute_result"
    }
   ],
   "source": [
    "y_train.shape"
   ]
  },
  {
   "cell_type": "code",
<<<<<<< HEAD
   "execution_count": 34,
=======
   "execution_count": 32,
>>>>>>> 99fbb42c6b0a82f6b194645a974d6fc0bf2cab8c
   "id": "a39902df",
   "metadata": {},
   "outputs": [
    {
     "data": {
      "text/plain": [
<<<<<<< HEAD
       "{'fit_time': array([0.01673079, 0.01688719, 0.01594543, 0.01893687, 0.02292323]),\n",
       " 'score_time': array([0.01601076, 0.00898576, 0.00797367, 0.00697637, 0.0074861 ]),\n",
       " 'test_score': array([0.48526964, 0.49154456, 0.49310887, 0.4985794 , 0.48671006])}"
      ]
     },
     "execution_count": 34,
=======
       "{'fit_time': array([0.01373196, 0.02390671, 0.02690959, 0.03388643, 0.03986621]),\n",
       " 'score_time': array([0.01999521, 0.01498032, 0.01594687, 0.01495028, 0.01495028]),\n",
       " 'test_score': array([0.5006232 , 0.50244486, 0.50695825, 0.50076686, 0.48913387])}"
      ]
     },
     "execution_count": 32,
>>>>>>> 99fbb42c6b0a82f6b194645a974d6fc0bf2cab8c
     "metadata": {},
     "output_type": "execute_result"
    }
   ],
   "source": [
    "# Taking the best seven features and applying them to different ML models\n",
    "cross_validate(GaussianNB(), X_train, y_train, cv=TimeSeriesSplit(), scoring='f1_macro')"
   ]
  },
  {
   "cell_type": "code",
<<<<<<< HEAD
   "execution_count": 35,
=======
   "execution_count": 33,
>>>>>>> 99fbb42c6b0a82f6b194645a974d6fc0bf2cab8c
   "id": "df5991cf",
   "metadata": {},
   "outputs": [
    {
     "data": {
<<<<<<< HEAD
      "image/png": "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\n",
      "text/plain": [
       "<Figure size 576x396 with 1 Axes>"
      ]
     },
     "metadata": {},
     "output_type": "display_data"
    },
    {
     "data": {
      "text/plain": [
       "ConfusionMatrix(ax=<AxesSubplot:title={'center':'GaussianNB Confusion Matrix'}, xlabel='Predicted Class', ylabel='True Class'>,\n",
       "                cmap=<matplotlib.colors.ListedColormap object at 0x000001CE92F0CCD0>,\n",
       "                estimator=GaussianNB(), is_fitted=False)"
      ]
     },
     "execution_count": 35,
=======
      "image/png": "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\n",
      "text/plain": [
       "<Figure size 576x396 with 1 Axes>"
      ]
     },
     "metadata": {},
     "output_type": "display_data"
    },
    {
     "data": {
      "text/plain": [
       "ConfusionMatrix(ax=<AxesSubplot:title={'center':'GaussianNB Confusion Matrix'}, xlabel='Predicted Class', ylabel='True Class'>,\n",
       "                cmap=<matplotlib.colors.ListedColormap object at 0x0000015F1D001880>,\n",
       "                estimator=GaussianNB(), is_fitted=False)"
      ]
     },
     "execution_count": 33,
>>>>>>> 99fbb42c6b0a82f6b194645a974d6fc0bf2cab8c
     "metadata": {},
     "output_type": "execute_result"
    }
   ],
   "source": [
    "confusion_matrix(GaussianNB(), X_train, y_train, X_test, y_test, is_fitted=False)"
   ]
  },
  {
   "cell_type": "code",
<<<<<<< HEAD
   "execution_count": 36,
=======
   "execution_count": 34,
>>>>>>> 99fbb42c6b0a82f6b194645a974d6fc0bf2cab8c
   "id": "ce581bdf",
   "metadata": {},
   "outputs": [
    {
     "data": {
<<<<<<< HEAD
      "image/png": "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\n",
=======
      "image/png": "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\n",
>>>>>>> 99fbb42c6b0a82f6b194645a974d6fc0bf2cab8c
      "text/plain": [
       "<Figure size 576x396 with 2 Axes>"
      ]
     },
     "metadata": {},
     "output_type": "display_data"
    },
    {
     "data": {
      "text/plain": [
       "ClassificationReport(ax=<AxesSubplot:title={'center':'GaussianNB Classification Report'}>,\n",
<<<<<<< HEAD
       "                     cmap=<matplotlib.colors.ListedColormap object at 0x000001CE8E132A90>,\n",
       "                     estimator=GaussianNB(), is_fitted=False)"
      ]
     },
     "execution_count": 36,
=======
       "                     cmap=<matplotlib.colors.ListedColormap object at 0x0000015F1D281C40>,\n",
       "                     estimator=GaussianNB(), is_fitted=False)"
      ]
     },
     "execution_count": 34,
>>>>>>> 99fbb42c6b0a82f6b194645a974d6fc0bf2cab8c
     "metadata": {},
     "output_type": "execute_result"
    }
   ],
   "source": [
    "classification_report(GaussianNB(), X_train, y_train, X_test, y_test,scoring='f1_macro', is_fitted=False)"
   ]
  },
  {
   "cell_type": "code",
   "execution_count": null,
   "id": "a4c544bd",
   "metadata": {},
   "outputs": [],
   "source": [
    "cross_validate(SVC(kernel='rbf', degree=3), X_train, y_train, cv=TimeSeriesSplit(), scoring='f1_macro')"
   ]
  },
  {
   "cell_type": "code",
   "execution_count": null,
   "id": "b46d40f8",
   "metadata": {},
   "outputs": [],
   "source": [
    "confusion_matrix(SVC(kernel='rbf', degree=3), X_train, y_train, X_test, y_test, is_fitted=False)"
   ]
  },
  {
   "cell_type": "code",
   "execution_count": null,
   "id": "b77d37c4",
   "metadata": {},
   "outputs": [],
   "source": [
    "classification_report(SVC(kernel='rbf', degree=3), X_train, y_train, X_test, y_test,scoring='f1_macro', is_fitted=False)"
   ]
  },
  {
   "cell_type": "code",
<<<<<<< HEAD
   "execution_count": 37,
=======
   "execution_count": 35,
>>>>>>> 99fbb42c6b0a82f6b194645a974d6fc0bf2cab8c
   "id": "01a1be2d",
   "metadata": {},
   "outputs": [
    {
     "data": {
      "text/plain": [
<<<<<<< HEAD
       "{'fit_time': array([0.04730511, 0.06563592, 0.14454508, 0.15352607, 0.24061513]),\n",
       " 'score_time': array([0.46959138, 0.46828389, 0.46470475, 0.3961904 , 0.61010647]),\n",
       " 'test_score': array([0.49847271, 0.49371442, 0.50338437, 0.49973765, 0.50384802])}"
      ]
     },
     "execution_count": 37,
=======
       "{'fit_time': array([0.0749681 , 0.14251375, 0.23321891, 0.30606937, 0.41328168]),\n",
       " 'score_time': array([0.84294415, 0.83938813, 0.86546111, 0.85373497, 0.84501815]),\n",
       " 'test_score': array([0.51404498, 0.50201826, 0.49623808, 0.49858662, 0.496927  ])}"
      ]
     },
     "execution_count": 35,
>>>>>>> 99fbb42c6b0a82f6b194645a974d6fc0bf2cab8c
     "metadata": {},
     "output_type": "execute_result"
    }
   ],
   "source": [
    "cross_validate(KNeighborsClassifier(n_neighbors=5), X_train, y_train, cv=TimeSeriesSplit(),\n",
    "               scoring='f1_macro')"
   ]
  },
  {
   "cell_type": "code",
<<<<<<< HEAD
   "execution_count": 38,
=======
   "execution_count": 36,
>>>>>>> 99fbb42c6b0a82f6b194645a974d6fc0bf2cab8c
   "id": "6384dc55",
   "metadata": {},
   "outputs": [
    {
     "data": {
<<<<<<< HEAD
      "image/png": "iVBORw0KGgoAAAANSUhEUgAAAjQAAAGACAYAAAC6OPj9AAAAOXRFWHRTb2Z0d2FyZQBNYXRwbG90bGliIHZlcnNpb24zLjMuNCwgaHR0cHM6Ly9tYXRwbG90bGliLm9yZy8QVMy6AAAACXBIWXMAAAsTAAALEwEAmpwYAAAqP0lEQVR4nO3deViU9f7/8dew44YiiZjbrxTXXLOOuaO5g2gplhvmsaNGpmZuaVoahbtZaraoedxSUVyPVmqYLWpqipmZ5pYICa6gbDO/PzzOkZBAc4DPt+fjus51OZ+5577f98S5eHLPDFhsNptNAAAABnPK7wEAAAD+KoIGAAAYj6ABAADGI2gAAIDxCBoAAGA8ggYAABiPoAEknT17VnXr1s20tmnTJj3++OP65ptvdPbsWVWpUkUrV67MtM1HH32kUaNG5bj//v3765dffvnTbUaNGqWPPvrojvdVqVJFiYmJOR7nXh0/flwvvviiAgMDFRQUpJ49e2rv3r2S7vzc3A+3Pyfjx49XQECAZsyYkavnKjfWrFmjkJAQderUSe3bt9e4ceN05cqVv7TP2+e8W3FxcerevftfOv7tevXqpSpVqujMmTOZ1r/77jtVqVIl26+l2z333HPZfl3dr/8OQF5xye8BgIJo+fLlmjNnjhYuXKhq1arp7NmzcnJyUkREhOrXr6+HHnrorvb3wQcfOGjSv+7EiRPq06eP3nrrLTVp0kSS9M0332jAgAFatmyZPD09HXLc25+TFStWaMeOHSpduvR92fe8efMUHR2t9957Tz4+PkpLS1N4eLgGDBigpUuX3vN+/8qcvr6+Wr58+T0f+07KlCmjqKgohYWF2dfWrl0rHx+fXD1+165d2d5XkL9mgTvhCg3wB/Pnz9fChQu1dOlSVatWzb7u4eGhvn37avjw4UpNTc3yuNTUVIWHh6tz584KCgrSqFGjdO3aNUlSQECADh06ZN9/69at1blzZ7355psKCAiw72P//v3q3r27WrVqpYEDByo5Odl+38yZM9W5c2d16tRJ27dvt6+/9957at++vQIDAzV48GD9/vvvkm7+BB8WFqb27dtr8eLF2rp1qzp37qwuXbqoa9eu2rNnj6Sb37ieeuope8xIUsOGDTVt2jR5eHhkOscLFy5o0KBBCgkJUUBAgHr16qWEhARJ0tKlSxUUFKSnnnpKzz77rP2n++zWbz0nzz77rGw2m/r376+9e/dmeq62bdumrl27Kjg4WN27d9f+/fslSbNnz1a/fv0UGBio4cOHZ5oxOTlZ77//vsLDw+3f2F1dXTVixAh1795dqampSktL08SJE+3P26uvvprpv9Xs2bP17LPPqkWLFpo5c6Yk/emct59Penq6xo8fr8DAQHXp0kWDBw9WUlJSpitd93L8OwkKCtL69evtt69fv659+/apYcOG9rXt27ere/fu6tKli5o3b27f3+jRoyVJffr0UWxsrAICAjRkyBC1a9dOn332mf181qxZo1atWikpKUnJyclq166d1q5dm+1MQH4haIDbTJ48WdOmTVOvXr1UtmzZLPcPHDhQhQoVuuNLDvPnz5ezs7MiIyO1bt06lSpVSlOnTs20zc6dOxUZGalVq1YpMjJSSUlJme6Pi4vTggULtGXLFsXFxWnr1q32+8qWLas1a9ZoypQpGjVqlBITE7V69Wrt3LlTq1at0vr161W5cuVML4EVK1ZMmzZtUq9evTR58mSNHz9ekZGReumll/Tdd99JkmJiYlSvXr0s59OsWTOVK1cu09rGjRtVp04drVixQl988YU8PDwUFRWljIwMhYeH68MPP9Tq1avVrVs3ff/999mu3+7WFZNFixbp0Ucfta+fPHlSM2bM0Pz587V27VpNnDhRL774oj3yfvvtN61ZsybLc3zixAl5eHioYsWKmdY9PT0VFBQkNzc3zZ07V/Hx8YqKilJUVJSsVqsmT55s3zY5OVlLly7V8uXL9fHHH+vMmTPZzvlHBw4c0O7du7Vu3TpFRkaqXLlyOnr0aKZt7uX4d1KtWjW5ubnphx9+kCRt3bpVAQEBcnG5efHdZrPp448/1ttvv63IyEitWLFC8+fPV2Jiot566y37+fj5+UmSKleurM2bN+vJJ5+0H6Nz586qXbu2pkyZokmTJunRRx9VcHBwtucP5BdecgL+Kzk5WT///LPmz5+voUOHqm7duqpevXqmbZycnDRlyhQFBwercePGme7bsWOHrl69qq+//lrSzZ/CS5YsmWmbL7/8Um3btlWxYsUkST169NC3335rv79Vq1b2l3gqV66c6f0NzzzzjCTJ399fDz/8sPbv36/o6Gh16dJFhQoVkiT17t1b8+bNs19Buv0bb4cOHRQWFqZmzZqpUaNG6t+/vyTJYrHIarXm6jnq06eP9u7dqwULFujkyZM6duyYateuLWdnZ7Vt21bdu3dX8+bN1bhxYzVr1izb9dzYtWuX4uPjFRoaal+zWCw6ffq0JKlOnTr2b9y3c3JyyvF8oqOjNXToULm6ukq6eTXrhRdesN/fsmVLSTdfJipZsqQuX76cJe6y4+/vL2dnZ3Xt2lWNGzdWmzZtVKtWLZ09e9Yhx+/UqZPWrVun2rVra+3atRo9erQ+/vhjSTefr3nz5mnHjh3asGGDjh8/LpvNpuvXr99xX9mF2uuvv65OnTrJw8NDkZGRuXoegLzGFRrgvzw8PDR37lw1a9ZM//rXvxQWFqZLly5l2c7Pz0+vv/66Ro4cqYsXL9rXrVarxowZY/+pe+XKlZo1a1amx7q4uOj2P5/m7Oyc5f5bLBZLpm2dnP73f1er1SoXFxdZrVZZLJZM6+np6fbbt0JHkoYOHaqlS5eqZs2aioyMVI8ePSTdDIMDBw5kOc93331X69aty7Q2ZcoUzZo1SyVKlFBISIgaNWpkn3Hq1KmaN2+eypcvr/nz52vYsGF/up4Tq9Wqhg0b2p/PqKgoffrpp6pcuXKWc7tdpUqVlJ6erpMnT2ZaT0lJUf/+/RUXF3fH5y0tLc1+293d3f7vP/53uN3t67cislixYoqKitLIkSPl7OysIUOGaMmSJVnO7X4cX5ICAwO1ZcsWnTlzRteuXZO/v7/9vuTkZHXu3FmHDx9W9erVNWLEiCxfg7fL7jlNSEhQSkqKrly5ovj4+GxnAfITQQP8l5OTk/0n5ueff16VKlXSyy+/fMef9tu2baumTZtq0aJF9rXGjRtryZIlSk1NldVq1bhx4zR9+vRMj2vWrJm2bt2qq1evSpJWrVqV6/nWrFkjSTp8+LBOnz6t2rVrq0mTJlq9erX9ZZjFixerQYMGcnNzy/TY9PR0BQQE6Pr163rmmWc0fvx4HT16VKmpqerXr59Wrlypr776yr59dHS0Fi9erKpVq2baz1dffaU+ffooODhYJUuW1Ndff62MjAwlJiaqWbNmKl68uEJDQzVkyBAdOnQo2/XcaNiwoXbt2qXjx49Lunl1KygoSDdu3PjTx7m5ual///569dVXdeHCBUn/e3/T9evX5evrqyZNmmjZsmVKS0uT1WrVkiVL1KhRo1zNdYu3t7diYmIk3fxk0a33Lm3fvl2hoaGqW7euXnzxRQUHB9u3u+V+HP8WX19fValSRWPGjFGnTp0y3Xfq1Cldu3ZNQ4YMUUBAgL777jv716d0M6hvD+A7SUtL07Bhw/TSSy8pLCxMQ4cOzRRfQEHBS07AHVgsFkVERKhz586aOXOmunXrlmWbsWPHZno/yKBBg+yPycjIULVq1bJ8pLthw4bq1q2bQkJC5OHhocqVK+f6U0RnzpxRcHCwLBaLpk+fruLFi+vpp59WbGysunbtKqvVqgoVKmR5T4l088rPmDFjNHz4cLm4uMhisSg8PFxubm6qUKGC5s2bp5kzZyoiIkJWq1Xe3t6aO3eu/P39M71U8sILL2jy5MmaNWuWXF1dVa9ePZ0+fVre3t4aOHCgQkND5eHhIWdnZ02aNCnb9dyoVKmS3njjDQ0bNkw2m00uLi6aO3euChcunONjBwwYIE9PT/Xr10/Szaszjz32mObMmSPp5nuhIiIiFBwcrPT0dNWqVUvjxo3L1Vy3DB8+XBMmTNCKFStUo0YN1ahRQ5LUtGlTRUdHq2PHjipUqJC8vLw0ceLETI+9H8e/XadOnTRmzBjNnj0703qVKlXUvHlztWvXTm5ubvL391elSpV06tQplS9fXm3btlWvXr2yPO5206dPl4+Pj7p27SpJ+vzzzzVjxgyNGDHinucFHMFi+7NrmQDuq0OHDmn//v3q3bu3JGnBggX64Ycf/vSTLACAnBE0QB66du2axowZoxMnTshiscjPz08TJ06Ur69vfo8GAEYjaAAAgPF4UzAAADAeQQMAAIxXYD7lZLValZSUJFdX10y/nwEAAMBmsyktLU2FCxfO9Hu5bikwQZOUlKSff/45v8cAAAAFmL+/v4oWLZplvcAEza1faLar3wTdiL/zn7MH8Pfy0q/bdP4fT+T3GAAKgIySJXUx4i17L/xRgQmaWy8z3YhP1PXYC/k8DYCCwN3dXc78qn0At8nubSm8KRgAABiPoAEAAMYjaAAAgPEIGgAAYDyCBgAAGI+gAQAAxiNoAACA8QgaAABgPIIGAAAYj6ABAADGI2gAAIDxCBoAAGA8ggYAABiPoAEAAMYjaAAAgPEIGgAAYDyCBgAAGI+gAQAAxiNoAACA8QgaAABgPIIGAAAYj6ABAADGI2gAAIDxCBoAAGA8ggYAABiPoAEAAMYjaAAAgPEIGgAAYDyCBgAAGI+gAQAAxiNoAACA8QgaAABgPIIGAAAYj6ABAADGI2gAAIDxCBoAAGA8ggYAABiPoAEAAMYjaAAAgPEIGgAAYDyCBgAAGI+gAQAAxiNoAACA8QgaAABgPIIGAAAYj6ABAADGI2gAAIDxCBoAAGA8ggYAABiPoAEAAMYjaAAAgPEIGgAAYDyCBgAAGI+gAQAAxiNoAACA8QgaAABgPIIGAAAYj6ABAADGI2gAAIDxCBoAAGA8ggYAABiPoAEAAMYjaAAAgPEIGgAAYDyCBgAAGI+gAQAAxiNoAACA8QgaAABgPIIGAAAYj6ABAADGI2gAAIDxCBoAAGA8ggYAABiPoAEAAMZzye8B8H9frV6d1HBYX/ttd6+iKlbWV7MrtVaz8WF68LFHJItFv313UJteeF3pN1Ls29bp+5Sqdm6l5UED7WstJg5RjZB2Sku6rjNf79eWYW8pIyU1T88JwF/j9do4eXbsIOulS5Kk9OMnlDhwkCTJuYyfSq1bp7gnW8t68aIkyf2JhvIaO1ZydZHtxg1dGjdeaQcOSJKK/Ot5FQ7pJltGhqwJCbo4crQyTp3Kj9NCPnLoFZodO3YoMDBQbdq00eDBg3Xt2jVHHg4F1MHFUXq/brDerxusDxo8rWvnf9fmsImq17+bnFycNbdWkObVCpKLp7saj/6XJMmjhJc6zH1dbWe9KovFYt9XndAu8u/YXB80eFrv1w3WtdjfFTBpSD6dGYB75fZofSUOekHxrdsqvnVbe8wUevopPbB6lZz9Sv9vY1dXec+do4uvjFD8k210ddY78n5npiTJvUljFe4eovigYMU/2UbXN/9H3tOn5cMZIb85LGgSExM1evRozZ49W1u2bFG5cuU0depURx0Ohmg0sr+S4hP1/fwVOhW9R9GT5ko2m2xWq87vPyKvCmUkSTW6tdPVc/H6bHhEpsf71a+hn9Z+rpTLVyVJRyK3qvrTbfL8PAD8BW5ucqtRQ0UHDpTv55/Je/77ci5TRk6+vvJs00YXevTMvH1ammLrN1Da4cOSJJfy5e1XbjLif9fF0a/K9t8fmFN/OCjnsg/m6emgYHBY0Hz11Vd65JFHVLFiRUnSM888o/Xr18tmsznqkCjgPEuWUMOX+2rL0HBJ0onPdinx2ElJklf5MvrHkD76ceV/JEnfv79c0RPfU/ofXkr67buDqhIUIM+SJSSLRbV7B6uIX6k8PQ8Af42zr69u7PpalydPUVyrJ5W6b59KLvhI1rg4JfR/Xuknfs36oPR0Ofn4yG/vHnmNfVVX58y7uXz0qFK//fbmNm5u8hozStc3bMzDs0FB4bCgOX/+vEqX/t8lw9KlS+vatWtKSkpy1CFRwNV/vpuORn2hS7+ezbTuV6+G+u5cot3v/lvHNu74030c/HeUflz5H/XZtkjP7VqmCz+dUEZqmgOnBnC/ZZw5o4TefZR+9Kgk6dq89+VSoYKcy5X708dZL1xQ7KMNFB8ULO/pU+Xy0P+z3+fk7a0Hli6RLSlZl9+O+JO94P8qhwWN1WrN9N4H+wGd+GDV31WNkPY6sCAyy1qvzz7W56Om6au33s9xHx4lvHRo6QbNqx2kj5/orgtHf1XiL7z5DzCJa7WqKvRUl8yLFouUfucfTixFi8qjbVv77bSYGKX9eESuVava91dq0walxsQood8/pTR+yPk7clhd+Pn5KT4+3n47Li5OXl5eKlSokKMOiQLMo3gxeVcqrzNf77ev+XdsoXbvjNXi1v0Us2xDrvZT5tGaClnzrpxcXGRxdlbjUc/r0JL1jhobgAPYrDYVf+N1+xWZwn16K+3IEWXEnr/zAzIy5D1titwefVSS5OLvL5dKDyt1/345+5WWz6crdGXGLF2e8LpktebVaaCAcdjHths3bqyIiAidPHlSFStW1PLly9WyZUtHHQ4FnHelCroW+7us6en2tSenjpQsFgV9OMm+dmbXPm0KeyPb/Zz4bJd+adZAAw6uk8XJSUfXfq5vZyx05OgA7rP0o0d1adxr8lm4QHJ2UkZsrBIHhWW7vS05WRf69Vfx1ydIri5SSqoSw15URux5FY94S06ehVSkX18V6fffXw+Rkqr4wKC8ORkUGBabA9+l++WXX2ratGlKS0tT+fLlFRERoeLFi99x25SUFMXExOiLwMG6HnvBUSMBMMh421GdffDP31cB4O8ho1QpXfhwvmrWrCl3d/cs9zv0F+s1a9ZMzZo1c+QhAAAA+NMHAADAfAQNAAAwHkEDAACMR9AAAADjETQAAMB4BA0AADAeQQMAAIxH0AAAAOMRNAAAwHgEDQAAMB5BAwAAjEfQAAAA4xE0AADAeAQNAAAwHkEDAACMR9AAAADjETQAAMB4BA0AADAeQQMAAIxH0AAAAOMRNAAAwHgEDQAAMB5BAwAAjEfQAAAA4xE0AADAeAQNAAAwHkEDAACMR9AAAADjETQAAMB4BA0AADAeQQMAAIxH0AAAAOMRNAAAwHgEDQAAMB5BAwAAjEfQAAAA4xE0AADAeAQNAAAwHkEDAACMR9AAAADjETQAAMB4BA0AADAeQQMAAIxH0AAAAOMRNAAAwHgEDQAAMB5BAwAAjEfQAAAA4xE0AADAeAQNAAAwHkEDAACMR9AAAADj5SpoUlNTJUmnTp3Sjh07ZLVaHToUAADA3cgxaN59912NGjVK586dU48ePbRw4UKFh4fnxWwAAAC5kmPQbNu2TeHh4dqwYYOCgoK0cOFC7du3Ly9mAwAAyJUcg8ZqtcrDw0Pbt29Xs2bNZLVadf369byYDQAAIFdyDJqGDRuqY8eOSktLU4MGDdSzZ08FBATkxWwAAAC54pLTBiNHjlSvXr3k6+srJycnvfbaa6patWpezAYAAJArOV6hOXjwoLZs2aKMjAw999xzCg0NVXR0dF7MBgAAkCs5Bs2kSZNUuXJlbdmyRR4eHlqzZo1mzZqVF7MBAADkSq7eFNy4cWPt2LFDrVu3lp+fnzIyMvJiNgAAgFzJMWg8PT318ccf69tvv1WLFi30ySefqHDhwnkxGwAAQK7kGDRTp05VcnKyZs+eLS8vL8XFxWn69Ol5MRsAAECu5Bg0vr6+CggIkNVq1Z49e9SkSRPt3LkzL2YDAADIlRw/tj127Fjt3r1bly9f1kMPPaSffvpJ9erV09NPP50X8wEAAOQoxys0X3/9tTZu3Kg2bdpo4sSJ+uSTT3Tjxo28mA0AACBXcgyaUqVKydXVVQ8//LCOHj2qRx55RFevXs2L2QAAAHIlx5ecfH199f7776thw4aaMmWKJCk1NdXhgwEAAORWjldo3nzzTZUtW1a1atVS69attWHDBk2YMCEPRgMAAMidbK/QnDt3zv7vunXr6ty5c2rZsqVatmyZJ4MBAADkVrZB07Nnz2wfZLFY9MUXXzhkIAAAgLuVbdBs27YtL+cAAAC4Z3/6HprVq1fr4MGD9tvTp0/X6tWrHT4UAADA3cg2aBYvXqzly5erSJEi9rXGjRtr6dKlWrp0aZ4MBwAAkBvZBs2qVau0YMECPfTQQ/a1xx57TB988IGWL1+eJ8MBAADkRrZB4+TklOnqzC3e3t5ycsrx094AAAB5Jts3BTs7OyshIUElS5bMtH7hwgVlZGQ4bKAFXomKu/G7w/YPwBzjJZX97Ux+jwGgAEhJSdGFmJhs7//Tj233799fI0aMUPXq1eXu7q5Dhw4pIiJC3bt3d8iwkjTnsrdsF60O2z8Ac3h7e+v3Jn75PQaAAiDDy0d6aXq292cbNMHBwUpJSdHo0aN1/vx5SVK5cuX03HPPOTRoAAAA7taf/i2nkJAQhYSE6OLFi3JycpKXl1dezQUAAJBrOf5xSkkqUaKEo+cAAAC4Z3xcCQAAGI+gAQAAxssxaC5fvqyxY8eqd+/eunTpkkaPHq3Lly/nxWwAAAC5kmPQjBs3To888oguXbqkQoUKqVSpUnrllVfyYjYAAIBcyTFozp49q5CQEDk5OcnNzU1Dhw61f4wbAACgIMgxaJydnXX16lVZLBZJ0smTJ/nTBwAAoEDJ8WPbL774onr16qXY2FgNGjRIBw4cUHh4eF7MBgAAkCs5Bk3Tpk1Vs2ZNHTx4UBkZGXrjjTfk4+OTF7MBAADkSo5B8+6772a6feTIEUlSWFiYYyYCAAC4S3f1Zpi0tDRt27ZNCQkJjpoHAADgruV4heaPV2JeeOEFPffccw4bCAAA4G7d9ceVkpKSdO7cOUfMAgAAcE9yvEITEBBg/8i2zWbT5cuX9c9//tPhgwEAAORWjkEzc+ZMlSxZUpJksVhUrFgxFSlSxOGDAQAA5FaOQTNy5Eht3rw5L2YBAAC4JzkGTdWqVbV27VrVqlVLHh4e9vUyZco4dDAAAIDcyjFofvjhB/3www+Z1iwWi7744guHDQUAAHA3sg2aNWvWqHPnztq2bVtezgMAAHDXsv3Y9ieffJKXcwAAANwz/mw2AAAwXrYvOR07dkwtW7bMsm6z2XgPDQAAKFCyDZoKFSpo/vz5eTkLAADAPck2aFxdXfXggw/m5SwAAAD3JNv30NSrVy8v5wAAALhn2QbNa6+9lpdzAAAA3DM+5QQAAIxH0AAAAOMRNAAAwHgEDQAAMB5BAwAAjEfQAAAA4xE0AADAeAQNAAAwHkEDAACMR9AAAADjETQAAMB4BA0AADAeQQMAAIxH0AAAAOMRNAAAwHgEDQAAMB5BAwAAjEfQAAAA4xE0AADAeAQNAAAwHkEDAACMR9AAAADjETQAAMB4BA0AADAeQQMAAIxH0AAAAOMRNAAAwHgEDQAAMB5BAwAAjEfQAAAA4xE0AADAeAQNAAAwHkEDAACMR9AAAADjETQAAMB4BA0AADAeQQMAAIxH0AAAAOMRNAAAwHgEDQAAMB5BAwAAjEfQAAAA4xE0AADAeAQNAAAwHkEDAACMR9AAAADjETQAAMB4BA0AADAeQQMAAIxH0CBPFK7pr7rbP1GDfWv06J7VKlqvhv0+97Kl1ehstFxLlsjyOI+KZdUk4TsVrV/TvlZuWF89FrNBDQ5Eqc5nC+T5ULk8OQcA919U7BUV3/hTlvWnd5/R4IOx9tvbLyTp8S9PqN6O43pi56/affG6JCni2AXV33Hc/r/yW39WiU1Z94f/+xwaNDabTSNHjtRHH33kyMOggHPy9FCdrR/p9OQPtadeZ52cOEfVl0yVJJXu1Un1opfI/UHfrI9zd1P1f0+Rxc3VvlaiZUOV6fe0vm8Yoj11Oun3yM9UbcFbeXYuAO6fY9dSNOJwnGyyZVqfcuyCvkpMtt9Otdr07N6zmlfHT/uaP6wxlX0Uuu83SdLIyj76vvnD+r75w/qiUUUVdnbS0voP5ul5oGBwWNAcP35cffr00ZYtWxx1CBjCu3UjXT9+RgmboyVJF9Z9oZhuQ+TmV0o+wa10oE2/Oz7O/73xOr8wUmkXLtrXUs9f0NGBE5RxNUmSdGXvIXlUKOP4kwBwXyWnW9V732+aWrN0pvUdF5K05fdrer7i/67YujlZdLq1v+p6ecpms+nX5FR5uzln2eeIw3FqW6qI2vkWdfj8KHhcHLXjJUuWqGvXripThm82f3eF/P+fUs//rqofvqkitasq/dIV/TJiilJj4xXz1It3fIxfv6dlcXXRuQ9XqsKrA+zrSYeP2f9tcXNVpbeHK37lfxx+DgDur4EHY/V8xRJ6pJi7fe3cjTQNizmvjf8or/knL2ba3tXJorgb6WoQfUIXUjO07A9XYX68mqKo81f1c8tKeTI/Ch6HBc1rr70mSdq1a5ejDgFDWFxdVLJ9M+1v0VtXdh+UT1BL1d40X19XaCFbalqW7YvUra4HBzyjfU17ZLtPV58SqrnqHaVfvqbjY2Y4cnwA99ncXxPlYpH6li+hk8mpkqQ0q009vv9NU2uUlp+H6x0f5+vhotOt/bXv0nW1/uaUqhV1l3+Rm0H0zokEDapYQl6uWa/c4O+BNwXD4VLPxSvpyHFd2X1Q0s2XnCzOztm+mdevd7BcihVW/a+Xq8H+tXIvU0rVl0yVT2CAJKnwI1X06J5VurrvRx3q/IJsaVmjCEDBtejMJe29dEP1dxxX4LendT3DJq9NP+mbxGS9cvi86u84rvmnLurTc1f0/IFzupyWobWxV+yPr1fcU7WKeSjmSookKcNmU+S5q+pTvng+nREKAoddoQFuSdgcrUrTRqpovRq6uu+wijd5VLLZdOPXs3fc/tjQcB0bGm6/3fDXL/Rjj+G6+n2M3B/0Vd1ti3R8xBTFLlidV6cA4D76tulD9n+fTE5V7e3HdblDtUzbvP5TvBJSM/ROLT9dS7fqnwfO6QE3FzUqWUiHr9zQ0WspeqyEpyTp0JUUlXB1UsVCbnl6HihYCBo4XGrcBR0KfkH+c8bLubCnrCmpOtTlRVlTUu96XxXHDZJzYU+VHdxLZQf3kiRZU1L1/T+63e+xARQQRVyctLpBOb18+LzSrDa5OVm0uF5ZlfW8+dLUL0mpqkDM/O1ZbDabLefN7t2oUaNUuXJl9et350+y3JKSkqKYmBhdCRwsW+wFR44EwBBPl/hdvzfxy+8xABQAKV4+OvLSdNWsWVPu7u5Z7nf4FZq3337b0YcAAAB/c7wpGAAAGI+gAQAAxiNoAACA8QgaAABgPIIGAAAYj6ABAADGI2gAAIDxCBoAAGA8ggYAABiPoAEAAMYjaAAAgPEIGgAAYDyCBgAAGI+gAQAAxiNoAACA8QgaAABgPIIGAAAYj6ABAADGI2gAAIDxCBoAAGA8ggYAABiPoAEAAMYjaAAAgPEIGgAAYDyCBgAAGI+gAQAAxiNoAACA8QgaAABgPIIGAAAYj6ABAADGI2gAAIDxCBoAAGA8ggYAABiPoAEAAMYjaAAAgPEIGgAAYDyCBgAAGI+gAQAAxiNoAACA8QgaAABgPIIGAAAYj6ABAADGI2gAAIDxCBoAAGA8ggYAABiPoAEAAMYjaAAAgPEIGgAAYDyCBgAAGI+gAQAAxiNoAACA8QgaAABgPIIGAAAYj6ABAADGI2gAAIDxCBoAAGA8ggYAABiPoAEAAMYjaAAAgPEIGgAAYDyCBgAAGI+gAQAAxiNoAACA8QgaAABgPIIGAAAYj6ABAADGI2gAAIDxCBoAAGA8ggYAABiPoAEAAMYjaAAAgPEIGgAAYDyCBgAAGI+gAQAAxiNoAACA8Vzye4BbbDabJMlSyjufJwFQUPh6OSnFyye/xwBQAKQWLSHpf73wRxZbdvfksatXr+rnn3/O7zEAAEAB5u/vr6JFi2ZZLzBBY7ValZSUJFdXV1kslvweBwAAFCA2m01paWkqXLiwnJyyvmOmwAQNAADAveJNwQAAwHgEDQAAMB5BAwAAjEfQAAAA4xE0AADAeAQNCoykpCTduHEjv8cAABiowPymYPw9JSUlaerUqVq/fr2SkpIkScWKFVPLli01atQoFStWLJ8nBACYgN9Dg3w1ZMgQlS1bVs8884xKly4tSTp//rxWrFihn3/+WfPmzcvnCQEAJiBokK/atWunzZs33/G+Dh06aOPGjXk8EYD8tmDBgj+9v2/fvnk0CUzCS07IV66urjpz5ozKlSuXaf306dNyceHLE/g7Onr0qLZs2aK2bdvm9ygwCN8xkK+GDRumkJAQ1apVS6VLl5bFYlFcXJwOHjyo8PDw/B4PQD54++23FRsbq8aNG6tDhw75PQ4MwUtOyHeJiYnatWuXYmNjZbPZ5Ofnp8aNG8vb2zu/RwOQT44fP66lS5dq3Lhx+T0KDEHQAAAA4/F7aAAAgPEIGgAAYDyCBvibO3v2rGrWrKlOnTopODhYHTp0UN++fXX+/Pl73mdkZKRGjRolSerfv7/i4uKy3fadd97R3r1772r/VapUueP6iRMnNGDAAAUGBiowMFAvv/yyEhMTJUmzZ8/W7Nmz7+o4AMxB0ABQqVKlFBUVpbVr12rjxo2qUqWKJk+efF/2/cEHH8jX1zfb+/fs2aOMjIy/fJy4uDj17t1b3bp10/r167Vu3TpVrlxZYWFhf3nfAAo+PrYNIIvHH39c06dPlyQFBASoVq1aOnLkiJYuXaqdO3dq0aJFslqtqlGjhsaPHy93d3etXbtWc+fOVZEiRfTggw+qUKFC9sd/8skneuCBB/T666/r+++/l6urqwYNGqTU1FTFxMRo7Nixevfdd+Xh4aEJEybo0qVL8vDw0Lhx41S9enWdPXtWr7zyipKTk1W7du07zrxs2TL94x//UEBAgCTJYrGof//+Klu2rNLT0zNt++9//1tRUVG6fv26XF1dNW3aND300EOKiIjQrl275OTkpFatWiksLEzffPONpkyZIkny8vLStGnT+AQeUABxhQZAJmlpadqyZYvq1KljX2vatKm2bNmixMREffrpp1q+fLmioqJUsmRJffTRR4qLi9PUqVO1ZMkSrVixwv53uW63ePFiJScna/PmzVqwYIHee+89tW/fXjVr1tSkSZNUpUoVjRw5Uq+88orWrFmjiRMnaujQoZKkiRMnqkuXLoqKilK9evXuOPeRI0dUo0aNTGvOzs7q2LFjpl/SeO3aNX3++edavHixNmzYoObNm2vJkiX67bffFB0drXXr1mnZsmX65ZdflJKSojlz5mjChAmKjIzUE088oR9//PE+PMsA7jeu0ABQfHy8OnXqJElKTU1VrVq19PLLL9vvv3VV5LvvvtOpU6fUrVs3STfjp3r16tq/f7/q1q0rHx8fSVJgYKC+/fbbTMfYs2ePunXrJicnJz3wwANZ/qxFUlKSYmJiNHr0aPtacnKyLl68qN27d2vatGmSpKCgII0dOzbLOVgsFrm5ueV4rkWKFNG0adO0ceNGnTx5Ujt37lS1atXk6+srd3d3de/eXS1atNDw4cPl7u6uli1bKiwsTK1atVLLli3VqFGjHI8BIO8RNADs76HJjru7uyQpIyND7dq1swdFUlKSMjIy9M033+j2X2l1pz9b4eLiIovFYr996tQp+fn52W9brVa5ubllmuP8+fMqXry4JNn3b7FY5OSU9eJyzZo1FRMTk2nNarVq8ODBmjBhgn0tNjZWvXr1Us+ePdW0aVP5+PjoyJEjcnFx0cqVK7V7925FR0ere/fuWrx4sUJDQ9WiRQtt375dU6ZM0cGDBzVw4MBsnysA+YOXnADk2uOPP67PPvtMCQkJstlsmjBhghYtWqT69evrwIEDiouLk9Vq1aZNm7I8tkGDBtq0aZNsNpsSEhLUs2dPpaamytnZWRkZGSpatKgqVqxoD5pdu3apR48ekqQnnnhC69atkyRt3bpVKSkpWfYfEhKiL7/8Ul9++aWkmwE0Z84cJSQk2K8cSdKhQ4dUoUIFhYaG6pFHHtHnn3+ujIwM/fjjj+rZs6caNGigkSNH6uGHH9avv/6qrl27KikpSaGhoQoNDeUlJ6CA4goNgFyrWrWqwsLC1KdPH1mtVlWrVk3PP/+83N3dNXbsWIWGhsrT01OVKlXK8thnn31WkyZNUlBQkCRp3LhxKlKkiJo0aaLx48crIiJCU6ZM0YQJE/Thhx/K1dVVM2bMkMVi0WuvvaZXXnlFK1asUM2aNVW4cOEs+3/ggQf0wQcfaPLkyZo6daoyMjJUvXp1vffee5m2a9SokZYtW6b27dvLZrOpQYMGOnbsmKpXr646deqoY8eO8vT0VL169dS0aVN5enpq1KhRcnFxUaFChTRp0iTHPLkA/hL+9AEAADAeLzkBAADjETQAAMB4BA0AADAeQQMAAIxH0AAAAOMRNAAAwHgEDQAAMB5BAwAAjPf/ATXZ5iPqZF3uAAAAAElFTkSuQmCC\n",
      "text/plain": [
       "<Figure size 576x396 with 1 Axes>"
      ]
     },
     "metadata": {},
     "output_type": "display_data"
    },
    {
     "data": {
      "text/plain": [
       "ConfusionMatrix(ax=<AxesSubplot:title={'center':'KNeighborsClassifier Confusion Matrix'}, xlabel='Predicted Class', ylabel='True Class'>,\n",
       "                cmap=<matplotlib.colors.ListedColormap object at 0x000001CE9324A970>,\n",
       "                estimator=KNeighborsClassifier(), is_fitted=False)"
      ]
     },
     "execution_count": 38,
=======
      "image/png": "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\n",
      "text/plain": [
       "<Figure size 576x396 with 1 Axes>"
      ]
     },
     "metadata": {},
     "output_type": "display_data"
    },
    {
     "data": {
      "text/plain": [
       "ConfusionMatrix(ax=<AxesSubplot:title={'center':'KNeighborsClassifier Confusion Matrix'}, xlabel='Predicted Class', ylabel='True Class'>,\n",
       "                cmap=<matplotlib.colors.ListedColormap object at 0x0000015F1D698BE0>,\n",
       "                estimator=KNeighborsClassifier(), is_fitted=False)"
      ]
     },
     "execution_count": 36,
>>>>>>> 99fbb42c6b0a82f6b194645a974d6fc0bf2cab8c
     "metadata": {},
     "output_type": "execute_result"
    }
   ],
   "source": [
    "confusion_matrix(KNeighborsClassifier(n_neighbors=5), X_train, y_train, X_test, y_test, is_fitted=False)"
   ]
  },
  {
   "cell_type": "code",
<<<<<<< HEAD
   "execution_count": 39,
=======
   "execution_count": 37,
>>>>>>> 99fbb42c6b0a82f6b194645a974d6fc0bf2cab8c
   "id": "fdebe53d",
   "metadata": {},
   "outputs": [
    {
     "data": {
<<<<<<< HEAD
      "image/png": "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\n",
      "text/plain": [
       "<Figure size 576x396 with 2 Axes>"
      ]
     },
     "metadata": {},
     "output_type": "display_data"
    },
    {
     "data": {
      "text/plain": [
       "ClassificationReport(ax=<AxesSubplot:title={'center':'KNeighborsClassifier Classification Report'}>,\n",
       "                     cmap=<matplotlib.colors.ListedColormap object at 0x000001CE936041C0>,\n",
       "                     estimator=KNeighborsClassifier(), is_fitted=False)"
      ]
     },
     "execution_count": 39,
=======
      "image/png": "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\n",
      "text/plain": [
       "<Figure size 576x396 with 2 Axes>"
      ]
     },
     "metadata": {},
     "output_type": "display_data"
    },
    {
     "data": {
      "text/plain": [
       "ClassificationReport(ax=<AxesSubplot:title={'center':'KNeighborsClassifier Classification Report'}>,\n",
       "                     cmap=<matplotlib.colors.ListedColormap object at 0x0000015F1E81AC10>,\n",
       "                     estimator=KNeighborsClassifier(), is_fitted=False)"
      ]
     },
     "execution_count": 37,
>>>>>>> 99fbb42c6b0a82f6b194645a974d6fc0bf2cab8c
     "metadata": {},
     "output_type": "execute_result"
    }
   ],
   "source": [
    "classification_report(KNeighborsClassifier(n_neighbors=5), X_train, y_train, X_test, y_test,scoring='f1_macro', is_fitted=False)"
   ]
  },
  {
   "cell_type": "code",
<<<<<<< HEAD
   "execution_count": 40,
=======
   "execution_count": 38,
>>>>>>> 99fbb42c6b0a82f6b194645a974d6fc0bf2cab8c
   "id": "fe5f096a",
   "metadata": {},
   "outputs": [
    {
     "data": {
      "text/plain": [
<<<<<<< HEAD
       "{'fit_time': array([0.0385046 , 0.05388975, 0.06977344, 0.09771848, 0.11111522]),\n",
       " 'score_time': array([0.01191497, 0.01295948, 0.01327944, 0.01233149, 0.0140276 ]),\n",
       " 'test_score': array([0.35201357, 0.35193115, 0.35215088, 0.35483054, 0.35165628])}"
      ]
     },
     "execution_count": 40,
=======
       "{'fit_time': array([0.05551958, 0.05575371, 0.0798924 , 0.10359979, 0.12863779]),\n",
       " 'score_time': array([0.0141294 , 0.01515341, 0.01286364, 0.01295614, 0.01309395]),\n",
       " 'test_score': array([0.35014029, 0.3493104 , 0.35434002, 0.35412177, 0.35000213])}"
      ]
     },
     "execution_count": 38,
>>>>>>> 99fbb42c6b0a82f6b194645a974d6fc0bf2cab8c
     "metadata": {},
     "output_type": "execute_result"
    }
   ],
   "source": [
    "cross_validate(LogisticRegression(), X_train, y_train, cv=TimeSeriesSplit(), scoring='f1_macro')"
   ]
  },
  {
   "cell_type": "code",
<<<<<<< HEAD
   "execution_count": 41,
=======
   "execution_count": 39,
>>>>>>> 99fbb42c6b0a82f6b194645a974d6fc0bf2cab8c
   "id": "5ce6c04c",
   "metadata": {},
   "outputs": [
    {
     "data": {
<<<<<<< HEAD
      "image/png": "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\n",
=======
      "image/png": "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\n",
>>>>>>> 99fbb42c6b0a82f6b194645a974d6fc0bf2cab8c
      "text/plain": [
       "<Figure size 576x396 with 1 Axes>"
      ]
     },
     "metadata": {},
     "output_type": "display_data"
    },
    {
     "data": {
      "text/plain": [
       "ConfusionMatrix(ax=<AxesSubplot:title={'center':'LogisticRegression Confusion Matrix'}, xlabel='Predicted Class', ylabel='True Class'>,\n",
<<<<<<< HEAD
       "                cmap=<matplotlib.colors.ListedColormap object at 0x000001CE82A98EB0>,\n",
       "                estimator=LogisticRegression(), is_fitted=False)"
      ]
     },
     "execution_count": 41,
=======
       "                cmap=<matplotlib.colors.ListedColormap object at 0x0000015F1D281100>,\n",
       "                estimator=LogisticRegression(), is_fitted=False)"
      ]
     },
     "execution_count": 39,
>>>>>>> 99fbb42c6b0a82f6b194645a974d6fc0bf2cab8c
     "metadata": {},
     "output_type": "execute_result"
    }
   ],
   "source": [
    "confusion_matrix(LogisticRegression(), X_train, y_train, X_test, y_test, is_fitted=False)"
   ]
  },
  {
   "cell_type": "code",
<<<<<<< HEAD
   "execution_count": 42,
=======
   "execution_count": 40,
>>>>>>> 99fbb42c6b0a82f6b194645a974d6fc0bf2cab8c
   "id": "9e744541",
   "metadata": {},
   "outputs": [
    {
     "name": "stderr",
     "output_type": "stream",
     "text": [
      "C:\\Users\\amjad\\anaconda3\\lib\\site-packages\\sklearn\\metrics\\_classification.py:1245: UndefinedMetricWarning: Precision and F-score are ill-defined and being set to 0.0 in labels with no predicted samples. Use `zero_division` parameter to control this behavior.\n",
      "  _warn_prf(average, modifier, msg_start, len(result))\n"
     ]
    },
    {
     "data": {
<<<<<<< HEAD
      "image/png": "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\n",
=======
      "image/png": "iVBORw0KGgoAAAANSUhEUgAAAggAAAGACAYAAADI95pLAAAAOXRFWHRTb2Z0d2FyZQBNYXRwbG90bGliIHZlcnNpb24zLjMuNCwgaHR0cHM6Ly9tYXRwbG90bGliLm9yZy8QVMy6AAAACXBIWXMAAAsTAAALEwEAmpwYAAAw+0lEQVR4nO3de3zO9f/H8eeu69rBdg3JIWUTY5TFUDpoOUWoOURtktJXkUqnqSHn4xxS8U3pXHKYUKGSL+qrAz+HTE1MkrXJeYZtdrzevz98XVkfZ7Zr5nG/3bq1z+n9eX12ve16Xu/P4fIyxhgBAACcwObpAgAAQMlDQAAAABYEBAAAYEFAAAAAFgQEAABgQUAAAAAWBITLXGpqqho2bHjR2lu+fLlGjx592nW+/fZbvfbaa2e9/tSpU3XLLbeoY8eO6tixozp06KCWLVtq3LhxKql36T722GPatm3bRWtvz549GjBggCIjI9WhQwfdd999WrZsmXt5nTp1lJaWdtH2J0kvvfSSfvzxR0nSG2+8oebNm2vgwIGF5p+rlJQU9evXT9KxY4qOjr5o9Q4YMEARERHufhIZGalWrVrp7bffvmj7OJPBgwcrMTGx2PYHFCmDy1pKSooJDw8v1n1OmTLFjBgx4oLWT09PN3fccYdZuXLlxS6vxDlw4IBp3ry5+fTTT43L5TLGGLN582Zzyy23mO+//94YY0xoaKg5cOBAkdXQsmVLs3bt2gtuZ/Xq1ebuu+++CBVZxcbGmnfeeafQvJ07d5oGDRqYbdu2Fck+/6lFixbm559/LpZ9AUXN4emAgpLryJEjGjFihLZs2SIvLy9FRETo+eefl8Ph0H//+19NmjRJNptN1113nX788UfNmjVLa9as0ddff63p06dr6dKleuONN+Tl5SW73a4XX3xRPj4+mjNnjgoKChQYGKjq1au719+3b5+GDRum7du3y2azKTo6Wg899NBJa9u/f7+ys7NVrlw5SdLvv/+uMWPGKD09XQUFBerRo4e6du0qSXrrrbc0b948BQQE6MYbb9Ty5cu1YsUKDRgwQOnp6UpJSVHz5s31zDPPaNKkSVq7dq0KCgp0/fXXa/DgwXI6nZo1a5bmzJkjb29v+fr6auTIkapVq9Yp57ds2VKvvfaabrjhBsXHx2vGjBmy2WyqWLGihgwZoho1amjAgAFyOp1KSkrS7t27VadOHY0fP14BAQGFjnXWrFlq1KiROnXq5J5Xt25dTZkyRWXLli20blZWloYPH67k5GSlp6crICBAkyZNUs2aNU/6etx0002nnN+jRw91795dS5Ys0Z49e/TSSy/pmWee0ezZs9W9e3e1bdtW33zzjV599VW5XC75+/trxIgRqlu3rt58800tX75c2dnZOnr0qGJjY9WyZUsNHjxYe/bsUa9evTRixAhFRkZqw4YNysvLU1xcnFatWiW73a769etr4MCBcjqdatmypTp37qxVq1Zp165d6tixo5599tmz6sO7d++WMUZOp1OS9NNPP2nSpEk6evSobDabnnrqKbVo0UILFizQkiVL5HK59Ndff6lKlSqKi4tTlSpVtHv3bg0fPlw7d+6UMUadOnXSo48+qtTUVHXv3l0hISHauXOnGjdurL1796p///6aMGGCGjRocFY1AiWWpxMKPOt0IwgvvviiGTVqlHG5XCYnJ8f861//MtOnTzdpaWmmSZMmZvPmzcYYYxYsWGBCQ0NNSkqKmT9/vundu7cxxphWrVqZDRs2GGOM+e6778zUqVONMYVHBE5c/8knnzTjx483xhhz+PBhc/fdd5sdO3aYKVOmmJtvvtl06NDBtG7d2jRp0sT07NnTfPXVV8YYY/Ly8kz79u1NYmKie9t27dqZDRs2mJUrV5q77rrLHDp0yLhcLjNw4EDTokULY8yxT5wPP/yw+3inTp1q4uLi3J/SX375ZTNs2DCTn59v6tWrZ/bs2WOMMebTTz81c+bMOeV8Y/7+JPnjjz+aO++80/3pfv78+aZdu3bG5XKZ2NhYExUVZXJyckxubq7p1KmTmTdvnuV16NOnj/n4449P+zoeH0H46quvzKhRo9zzhwwZYkaOHHna1+NU8x988EH37/jET8bH5+/bt880btzYbNq0yRhjzNdff2169eplUlNTTY8ePczRo0eNMcYsXrzY3HPPPcaYwiMIJ/a91157zTz11FMmNzfXFBQUmAEDBpghQ4a49x0XF2eMMWb37t3mhhtuMH/++afldxAbG2tuv/1206FDB9OyZUvTpEkT07dvX7Nq1SpjzLFRpzZt2piUlBR3W3fccYfZuXOnmT9/vgkPDzfbt283xhgzceJE069fP2OMMd27dzfvvfeeMeZY34qMjDSLFy82KSkpJjQ0tNDICiMIKE0YQcAprVy5UrNnz5aXl5d8fHwUHR2tDz/8UDVq1FBISIjq1q0rSercufNJryO4++679dRTT6lZs2Zq2rSpHnvssdPu78cff9QLL7wgSQoMDNTixYvdy9q3b6+hQ4cqNzdXo0aN0rZt29SyZUtJ0o4dO/Tnn39q0KBB7vWzs7P166+/avv27Wrbtq37k3b37t21evVq93qNGzd2//ztt9/qyJEj7vPreXl5uvLKK2W329W2bVtFR0erefPmuv3229WsWbNTzj/Rd999p/bt26tChQqSpHvvvVdjxoxRamqqJCkiIkI+Pj6SpNDQUB06dMjye/Hy8jrray3atm2roKAgzZgxQ8nJyVqzZo37GpNTvR7n+jod99NPP6l27dq6/vrrJUlt2rRRmzZtJEkTJkzQokWLlJycrI0bNyozM/O0ba1cuVLPPfecvL29JUk9evTQk08+6V7eqlUrSVKVKlV05ZVX6tChQwoKCrK007NnT/Xq1UtZWVl67rnn5OPjo5tvvlmSlJCQoH379hVq18vLS0lJSZKkpk2bqkaNGpKk+++/Xx07dlRWVpZ++uknvffee5KO9ct7771XK1euVIMGDeRwOBQeHn5Wvy/gUsNFijgll8slLy+vQtP5+fmy2+2WNyybzdqVnnvuOc2aNUthYWFasGCBunfvftr9ORyOQvtLSUlRRkZGoXV8fHw0ZMgQZWRkaMKECZLkPl3x+eefu/+bO3euunTpIofDUahWu91eqD1/f/9Cxzdo0CB3G5988on7YspJkybpzTffVHBwsN566y09//zzp51/Ypv/ZIxRfn6+JMnPz889/1RBIDw8XAkJCZb5c+bM0fvvv19o3qxZs/TSSy/Jz89PkZGRuueee9xtnur1ONfX6Ti73V7o9TLGaMuWLdq0aZOioqKUkZGhpk2b6tFHHz1jWyfra3l5ee5pX19f989nE5j8/f01YcIErV27Vh988IGkY/0kJCSkUD+Jj4/X7bff7j6eE/dvt9vlcrks+zr+70A61h8dDj5noXQiIOCUbr/9dn388ccyxig3N1dz587VbbfdpkaNGmnHjh3asmWLJOnrr7/W4cOHC/2Bz8/PV8uWLXX06FF169ZNw4YNU1JSknJzc2W3291/YE906623av78+ZKOXf/w8MMPa8eOHZb1fHx8NGzYMM2aNUu//vqratSoIT8/P33++eeSpF27dumee+5RYmKimjVrpqVLl+rIkSOSpHnz5p32eGfOnKnc3Fy5XC4NGTJEkydPVlpampo1a6by5curZ8+eevbZZ/XLL7+ccv6JIiIi9OWXX7rvMJg/f77Kly+v6tWrn/XrEBUVpTVr1mjhwoXuN6vExERNmTJFoaGhhdb9/vvv1blzZ913332qUaOGVqxYoYKCgtO+HqeafyYNGjTQ77//rt9++03SsTtSXnjhBa1du1ZhYWF65JFH1KRJEy1fvlwFBQWSjr0Jn/jGf+Lvafbs2crLy5PL5dLMmTPVtGnTs/4dnUy5cuUUGxurKVOmaM+ePQoPD1dycrLWrl0rSdq8ebPuuusu7dmzR5K0evVq989z5sxRixYt5HQ61aBBA82cOVPSsX752Wef6bbbbjvpPk/Vt4FLEdEXysrKstzqOGfOHA0ePFijR49WZGSk8vLyFBERoccff1w+Pj6aPHmyYmNjZbPZFBYWJofDoTJlyri3dzgcGjRokPr37+8eGRg7dqx8fHx0yy23qH///ho1apTq1avn3mbo0KEaPny4IiMjZYxRnz59FBYWpm+++cZS84033qjIyEiNHDlSs2fP1rRp0zRmzBi98847ys/P1zPPPOM+fXD//fcrKipKfn5+ql27dqE6T/TEE09o/Pjx6ty5swoKCnTddde5LyTs27evevbsKT8/P9ntdo0ePVoVKlQ46fwTNW3aVD179tTDDz8sl8ulChUqaPr06ScdcTmV8uXLa8aMGZo4caJ72zJlymjMmDGWN9F//etfGjp0qDsIhYeHa+vWrad9PU41/0wqVqyoSZMmKTY2VgUFBXI6nXrllVdUvnx5LV26VO3atZPL5VKLFi106NAhZWRkqFatWvL19VXXrl31yiuvuNvq27evxo8fr06dOik/P1/169fXkCFDzvp3dCodOnTQJ598ovHjx2vy5MmaMmWKJkyYoJycHBljNGHCBFWrVk1r1qxRlSpV9MILL2jfvn2qVauWRo4cKenYKNHIkSO1YMEC5ebmKjIyUvfee6927txp2V/r1q31wgsvaPjw4e6RCeBS5WXO9uQm8D8ZGRmaNm2a+vXrpzJlymjTpk3q06ePvvvuu0KjCCXBL7/8og0bNrjvhnj//fe1ceNGvfrqq54tDCXKggUL3HfTADiGEQScM6fTKW9vb3Xt2lUOh0MOh0OvvvpqiQsHklSjRg29/fbbmjt3rry8vFS1alWNGjXK02UBQInHCAIAALDgIkUAAEqJjRs3qkePHpb5K1asUJcuXRQVFaW5c+eeVVucYgAAoBR4++23tXDhQsuF2Hl5eRo3bpzmzZunMmXKqFu3bmrRooUqVap02vYuakBwuVzKzMyUt7d3iTwfDQDAiYwxysvLU0BAwDndXXS+8vPz3bf9niu73X7a524EBwdr6tSpevHFFwvN//333xUcHOx+NH3jxo21bt06tWvX7rT7u6gBITMzU1u3br2YTQIAUORCQ0MVGBhYpPvIz8/X2pU/yKec87y2t9vt7tvKT+auu+5yP6X1RBkZGYWOLSAgwPIQupO5qAHh+GNSQ0Ols7iNGjhB2P/+z1fl4nyEib6D85GbG6qtW7e637+KUkFBgXzKOfVDrxHK3nvgnLb1q3ylmr47TAUFBef89E6n01noceeZmZlnFYYuakA4flrBx0c64cmowFmgw+BC0H9wvo59mi3O0+LZew/o6K79xba/kJAQ9ze8+vv7a926derVq9cZt+MiRQAASqFFixYpKytLUVFRGjBggHr16iVjjLp06aIqVaqccXsCAgAApUS1atXctzFGRka657ds2dL9Dbhni+cgAAAACwICAACwICAAAAALAgIAALAgIAAAAAsCAgAAsCAgAAAACwICAACwICAAAAALAgIAALAgIAAAAAsCAgAAsCAgAAAACwICAACwICAAAAALAgIAALAgIAAAAAsCAgAAsCAgAAAACwICAACwICAAAAALAgIAALAgIAAAAAsCAgAAsCAgAAAACwICAACwICAAAAALAgIAALAgIAAAAAsCAgAAsHB4ugAAAC4nN0ky57iNV1EUcgaMIAAAAAsCAgAAsCAgAAAACwICAACwICAAAAALAgIAALAgIAAAAAsCAgAAsCAgAAAACwICAACwICAAAAALAgIAALAgIAAAAAsCAgAAsCAgAAAACwICAACwICAAAAALAgIAALAgIAAAAAsCAgAAsCAgAAAACwICAACwICAAAAALAgIAALAgIAAAUAq4XC4NHTpUUVFR6tGjh5KTkwstX7hwoTp37qwuXbpo1qxZZ2zPUVSFAgCA4rNs2TLl5uYqPj5eCQkJiouL0xtvvOFePmHCBC1evFj+/v66++67dffdd6tcuXKnbI+AAABAKbB+/XpFRERIksLDw5WYmFhoeZ06dXTkyBE5HA4ZY+Tl5XXa9ggIAACUAhkZGXI6ne5pu92u/Px8ORzH3upr166tLl26qEyZMmrdurXKli172va4BgEAgFLA6XQqMzPTPe1yudzhYMuWLfr222+1fPlyrVixQmlpafrqq69O2x4BAQCAUqBRo0ZauXKlJCkhIUGhoaHuZYGBgfLz85Ovr6/sdrsqVKigw4cPn7Y9TjEAAFAKtG7dWj/88IOio6NljNHYsWO1aNEiZWVlKSoqSlFRUXrggQfk7e2t4OBgde7c+bTtERAAACgFbDabRo4cWWheSEiI++du3bqpW7duZ9/eRasMAACUGgQEAABgwSkGAACKUc0q2bJ7ZZ3TNgWVs7W/iOo5FUYQAACABQEBAABYEBAAAIAFAeE8ffHF96pfP1p16tyr++6L1eHDGWe9TkFBgZ599mXVrdtFtWp10ptvznNv89tvf+qOOx7T9dffpyZNHtKWLTuK65BQTOg7uBD0HxSXswoIGzduVI8ePYq6lkvGvn0H9cgjIzR//gQlJS1QzZrXaMCAf5/1OtOnL9DWrclKTIzX2rUf6dVXZ2vNmmNfqtG9+2A9/ngX/frrJxoxoo+6dn1RxphiP0YUDfoOLgT9B8XpjAHh7bff1uDBg5WTk1Mc9VwSli5drZtuul61awdLkvr27aqZM78q9I/pdOt8+uk3euSRDnI4HLriirKKjm6jjz/+Sjt37tWWLcmKjm4jSWrXrqkyMo5qw4ak4j9IFAn6Di4E/QfF6YwBITg4WFOnTi2OWi4ZKSl7FBRUxT1drVplHT6cqSNHMs9qHeuyKkpN3auUlD26+uqKstlshbZLTd1TxEeE4kLfwYWg/6A4nTEg3HXXXe5vg8IxLpfrpN+jbbfbz2odl6vw93AbY2S32066zbFl9n82g0sUfQcXgv6D4sRFiuchOPgq/fXXPvf0zp37dMUVZRUQUOas1vnnsr/+2qdq1SorOPgq7dq1v9Bw4V9/7Ve1apWL+IhQXOg7uBD0HxQnAsJ5aNPmFq1enajffvtTkvTmm/PVsWOzs16nY8c79N57C5Wfn6/09COaM2epOnVqrmrVqqhWrSDFxy+VJH399SrZbF664YZaxXh0KEr0HVwI+g+KE+cOzkPlyhX0/vtD1bVrrHJz8xQSUk0ffTRC69b9qkcfHa2EhFmnXEc6dtHQ77/vVIMGDyg3N099+tyrZs0aS5Jmzx6jxx4brdGj35Wfn68++WR8ofOCuLTRd3Ah6D8oTl7mIt7HkpOTo8TERIWFSb6+F6tVXB4a/+//6z1aBS5VjUXfwfnIyQn73/tWmHyL+I3r+HtkxUd7y7537zltW1C5sva/81ax1Hkc8RAAAFgQEAAAgAUBAQAAWBAQAACABQEBAABYEBAAAIAFAQEAAFgQEAAAgAUBAQAAWBAQAACABQEBAABYEBAAAIAFAQEAAFgQEAAAgAUBAQAAWBAQAACABQEBAABYEBAAAIAFAQEAAFgQEAAAgAUBAQAAWBAQAACAhcPTBQAAcDmpdINTvoeyz2mbnHJO7S+iek6FEQQAAGBBQAAAABYEBAAAYEFAAAAAFgQEAABgQUAAAAAWBAQAAGBBQAAAABYEBAAAYEFAAAAAFgQEAABgQUAAAAAWBAQAAGBBQAAAABYEBAAAYEFAAAAAFg5PFwAAAC6cy+XS8OHDlZSUJB8fH40ePVrVq1d3L//5558VFxcnY4wqVaqkiRMnytfX95TtMYIAAEApsGzZMuXm5io+Pl4xMTGKi4tzLzPGaMiQIRo3bpxmz56tiIgI7dy587TtMYIAAEApsH79ekVEREiSwsPDlZiY6F72xx9/qHz58vrwww+1detWNWvWTDVr1jxte4wgAABQCmRkZMjpdLqn7Xa78vPzJUkHDx7Uhg0b9MADD+j999/X6tWrtWrVqtO2R0AAAKAUcDqdyszMdE+7XC45HMdOFJQvX17Vq1dXrVq15O3trYiIiEIjDCdDQAAAoBRo1KiRVq5cKUlKSEhQaGioe1lQUJAyMzOVnJwsSVq3bp1q16592va4BgEAgFKgdevW+uGHHxQdHS1jjMaOHatFixYpKytLUVFRGjNmjGJiYmSMUcOGDdW8efPTtkdAAACgFLDZbBo5cmSheSEhIe6fb731Vs2bN+/s27tolQEAgFKDgAAAACwICAAAwIKAAAAALAgIAADAgoAAAAAsCAgAAMCCgAAAACwICAAAwIKAAAAALHjUMgAAxcjr5vLyynGd2za+5YummNNgBAEAAFgQEAAAgAUBAQAAWBAQAACABQEBAABYEBAAAIAFAQEAAFgQEAAAgAUBAQAAWBAQAACABQEBAABYEBAAAIAFAQEAAFgQEAAAgAUBAQAAWDiKptkwSb5F0zRKucaeLgCXLPoOzkeOpwsosRhBAAAAFkUyguB65365ctKKommUUrbnv5MkjfCq4+FKcCkaZpKUek2Qp8vAJajS9m2eLqHEYgQBAABYEBAAAIAFAQEAAFgQEAAAgAUBAQAAWBAQAACABQEBAABYEBAAAIAFAQEAAFgQEAAAgAUBAQAAWBAQAACABQEBAABYEBAAAIAFAQEAAFgQEAAAgIXD0wUAAHA58apRVl4FrnPbxl62iKo5NUYQAACABQEBAABYEBAAAIAFAQEAAFgQEAAAgAUBAQAAWBAQAACABQEBAABYEBAAAIAFAQEAgFLA5XJp6NChioqKUo8ePZScnHzS9YYMGaJJkyadsT0CAgAApcCyZcuUm5ur+Ph4xcTEKC4uzrLOnDlztHXr1rNqj4AAAEApsH79ekVEREiSwsPDlZiYWGj5hg0btHHjRkVFRZ1VewQEAABKgYyMDDmdTve03W5Xfn6+JGnv3r3697//raFDh551e3ybIwAApYDT6VRmZqZ72uVyyeE49ja/ZMkSHTx4UL1799a+ffuUnZ2tmjVr6t577z1lewQEAABKgUaNGumbb75R+/btlZCQoNDQUPeyhx56SA899JAkacGCBdq+fftpw4FEQAAAoFRo3bq1fvjhB0VHR8sYo7Fjx2rRokXKyso66+sOTkRAAACgFLDZbBo5cmSheSEhIZb1zjRy4G7volQFAABKFQICAACwICAAAAALAgIAALAgIAAAAAsCAgAAsCAgAAAACwICAACwICAAAAALAgIAALAgIAAAAAsCAgAAsCAgAAAACwICAACwICAAAAALAgIAALAgIAAAAAuHpwsAAOCyUrOWZMs6t21c/lJm0ZRzKowgAAAACwICAACwICAAAAALAgIAALAgIAAAAAsCAgAAsCAgAAAACwICAACwICAAAAALAgIAALAgIAAAAAsCAgAAsCAgAAAACwICAACwICAAAAALAgIAALAgIAAAAAsCAgAAsCAgAAAACwICAACwcHi6gEvVF7+m6aUvdygn3+iGqv56J6q2yvoV/nX2X7hd8zYeUAX/Y/NDK5XRnIfqFlqnywebdXVZH029N0SSlJaVp6cXbNfmPVk6mufSwDuD1OPGysVzUChWHT+I095ftmrVy+9ZltVu30ytxsXI7uujPT8naWGvQco9kikvm01tXh6gWm0jZHPY9eOk97R++hxJUoVa1dXh3THyr3iFcjOy9OlDsTqQtL24DwtFzK9VS5UdMEBevj7K27xZB2NekMnIcC/379pFzt6PuadtgYGyV62qXTc2kSstTeWGDZFf8+bysjt0ZPp0Zc74WI7atVXh9anubbxsdnlfV1f7H31M2V8tKdbjQ8lxxoDgcrk0fPhwJSUlycfHR6NHj1b16tWLo7YSa19GnnrF/6bvnqqv2pXKaMDiPzTwix16vUutQuut2nFEsx6so9tqlD1pOxNXpOr77Yd0f3gl97xHZv+m66qU0ccP1lFqeo4aTPpJLWqVU7XyvkV6TCg+FevWVPvXh+mam+tr7y9bLcv9K16hju+P03tNuyltW7LujOuvO+P668snR6hxn2hdGXqtpoXdI9/AAPVaFa9dP23SX2t/0b0zJ2n1qx8qcfZi1Wp7h+6f95reuCHSA0eIomKrUEFXTH5Z+zp1Vv4fO1Ru0ECVGzRQ6YNecq+TNW++subNPzbhcKjSgnk68vo0ufbvV8DDD8lRo6b2tLxTXk6nKi/8TLm/JCovIUF727R1t1Fu6BDlbdlCOLjMnfEUw7Jly5Sbm6v4+HjFxMQoLi6uOOoq0ZYmHdSNQU7VrlRGkvT4bVU166d9Msa418nJd2nDzgxN/CZVDSb+pK4fbNafB7Pdy7/dlq6vkw6qz61V3fPSsvK0bGu6hrYJliRVK++rVc+Eu0cgUDrc9GR3/fTOJ/r1k5P/8Q1pc7t2rv1FaduSJUlr35itG7ofe6Ov2/lOJby/QKagQNnph5U45wvVf7CDAq+urIp1aypxzheSpG1LVsrH6a+rGl5fPAeFYuHb7A7lbtyo/D92SJIyPpoh/86dTrl+4JNPyLX/gDI/nilJKtP2LmXNnSsVFMgcOqSjny+U/72dC23j06SJytzdXgcHDCyqw8Al4owBYf369YqIiJAkhYeHKzExsciLKulS03MUdMIn+mrlfHU4u0BHcgrc8/46lKsWtcprVLvqSujfULdUD1Tn9zbLGKO/DuXouc+2a0b3OrKf8Aps25+tqmW99cp/dypi6kY1eSVBP6VmyN/HXpyHhyL2Vb9RSpy9+JTLywZdpcMpu93Th1N3y69coHwCA1QuqKoOpewqtKxstatUNqiqjvy1VzohpB5O3aOy1a4qmoOARziuvloFf/3lni7YtUu2smXl5XRa1rVdcYUCez+m9OEj3PPs/9g+f9cuOapWLbRduSEv6fD4CYVOW+DydMaPphkZGXKe0Pnsdrvy8/PlcFy+n2pdRvI6yXy7199za1zppy8eq+eejml+jUb/J0Xb9mer99zf9HLHmqpa1qfQ9nkFRn+k5aisn0Pf9WugbfuPqtm/f1btimXUOMj6BwClk5fNVuiN/jhT4JKXzavQMi8vL7kKXPKy2QqNYP1voUxBgVCK2GyStWtIJ3mdAx7srqNL/6OCP//8x/aF+49x/b2tz42NZa9wpbI+/ewiFo1L1Rnf5Z1OpzIzM93TLpfrsg4HkhR0ha/+788j7umdh3J0RRmHAnz//qT/81+Z2vhXZqELDI2k3Udytf1Atvov/EP633SByyg7z6VBdwZJknredGybWhXLqGmNslqTcoSAcBk59OcuXXNzA/d02Wuq6GhauvKyjurQn7sUePXffSrw6so6krpbh/78S4FVKxVqJ/DqyjqculsoPQp27pRPw4buaftVV8l1MF3m6FHLumU6RCp9yDDL9rYqf48q2apUUcGuv/tImchIZc6bd9KAisvPGU8xNGrUSCtXrpQkJSQkKDQ0tMiLKunahJbX/yUf0W/7jv2jnL5qtzqEVSi0js1Levaz3/XHgWPXHbz5427Vr+qviJrllDy0iX6KaaifYhqqz61X6f7wSno7qrZqXOmnRtUC9NG6vZKkPUdytWrHEd1YjXBwOfl96feqdksDVah17GLgGx+P1pbPl0uSkj5frvB/dZGX3S7fcoGqF323tny2TEd27lHatj9VL6q9pGPXMRiXS3tOchEkLl3Z/10pn0YN5ahxrSQpoMeDOrp0qWU9r3Ll5Lj2WuWuW1do/tGvlyog+n7JbpdX2bLy79hBR5d87V7ue+styvn+hyI9Blw6zjgU0Lp1a/3www+Kjo6WMUZjx44tjrpKtMqBPno3urbu/3CzcguMal7ppw8fCNW6lCPqPXebfoppqLCqAXqtc4g6vverClxG15Tz1cwH65yx7fk9r9NTC37Xmz/ulssYDW4TpJuCA4vhqOBJVRuHqcM7ozW9YSdl7UvT548M1H3zpsju462Dv/+pTx+KlXTsgsUrQoL1+MbPZffx1vrp8UpeuVaSNL/b84p8e5TuGNxX+dm5+uS+Z/gkWMq4DhzQwedjVOGt6fLy9lZ+crLSnnlO3vXr64pJE9x3IjiuvVauPXul/PxC22d+NEOOa6uryn++lnx8lDljpnJXr3Yvd9SooYLUlGI9JpRcXsZy4vL85eTkKDExUdevHinfnLSL1SwuA7bnv5MkjfA6c4gC/mmYSVLqNUGeLgOXoErbtykxMVFhYWHy9S3a28mPv0fWC1gsX1vWuW3r8temzHuKpc7jeJIiAACwICAAAAALAgIAALAgIAAAAAsCAgAAsLi8n3gEAEAx87qitry8885tmzxvKfPM611MjCAAAAALAgIAALDgFAMAAKWAy+XS8OHDlZSUJB8fH40ePVrVq1d3L1+8eLE+/PBD2e12hYaGavjw4bLZTj1OwAgCAAClwLJly5Sbm6v4+HjFxMQoLi7OvSw7O1uvvvqqPvroI82ZM0cZGRn65ptvTtseAQEAgFJg/fr1ioiIkCSFh4crMTHRvczHx0dz5sxRmTJlJEn5+flnfGQzAQEAgFIgIyNDTuff3/5rt9uV/78v7LLZbKpYsaIkacaMGcrKylLTpk1P2x7XIAAAUAo4nU5lZv59L6TL5ZLD4Sg0PXHiRP3xxx+aOnWqvLy8TtseIwgAAJQCjRo10sqVKyVJCQkJCg0NLbR86NChysnJ0bRp09ynGk6HEQQAAEqB1q1b64cfflB0dLSMMRo7dqwWLVqkrKwshYWFad68ebrxxhv18MMPS5IeeughtW7d+pTtERAAACgFbDabRo4cWWheSEiI++ctW7acW3sXpSoAAFCqEBAAAIAFAQEAAFgQEAAAgAUBAQAAWBAQAACABQEBAABYEBAAAIAFAQEAAFgQEAAAgAUBAQAAWBAQAACABQEBAABYEBAAAIAFAQEAAFgQEAAAgAUBAQAAWBAQAACABQEBAABYEBAAAIAFAQEAAFgQEAAAgAUBAQAAWBAQAACAhcPTBQAAcFkpX0fyPcdtciSlFkUxp8YIAgAAsCAgAAAACwICAACwICAAAAALAgIAALAgIAAAAAsCAgAAsCAgAAAACwICAACwICAAAAALAgIAALAgIAAAAAsCAgAAsCAgAAAACwICAACwICAAAAALAgIAALAgIAAAAAsCAgAAsCAgAAAACwICAACwICAAAAALAgIAALAgIAAAAAsCAgAAsCAgAAAACwICAACwICAAAAALAgIAALAgIAAAAAsCAgAApYDL5dLQoUMVFRWlHj16KDk5udDyFStWqEuXLoqKitLcuXPP2B4BAQCAUmDZsmXKzc1VfHy8YmJiFBcX516Wl5encePG6b333tOMGTMUHx+vffv2nbY9x8UszhgjScp/6GPZfHwuZtMo7XJyJEkDsn/2cCG4FOXk5KjS9m2eLgOXoNzcXEl/v38Vh7y8otlm/fr1ioiIkCSFh4crMTHRvez3339XcHCwypUrJ0lq3Lix1q1bp3bt2p2yvYsaEPL+dwRbt269mM0CAFCk8vLy5OfnV6T7sNvtstvtSkoquKDtTyUjI0NOp7PQ+vn5+XI4HMrIyFBgYKB7WUBAgDIyMk67v4saEAICAhQaGipvb295eXldzKYBALjojDHKy8tTQEBAke/L4XAoLCxMBQXnHxAcjlO/bTudTmVmZrqnXS6Xe/1/LsvMzCwUGE5a73lVeQo2m+2MOwQAoCQp6pGDEzkcjtO+yV+IRo0a6ZtvvlH79u2VkJCg0NBQ97KQkBAlJycrPT1d/v7+WrdunXr16nXa9rxMcZ54AQAARcLlcmn48OHaunWrjDEaO3asfv31V2VlZSkqKkorVqzQ66+/LmOMunTpou7du5+2PQICAACw4DZHAABgQUAAAAAWBAQAAGBBQAAuUdu2bVN+fr6ny0AJ53K5PF0CLlEEhBLmfO+PxeXlq6++0htvvKFNmzYREnBS77//vg4dOiSbzUZIwHkhIJQgLpdLdrtdxhht3LhRu3fv9nRJKGGMMXrllVfUqlUr1a9fX59//jkhARYZGRlaunSp3nzzTaWnpxMScF4ICCVEQUGBbDabjDF6+umnFRcXp7ffflvLli3zdGkoQby8vJSUlKSYmBh169ZNwcHB+uyzzwgJkHTsQ8a7776rtWvXKicnRw6HQy+//DIhAeeFgFBCHB85ePfdd9W4cWN98MEHqlOnjhISEvT11197ujyUAMe/6+TNN99UYGCgnn76aT3wwAOqXr26Fi1apISEBE5RXeamTZumjRs3qmHDhoqOjtaDDz6oChUqaPLkyYQEnDMCgoed+I913bp1io+Pl6+vr3x9fdWqVStVrVpV69ev14EDBzxYJTzN5XLJ29tbaWlpSk1N1dixY1W9enX169dPDzzwgCpVqqTly5czinCZi4yM1I4dOzRgwADVq1dPVapUUefOnVWpUiWNHj3afU0CcDaK5oHQOCsFBQXukYOkpCSFhoYqNjZWs2bNUu3atXXjjTeqXbt2ysnJ0ZVXXunpcuEhxhjZbDbt3btX/fr1U40aNZSbm6vJkycrLi5OPXv21AcffKCsrCz5+vp6ulx4UFBQkBwOh7Zt26a0tDRJUvXq1dW+fXv95z//cX+1MXA2eNSyh7lcLvXp00cVKlRQQkKCBg4cqIMHD2r27Nl67rnndOutt3q6RJQAR44c0XPPPec+pTB48GCFhoZq2LBheu211xQdHa2qVat6ukyUAGlpaUpJSdG4ceP0yCOP6K677pJ07BSVt7e3h6vDpYSA4AEpKSmqWrWqHA6Hxo0bJ5vNptjYWK1du1bjxo3TxIkTtXnzZgUFBalBgwaeLhcecnyESTp2VfqXX36pGjVqaMGCBYqIiNAHH3yg4OBgTZo0ycOVoiRauXKl4uLiFBMTo1atWnm6HFyCOMVQzFatWqWMjAwFBQVJkqpWrepO9TfddJNatmypX375RZ06dfJglfC047e87tmzR99++62Cg4NVp04dfffdd+rSpYtcLpdCQ0PVu3dvT5eKEuqOO+6Qt7e3+28NcK4ICMXs+CmDDz/8ULVq1ZK/v7927typZcuWqWzZslq6dKmGDx/u2SLhcTabTfv27dOLL76o0NBQhYaGqkGDBlqyZIkWLlyoH3/8UdOnT1dwcLCnS0UJxilKXAhOMRSTE4eLpWO3Ix0+fFi33367Nm3apKysLG3evFkPP/ywmjZt6sFK4Wkul0s2m03Tp09Xenq6YmNjJUlr1qzR2rVr1ahRIwUFBalatWoerhRAacYIQjE4fnGQy+XSqFGjVK9ePT3xxBP64IMPtHbtWt1888267bbbdPjwYZUtW9bT5cJDjgeD45k9KChINptNWVlZ8vf31/r161W1alU+FQIoFgSEYnD8GoN+/frppptuUuXKlbV06VI1bdpUX3zxhRYvXqywsDAFBgZ6uFJ4yvFwsHfvXs2cOVN16tRRdna2/u///k/e3t7KysrS6tWrOf0EoNgQEIrQZ599pqNHj6pbt27avXu3MjIyFBERoYkTJyooKEhffPGFJkyYoAMHDjBycBk7Hg7S0tL02GOP6ZFHHtGSJUtUvXp1dejQQS6XSxkZGRoxYoRq1Kjh6XIBXCYICEXo+J0IkydP1vPPP68GDRpozZo1evzxx1WrVi098cQTSktL09VXX+3ZQuExx8NBenq6kpKS1LVrV3Xq1Enx8fFq0KCBKlWqxCkFAB7BMzeLwD+fh//bb7/piSee0PPPP6/69etr+fLl6tatm3r16sXDbS5zNptNBw8eVO/evbVp0ya99dZbioyM1LRp01SzZk3NnDlTmZmZ4lpiAMWNEYSL7Pj96y6XS2PGjFHZsmX12muvadCgQerdu7feeust2Ww2tW3bVvXq1fN0ufAwl8ulJUuWKD8/X3feeafKlSunN954Q8uWLdPMmTM1adIkBQQEeLpMAJchbnMsIn379lXt2rV166236tZbb1V2drZiY2OVlpamGTNmeLo8lCBpaWmaO3eu0tPT1bFjR0nSjh07VK9ePZ5zAMBjCAgXiTFGXl5ekqRdu3Zp1KhRmjZtmiRp27ZteuuttzRhwgQlJSWpTp06niwVJVBaWpoWLlyo7du365FHHuFiRAAexzUIF0FBQYE7HEhS5cqV5XQ6NXnyZEmSr6+vDh8+rPT0dMIBTqpChQqKjIxU7dq1uaMFQInACMIFOj5y4HK59PTTT6tmzZratm2b+vTpo9mzZ+vw4cPat2+f+vbtq5YtW3q6XJRw/3ziJgB4CgHhApx4WqF///5q2LCh2rVrp/vvv1/t2rXTU089pd9++01Op1PXXnutZ4sFAOAccBfDeTp+//px1157rUJCQjRkyBANGjRIaWlp+uOPPxQWFubBKgEAOD9cg3AejDHuZ+YPGjRIn332mdLS0jR+/Hjddtttqlevnj766CPuXQcAXLIYQThHJ54j7t+/v8qUKaNOnTrphhtu0P79+5WRkaGYmBjFxMTouuuu83C1AACcHwLCOTjxIUhr1qzRzp07lZ+fr+TkZIWEhGjgwIHy8/PTnXfeqZCQEE+XCwDAeeMixbN0/IJEY4z69u2rypUra+/evfr2228VFhamV155RUFBQZ4uEwCAi4KAcI5ef/11paamaty4cTLG6Nlnn9XKlSt1zTXXaN68efLz8/N0iQAAXDBOMZyDI0eOKDs7WwcOHNCWLVtUt25dRUZGqm3btgoLCyMcAABKDUYQztGhQ4e0YMECpaamqmbNmvr888/1zDPPqGnTpp4uDQCAi4bbHM9RuXLl1LFjR11xxRX68ssvdd9996lp06bc0ggAKFU4xXAeKlSooAcffFD+/v5KSkpyn24AAKC0YAThPJUvX14dO3bUtddeq4oVK3q6HAAALiquQbhAfLkOAKA0IiAAAAALTjEAAAALAgIAALAgIAAAAAsCAgAAsCAgAAAAi/8HgB9yXIyL5YwAAAAASUVORK5CYII=\n",
>>>>>>> 99fbb42c6b0a82f6b194645a974d6fc0bf2cab8c
      "text/plain": [
       "<Figure size 576x396 with 2 Axes>"
      ]
     },
     "metadata": {},
     "output_type": "display_data"
    },
    {
     "data": {
      "text/plain": [
       "ClassificationReport(ax=<AxesSubplot:title={'center':'LogisticRegression Classification Report'}>,\n",
<<<<<<< HEAD
       "                     cmap=<matplotlib.colors.ListedColormap object at 0x000001CE94A44F70>,\n",
       "                     estimator=LogisticRegression(), is_fitted=False)"
      ]
     },
     "execution_count": 42,
=======
       "                     cmap=<matplotlib.colors.ListedColormap object at 0x0000015F2003FE50>,\n",
       "                     estimator=LogisticRegression(), is_fitted=False)"
      ]
     },
     "execution_count": 40,
>>>>>>> 99fbb42c6b0a82f6b194645a974d6fc0bf2cab8c
     "metadata": {},
     "output_type": "execute_result"
    }
   ],
   "source": [
    "classification_report(LogisticRegression(), X_train, y_train, X_test, y_test,scoring='f1_macro', is_fitted=False)"
   ]
  },
  {
   "cell_type": "markdown",
   "id": "98d112d1",
   "metadata": {},
   "source": []
  },
  {
   "cell_type": "code",
   "execution_count": null,
   "id": "d8986efe",
   "metadata": {},
   "outputs": [],
   "source": []
  }
 ],
 "metadata": {
  "kernelspec": {
   "display_name": "Python 3",
   "language": "python",
   "name": "python3"
  },
  "language_info": {
   "codemirror_mode": {
    "name": "ipython",
    "version": 3
   },
   "file_extension": ".py",
   "mimetype": "text/x-python",
   "name": "python",
   "nbconvert_exporter": "python",
   "pygments_lexer": "ipython3",
   "version": "3.8.8"
  }
 },
 "nbformat": 4,
 "nbformat_minor": 5
}
