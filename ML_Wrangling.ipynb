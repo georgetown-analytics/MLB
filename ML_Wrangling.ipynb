{
 "cells": [
  {
   "cell_type": "code",
   "execution_count": 2,
   "id": "2ee8ed19",
   "metadata": {},
   "outputs": [],
   "source": [
    "import pandas as pd\n",
    "import numpy as np\n",
    "from datetime import datetime\n",
    "import os\n",
    "from matplotlib import pyplot"
   ]
  },
  {
   "cell_type": "markdown",
   "id": "4d2dd2d0",
   "metadata": {},
   "source": [
    "## Game  by game home team or visiter team win "
   ]
  },
  {
   "cell_type": "code",
   "execution_count": 3,
   "id": "8b242c90",
   "metadata": {},
   "outputs": [
    {
     "name": "stderr",
     "output_type": "stream",
     "text": [
      "C:\\Users\\amjad\\anaconda3\\lib\\site-packages\\IPython\\core\\interactiveshell.py:3165: DtypeWarning: Columns (12,14,19,20,81,83,93,94,95,96,97,98,100,105,106,108,109,111,112,114,115,117,118,120,121,123,124,126,127,129,130,132,133,135,136,138,139,141,142,144,145,147,148,150,151,153,154,156,157,160) have mixed types.Specify dtype option on import or set low_memory=False.\n",
      "  has_raised = await self.run_ast_nodes(code_ast.body, cell_name,\n"
     ]
    }
   ],
   "source": [
    "mainData = pd.read_csv(\n",
    "    os.path.join(\"game_logs.csv\"),\n",
    "    nrows=40000 # just taking the first 40k rows for efficiency\n",
    ")"
   ]
  },
  {
   "cell_type": "code",
   "execution_count": 4,
   "id": "13469455",
   "metadata": {},
   "outputs": [
    {
     "data": {
      "text/html": [
       "<div>\n",
       "<style scoped>\n",
       "    .dataframe tbody tr th:only-of-type {\n",
       "        vertical-align: middle;\n",
       "    }\n",
       "\n",
       "    .dataframe tbody tr th {\n",
       "        vertical-align: top;\n",
       "    }\n",
       "\n",
       "    .dataframe thead th {\n",
       "        text-align: right;\n",
       "    }\n",
       "</style>\n",
       "<table border=\"1\" class=\"dataframe\">\n",
       "  <thead>\n",
       "    <tr style=\"text-align: right;\">\n",
       "      <th></th>\n",
       "      <th>date</th>\n",
       "      <th>number_of_game</th>\n",
       "      <th>day_of_week</th>\n",
       "      <th>v_name</th>\n",
       "      <th>v_league</th>\n",
       "      <th>v_game_number</th>\n",
       "      <th>h_name</th>\n",
       "      <th>h_league</th>\n",
       "      <th>h_game_number</th>\n",
       "      <th>v_score</th>\n",
       "      <th>...</th>\n",
       "      <th>h_player_7_name</th>\n",
       "      <th>h_player_7_def_pos</th>\n",
       "      <th>h_player_8_id</th>\n",
       "      <th>h_player_8_name</th>\n",
       "      <th>h_player_8_def_pos</th>\n",
       "      <th>h_player_9_id</th>\n",
       "      <th>h_player_9_name</th>\n",
       "      <th>h_player_9_def_pos</th>\n",
       "      <th>additional_info</th>\n",
       "      <th>acquisition_info</th>\n",
       "    </tr>\n",
       "  </thead>\n",
       "  <tbody>\n",
       "    <tr>\n",
       "      <th>0</th>\n",
       "      <td>18710504</td>\n",
       "      <td>0</td>\n",
       "      <td>5</td>\n",
       "      <td>CL1</td>\n",
       "      <td>na</td>\n",
       "      <td>1</td>\n",
       "      <td>FW1</td>\n",
       "      <td>na</td>\n",
       "      <td>1</td>\n",
       "      <td>0</td>\n",
       "      <td>...</td>\n",
       "      <td>Ed Mincher</td>\n",
       "      <td>7.0</td>\n",
       "      <td>mcdej101</td>\n",
       "      <td>James McDermott</td>\n",
       "      <td>8.0</td>\n",
       "      <td>kellb105</td>\n",
       "      <td>Bill Kelly</td>\n",
       "      <td>9.0</td>\n",
       "      <td>NaN</td>\n",
       "      <td>Y</td>\n",
       "    </tr>\n",
       "    <tr>\n",
       "      <th>1</th>\n",
       "      <td>18710505</td>\n",
       "      <td>0</td>\n",
       "      <td>6</td>\n",
       "      <td>BS1</td>\n",
       "      <td>na</td>\n",
       "      <td>1</td>\n",
       "      <td>WS3</td>\n",
       "      <td>na</td>\n",
       "      <td>1</td>\n",
       "      <td>20</td>\n",
       "      <td>...</td>\n",
       "      <td>Asa Brainard</td>\n",
       "      <td>1.0</td>\n",
       "      <td>burrh101</td>\n",
       "      <td>Henry Burroughs</td>\n",
       "      <td>9.0</td>\n",
       "      <td>berth101</td>\n",
       "      <td>Henry Berthrong</td>\n",
       "      <td>8.0</td>\n",
       "      <td>HTBF</td>\n",
       "      <td>Y</td>\n",
       "    </tr>\n",
       "    <tr>\n",
       "      <th>2</th>\n",
       "      <td>18710506</td>\n",
       "      <td>0</td>\n",
       "      <td>7</td>\n",
       "      <td>CL1</td>\n",
       "      <td>na</td>\n",
       "      <td>2</td>\n",
       "      <td>RC1</td>\n",
       "      <td>na</td>\n",
       "      <td>1</td>\n",
       "      <td>12</td>\n",
       "      <td>...</td>\n",
       "      <td>Pony Sager</td>\n",
       "      <td>6.0</td>\n",
       "      <td>birdg101</td>\n",
       "      <td>George Bird</td>\n",
       "      <td>7.0</td>\n",
       "      <td>stirg101</td>\n",
       "      <td>Gat Stires</td>\n",
       "      <td>9.0</td>\n",
       "      <td>NaN</td>\n",
       "      <td>Y</td>\n",
       "    </tr>\n",
       "    <tr>\n",
       "      <th>3</th>\n",
       "      <td>18710508</td>\n",
       "      <td>0</td>\n",
       "      <td>2</td>\n",
       "      <td>CL1</td>\n",
       "      <td>na</td>\n",
       "      <td>3</td>\n",
       "      <td>CH1</td>\n",
       "      <td>na</td>\n",
       "      <td>1</td>\n",
       "      <td>12</td>\n",
       "      <td>...</td>\n",
       "      <td>Ed Duffy</td>\n",
       "      <td>6.0</td>\n",
       "      <td>pinke101</td>\n",
       "      <td>Ed Pinkham</td>\n",
       "      <td>5.0</td>\n",
       "      <td>zettg101</td>\n",
       "      <td>George Zettlein</td>\n",
       "      <td>1.0</td>\n",
       "      <td>NaN</td>\n",
       "      <td>Y</td>\n",
       "    </tr>\n",
       "    <tr>\n",
       "      <th>4</th>\n",
       "      <td>18710509</td>\n",
       "      <td>0</td>\n",
       "      <td>3</td>\n",
       "      <td>BS1</td>\n",
       "      <td>na</td>\n",
       "      <td>2</td>\n",
       "      <td>TRO</td>\n",
       "      <td>na</td>\n",
       "      <td>1</td>\n",
       "      <td>9</td>\n",
       "      <td>...</td>\n",
       "      <td>Steve Bellan</td>\n",
       "      <td>5.0</td>\n",
       "      <td>pikel101</td>\n",
       "      <td>Lip Pike</td>\n",
       "      <td>3.0</td>\n",
       "      <td>cravb101</td>\n",
       "      <td>Bill Craver</td>\n",
       "      <td>6.0</td>\n",
       "      <td>HTBF</td>\n",
       "      <td>Y</td>\n",
       "    </tr>\n",
       "  </tbody>\n",
       "</table>\n",
       "<p>5 rows × 161 columns</p>\n",
       "</div>"
      ],
      "text/plain": [
       "       date  number_of_game  day_of_week v_name v_league  v_game_number  \\\n",
       "0  18710504               0            5    CL1       na              1   \n",
       "1  18710505               0            6    BS1       na              1   \n",
       "2  18710506               0            7    CL1       na              2   \n",
       "3  18710508               0            2    CL1       na              3   \n",
       "4  18710509               0            3    BS1       na              2   \n",
       "\n",
       "  h_name h_league  h_game_number  v_score  ...  h_player_7_name  \\\n",
       "0    FW1       na              1        0  ...       Ed Mincher   \n",
       "1    WS3       na              1       20  ...     Asa Brainard   \n",
       "2    RC1       na              1       12  ...       Pony Sager   \n",
       "3    CH1       na              1       12  ...         Ed Duffy   \n",
       "4    TRO       na              1        9  ...     Steve Bellan   \n",
       "\n",
       "   h_player_7_def_pos h_player_8_id  h_player_8_name h_player_8_def_pos  \\\n",
       "0                 7.0      mcdej101  James McDermott                8.0   \n",
       "1                 1.0      burrh101  Henry Burroughs                9.0   \n",
       "2                 6.0      birdg101      George Bird                7.0   \n",
       "3                 6.0      pinke101       Ed Pinkham                5.0   \n",
       "4                 5.0      pikel101         Lip Pike                3.0   \n",
       "\n",
       "   h_player_9_id  h_player_9_name  h_player_9_def_pos  additional_info  \\\n",
       "0       kellb105       Bill Kelly                 9.0              NaN   \n",
       "1       berth101  Henry Berthrong                 8.0             HTBF   \n",
       "2       stirg101       Gat Stires                 9.0              NaN   \n",
       "3       zettg101  George Zettlein                 1.0              NaN   \n",
       "4       cravb101      Bill Craver                 6.0             HTBF   \n",
       "\n",
       "  acquisition_info  \n",
       "0                Y  \n",
       "1                Y  \n",
       "2                Y  \n",
       "3                Y  \n",
       "4                Y  \n",
       "\n",
       "[5 rows x 161 columns]"
      ]
     },
     "execution_count": 4,
     "metadata": {},
     "output_type": "execute_result"
    }
   ],
   "source": [
    "mainData.head()"
   ]
  },
  {
   "cell_type": "code",
   "execution_count": 5,
   "id": "e1491373",
   "metadata": {},
   "outputs": [],
   "source": [
    "df = mainData[['date', 'day_of_week','v_game_number','h_game_number', 'v_score','h_score','length_outs','day_night',\n",
    "               'attendance','length_minutes', 'v_at_bats','h_at_bats', 'v_hits', 'h_hits', 'v_doubles','h_doubles', 'v_triples','h_triples',\n",
    "               'v_homeruns','h_homeruns','v_rbi','h_rbi', 'v_sacrifice_hits','h_sacrifice_hits','v_sacrifice_hits']].copy()"
   ]
  },
  {
   "cell_type": "code",
   "execution_count": 5,
   "id": "e5aef7b6",
   "metadata": {},
   "outputs": [
    {
     "data": {
      "text/plain": [
       "(40000, 25)"
      ]
     },
     "execution_count": 5,
     "metadata": {},
     "output_type": "execute_result"
    }
   ],
   "source": [
    "df.shape"
   ]
  },
  {
   "cell_type": "code",
   "execution_count": 6,
   "id": "ce129a12",
   "metadata": {},
   "outputs": [
    {
     "data": {
      "text/plain": [
       "date                  int64\n",
       "day_of_week           int64\n",
       "v_game_number         int64\n",
       "h_game_number         int64\n",
       "v_score               int64\n",
       "h_score               int64\n",
       "length_outs         float64\n",
       "day_night            object\n",
       "attendance          float64\n",
       "length_minutes      float64\n",
       "v_at_bats           float64\n",
       "h_at_bats           float64\n",
       "v_hits              float64\n",
       "h_hits              float64\n",
       "v_doubles           float64\n",
       "h_doubles           float64\n",
       "v_triples           float64\n",
       "h_triples           float64\n",
       "v_homeruns          float64\n",
       "h_homeruns          float64\n",
       "v_rbi               float64\n",
       "h_rbi               float64\n",
       "v_sacrifice_hits    float64\n",
       "h_sacrifice_hits    float64\n",
       "v_sacrifice_hits    float64\n",
       "dtype: object"
      ]
     },
     "execution_count": 6,
     "metadata": {},
     "output_type": "execute_result"
    }
   ],
   "source": [
    "df.dtypes"
   ]
  },
  {
   "cell_type": "code",
   "execution_count": 7,
   "id": "33f4860f",
   "metadata": {},
   "outputs": [],
   "source": [
    "# change date into datetime\n",
    "# doing this step create a problem that it makes the data not fitted for the transformer! it make it 3d\n",
    "#df['date'] = datetime.strptime('18710504', '%Y%m%d')\n",
    "df['day_night'] = df['day_night'].replace(['D','N'],[1,0])"
   ]
  },
  {
   "cell_type": "code",
   "execution_count": 8,
   "id": "3c1c4afb",
   "metadata": {},
   "outputs": [
    {
     "data": {
      "text/html": [
       "<div>\n",
       "<style scoped>\n",
       "    .dataframe tbody tr th:only-of-type {\n",
       "        vertical-align: middle;\n",
       "    }\n",
       "\n",
       "    .dataframe tbody tr th {\n",
       "        vertical-align: top;\n",
       "    }\n",
       "\n",
       "    .dataframe thead th {\n",
       "        text-align: right;\n",
       "    }\n",
       "</style>\n",
       "<table border=\"1\" class=\"dataframe\">\n",
       "  <thead>\n",
       "    <tr style=\"text-align: right;\">\n",
       "      <th></th>\n",
       "      <th>day_night</th>\n",
       "    </tr>\n",
       "  </thead>\n",
       "  <tbody>\n",
       "    <tr>\n",
       "      <th>0</th>\n",
       "      <td>1.0</td>\n",
       "    </tr>\n",
       "    <tr>\n",
       "      <th>1</th>\n",
       "      <td>1.0</td>\n",
       "    </tr>\n",
       "    <tr>\n",
       "      <th>2</th>\n",
       "      <td>1.0</td>\n",
       "    </tr>\n",
       "    <tr>\n",
       "      <th>3</th>\n",
       "      <td>1.0</td>\n",
       "    </tr>\n",
       "    <tr>\n",
       "      <th>4</th>\n",
       "      <td>1.0</td>\n",
       "    </tr>\n",
       "    <tr>\n",
       "      <th>...</th>\n",
       "      <td>...</td>\n",
       "    </tr>\n",
       "    <tr>\n",
       "      <th>39995</th>\n",
       "      <td>1.0</td>\n",
       "    </tr>\n",
       "    <tr>\n",
       "      <th>39996</th>\n",
       "      <td>1.0</td>\n",
       "    </tr>\n",
       "    <tr>\n",
       "      <th>39997</th>\n",
       "      <td>1.0</td>\n",
       "    </tr>\n",
       "    <tr>\n",
       "      <th>39998</th>\n",
       "      <td>1.0</td>\n",
       "    </tr>\n",
       "    <tr>\n",
       "      <th>39999</th>\n",
       "      <td>1.0</td>\n",
       "    </tr>\n",
       "  </tbody>\n",
       "</table>\n",
       "<p>40000 rows × 1 columns</p>\n",
       "</div>"
      ],
      "text/plain": [
       "       day_night\n",
       "0            1.0\n",
       "1            1.0\n",
       "2            1.0\n",
       "3            1.0\n",
       "4            1.0\n",
       "...          ...\n",
       "39995        1.0\n",
       "39996        1.0\n",
       "39997        1.0\n",
       "39998        1.0\n",
       "39999        1.0\n",
       "\n",
       "[40000 rows x 1 columns]"
      ]
     },
     "execution_count": 8,
     "metadata": {},
     "output_type": "execute_result"
    }
   ],
   "source": [
    "df[['day_night']]"
   ]
  },
  {
   "cell_type": "code",
   "execution_count": 9,
   "id": "4f9d9448",
   "metadata": {},
   "outputs": [],
   "source": [
    "# calculate which column is greater than the other then if the visiting team win v=1, if the home team win h=0\n",
    "df['vist_win'] = np.where(\n",
    "    df['v_score'] > df['h_score'], 1, 0)"
   ]
  },
  {
   "cell_type": "code",
   "execution_count": 10,
   "id": "b60fd2da",
   "metadata": {},
   "outputs": [
    {
     "data": {
      "text/html": [
       "<div>\n",
       "<style scoped>\n",
       "    .dataframe tbody tr th:only-of-type {\n",
       "        vertical-align: middle;\n",
       "    }\n",
       "\n",
       "    .dataframe tbody tr th {\n",
       "        vertical-align: top;\n",
       "    }\n",
       "\n",
       "    .dataframe thead th {\n",
       "        text-align: right;\n",
       "    }\n",
       "</style>\n",
       "<table border=\"1\" class=\"dataframe\">\n",
       "  <thead>\n",
       "    <tr style=\"text-align: right;\">\n",
       "      <th></th>\n",
       "      <th>vist_win</th>\n",
       "    </tr>\n",
       "  </thead>\n",
       "  <tbody>\n",
       "    <tr>\n",
       "      <th>0</th>\n",
       "      <td>0</td>\n",
       "    </tr>\n",
       "    <tr>\n",
       "      <th>1</th>\n",
       "      <td>1</td>\n",
       "    </tr>\n",
       "    <tr>\n",
       "      <th>2</th>\n",
       "      <td>1</td>\n",
       "    </tr>\n",
       "    <tr>\n",
       "      <th>3</th>\n",
       "      <td>0</td>\n",
       "    </tr>\n",
       "    <tr>\n",
       "      <th>4</th>\n",
       "      <td>1</td>\n",
       "    </tr>\n",
       "    <tr>\n",
       "      <th>...</th>\n",
       "      <td>...</td>\n",
       "    </tr>\n",
       "    <tr>\n",
       "      <th>39995</th>\n",
       "      <td>1</td>\n",
       "    </tr>\n",
       "    <tr>\n",
       "      <th>39996</th>\n",
       "      <td>0</td>\n",
       "    </tr>\n",
       "    <tr>\n",
       "      <th>39997</th>\n",
       "      <td>1</td>\n",
       "    </tr>\n",
       "    <tr>\n",
       "      <th>39998</th>\n",
       "      <td>0</td>\n",
       "    </tr>\n",
       "    <tr>\n",
       "      <th>39999</th>\n",
       "      <td>0</td>\n",
       "    </tr>\n",
       "  </tbody>\n",
       "</table>\n",
       "<p>40000 rows × 1 columns</p>\n",
       "</div>"
      ],
      "text/plain": [
       "       vist_win\n",
       "0             0\n",
       "1             1\n",
       "2             1\n",
       "3             0\n",
       "4             1\n",
       "...         ...\n",
       "39995         1\n",
       "39996         0\n",
       "39997         1\n",
       "39998         0\n",
       "39999         0\n",
       "\n",
       "[40000 rows x 1 columns]"
      ]
     },
     "execution_count": 10,
     "metadata": {},
     "output_type": "execute_result"
    }
   ],
   "source": [
    "df[['vist_win']]"
   ]
  },
  {
   "cell_type": "code",
   "execution_count": 11,
   "id": "55eb83ac",
   "metadata": {},
   "outputs": [],
   "source": [
    "df = df.replace([' ','NULL','na','(none)'],np.nan)"
   ]
  },
  {
   "cell_type": "code",
   "execution_count": 12,
   "id": "64f3ddf8",
   "metadata": {},
   "outputs": [
    {
     "name": "stdout",
     "output_type": "stream",
     "text": [
      "date                0.0\n",
      "day_of_week         0.0\n",
      "v_game_number       0.0\n",
      "h_game_number       0.0\n",
      "v_score             0.0\n",
      "h_score             0.0\n",
      "length_outs         0.0\n",
      "day_night           0.0\n",
      "attendance          0.0\n",
      "length_minutes      0.0\n",
      "v_at_bats           0.0\n",
      "h_at_bats           0.0\n",
      "v_hits              0.0\n",
      "h_hits              0.0\n",
      "v_doubles           0.0\n",
      "h_doubles           0.0\n",
      "v_triples           0.0\n",
      "h_triples           0.0\n",
      "v_homeruns          0.0\n",
      "h_homeruns          0.0\n",
      "v_rbi               0.0\n",
      "h_rbi               0.0\n",
      "v_sacrifice_hits    0.0\n",
      "h_sacrifice_hits    0.0\n",
      "v_sacrifice_hits    0.0\n",
      "vist_win            0.0\n",
      "dtype: float64\n"
     ]
    },
    {
     "name": "stderr",
     "output_type": "stream",
     "text": [
      "C:\\Users\\amjad\\anaconda3\\lib\\site-packages\\numpy\\lib\\arraysetops.py:580: FutureWarning: elementwise comparison failed; returning scalar instead, but in the future will perform elementwise comparison\n",
      "  mask |= (ar1 == a)\n"
     ]
    }
   ],
   "source": [
    "print(df.isin(['NaN']).mean())"
   ]
  },
  {
   "cell_type": "code",
   "execution_count": 13,
   "id": "79e4bd2d",
   "metadata": {},
   "outputs": [],
   "source": [
    "# drop any NaNs\n",
    "df_2 = df.dropna()"
   ]
  },
  {
   "cell_type": "code",
   "execution_count": 14,
   "id": "d3b3d19a",
   "metadata": {},
   "outputs": [
    {
     "data": {
      "text/plain": [
       "(4258, 26)"
      ]
     },
     "execution_count": 14,
     "metadata": {},
     "output_type": "execute_result"
    }
   ],
   "source": [
    "df_2.shape"
   ]
  },
  {
   "cell_type": "code",
   "execution_count": 15,
   "id": "6356268f",
   "metadata": {},
   "outputs": [
    {
     "data": {
      "text/plain": [
       "date                  int64\n",
       "day_of_week           int64\n",
       "v_game_number         int64\n",
       "h_game_number         int64\n",
       "v_score               int64\n",
       "h_score               int64\n",
       "length_outs         float64\n",
       "day_night           float64\n",
       "attendance          float64\n",
       "length_minutes      float64\n",
       "v_at_bats           float64\n",
       "h_at_bats           float64\n",
       "v_hits              float64\n",
       "h_hits              float64\n",
       "v_doubles           float64\n",
       "h_doubles           float64\n",
       "v_triples           float64\n",
       "h_triples           float64\n",
       "v_homeruns          float64\n",
       "h_homeruns          float64\n",
       "v_rbi               float64\n",
       "h_rbi               float64\n",
       "v_sacrifice_hits    float64\n",
       "h_sacrifice_hits    float64\n",
       "v_sacrifice_hits    float64\n",
       "vist_win              int32\n",
       "dtype: object"
      ]
     },
     "execution_count": 15,
     "metadata": {},
     "output_type": "execute_result"
    }
   ],
   "source": [
    "df_2.dtypes"
   ]
  },
  {
   "cell_type": "markdown",
   "id": "8283b5c3",
   "metadata": {},
   "source": [
    "## Modeling"
   ]
  },
  {
   "cell_type": "code",
   "execution_count": 17,
   "id": "cfd4f8df",
   "metadata": {},
   "outputs": [],
   "source": [
    "#ML model\n",
    "from sklearn.model_selection import train_test_split\n",
    "from sklearn.pipeline import Pipeline\n",
    "from sklearn.impute import SimpleImputer \n",
    "from sklearn.model_selection import TimeSeriesSplit\n",
    "from sklearn.model_selection import cross_validate\n",
    "\n",
    "from sklearn.neighbors import KNeighborsClassifier\n",
    "from sklearn.svm import SVC\n",
    "from sklearn.linear_model import LogisticRegression\n",
    "from sklearn.naive_bayes import GaussianNB"
   ]
  },
  {
   "cell_type": "code",
   "execution_count": 16,
   "id": "7c035a71",
   "metadata": {},
   "outputs": [],
   "source": [
    "#VS\n",
    "from yellowbrick.classifier import classification_report, confusion_matrix, discrimination_threshold"
   ]
  },
  {
   "cell_type": "code",
   "execution_count": 18,
   "id": "aab345c4",
   "metadata": {},
   "outputs": [],
   "source": [
    "features = df_2[[\n",
    "    'date', 'day_of_week','v_game_number','h_game_number','length_outs'\n",
    "    ,'attendance','length_minutes', 'v_at_bats','h_at_bats', 'v_hits', 'h_hits', 'v_doubles','h_doubles'\n",
    "    ,'v_triples','h_triples','v_homeruns','h_homeruns','v_rbi','h_rbi', 'v_sacrifice_hits','h_sacrifice_hits'\n",
    "    ,'v_sacrifice_hits'\n",
    "]]\n",
    "\n",
    "target = df_2[['vist_win']].values.ravel()"
   ]
  },
  {
   "cell_type": "code",
   "execution_count": 6,
   "id": "42b6ff23",
   "metadata": {},
   "outputs": [
    {
     "data": {
      "text/plain": [
       "0        54.0\n",
       "1        54.0\n",
       "2        54.0\n",
       "3        54.0\n",
       "4        54.0\n",
       "         ... \n",
       "39995    54.0\n",
       "39996    51.0\n",
       "39997    54.0\n",
       "39998    51.0\n",
       "39999    51.0\n",
       "Name: length_outs, Length: 40000, dtype: float64"
      ]
     },
     "execution_count": 6,
     "metadata": {},
     "output_type": "execute_result"
    }
   ],
   "source": [
    "df['length_outs']"
   ]
  },
  {
   "cell_type": "code",
   "execution_count": 19,
   "id": "3af23ecc",
   "metadata": {},
   "outputs": [
    {
     "data": {
      "image/png": "[encoded data removed]",
      "text/plain": [
       "<Figure size 576x396 with 1 Axes>"
      ]
     },
     "metadata": {},
     "output_type": "display_data"
    },
    {
     "data": {
      "text/plain": [
       "<AxesSubplot:title={'center':'Feature Importances of 24 Features using RandomForestClassifier'}, xlabel='relative importance'>"
      ]
     },
     "execution_count": 19,
     "metadata": {},
     "output_type": "execute_result"
    }
   ],
   "source": [
    "from sklearn.ensemble import RandomForestClassifier\n",
    "\n",
    "from yellowbrick.datasets import load_occupancy\n",
    "from yellowbrick.model_selection import FeatureImportances\n",
    "\n",
    "# Load the classification data set\n",
    "\n",
    "model = RandomForestClassifier(n_estimators=10)\n",
    "viz = FeatureImportances(model)\n",
    "viz.fit(features, target)\n",
    "viz.show()"
   ]
  },
  {
   "cell_type": "code",
   "execution_count": 28,
   "id": "6dc9d34d",
   "metadata": {},
   "outputs": [],
   "source": [
    "#remove zero-variance features\n",
    "from sklearn.feature_selection import VarianceThreshold\n",
    "   \n",
    "\n",
    "constant_filter = VarianceThreshold(threshold=0)\n",
    "constant_filter.fit(features)\n",
    "constant_columns = [column for column in features.columns\n",
    "              if column not in\n",
    "X_train.columns[constant_filter.get_support()]]\n",
    "X_test = constant_filter.transform(features)\n",
    "for column in constant_columns:\n",
    "     print(\"Removed \", column)"
   ]
  },
  {
   "cell_type": "markdown",
   "id": "2de79cd0",
   "metadata": {},
   "source": [
    "According to this function we remove day_night feature because it has zero influnce on the result"
   ]
  },
  {
   "cell_type": "code",
   "execution_count": 21,
   "id": "3dd4e57f",
   "metadata": {},
   "outputs": [],
   "source": [
    "#figer out the best seven features\n",
    "from sklearn.feature_selection import SelectKBest\n",
    "from sklearn.feature_selection import f_classif\n",
    "    \n",
    "fvalue_Best = SelectKBest(f_classif, k=7)\n",
    "X_kbest = fvalue_Best.fit_transform(features, target)"
   ]
  },
  {
   "cell_type": "code",
   "execution_count": 22,
   "id": "fbad883f",
   "metadata": {},
   "outputs": [
    {
     "name": "stdout",
     "output_type": "stream",
     "text": [
      "Original number of features: (4258, 26)\n",
      "Reduced number of features: (4258, 7)\n"
     ]
    }
   ],
   "source": [
    "print('Original number of features:', df_2.shape)\n",
    "print('Reduced number of features:', X_kbest.shape)"
   ]
  },
  {
   "cell_type": "code",
   "execution_count": 32,
   "id": "4cb1dfb0",
   "metadata": {},
   "outputs": [],
   "source": [
    "#split the data\n",
    "X_train, X_test, y_train, y_test = train_test_split(\n",
    "    X_kbest, target, test_size=0.2\n",
    ")"
   ]
  },
  {
   "cell_type": "code",
   "execution_count": 34,
   "id": "d8e40adf",
   "metadata": {},
   "outputs": [
    {
     "data": {
      "text/plain": [
       "(3406, 7)"
      ]
     },
     "execution_count": 34,
     "metadata": {},
     "output_type": "execute_result"
    }
   ],
   "source": [
    "X_train.shape"
   ]
  },
  {
   "cell_type": "code",
   "execution_count": 35,
   "id": "c8b0399e",
   "metadata": {},
   "outputs": [
    {
     "data": {
      "text/plain": [
       "(3406,)"
      ]
     },
     "execution_count": 35,
     "metadata": {},
     "output_type": "execute_result"
    }
   ],
   "source": [
    "y_train.shape"
   ]
  },
  {
   "cell_type": "code",
   "execution_count": 63,
   "id": "a39902df",
   "metadata": {},
   "outputs": [
    {
     "data": {
      "text/plain": [
       "{'fit_time': array([0.00337863, 0.00298953, 0.00199318, 0.0037117 , 0.00299048]),\n",
       " 'score_time': array([0.00298738, 0.0019927 , 0.00299096, 0.00201774, 0.00199294]),\n",
       " 'test_score': array([0.7429376 , 0.77308692, 0.74597184, 0.78359339, 0.75527597])}"
      ]
     },
     "execution_count": 63,
     "metadata": {},
     "output_type": "execute_result"
    }
   ],
   "source": [
    "# Taking the best seven features and applying them to different ML models\n",
    "cross_validate(GaussianNB(), X_train, y_train, cv=TimeSeriesSplit(), scoring='f1_macro')"
   ]
  },
  {
   "cell_type": "code",
   "execution_count": 76,
   "id": "89b74765",
   "metadata": {},
   "outputs": [
    {
     "data": {
      "image/png": "[encoded data removed]",
      "text/plain": [
       "<Figure size 576x396 with 2 Axes>"
      ]
     },
     "metadata": {},
     "output_type": "display_data"
    },
    {
     "data": {
      "text/plain": [
       "ClassificationReport(ax=<AxesSubplot:title={'center':'GaussianNB Classification Report'}>,\n",
       "                     cmap=<matplotlib.colors.ListedColormap object at 0x000001332D5CB9A0>,\n",
       "                     estimator=GaussianNB(), is_fitted=False)"
      ]
     },
     "execution_count": 76,
     "metadata": {},
     "output_type": "execute_result"
    }
   ],
   "source": [
    "classification_report(model1, X_train, y_train, is_fitted=False)"
   ]
  },
  {
   "cell_type": "code",
   "execution_count": 74,
   "id": "a4c544bd",
   "metadata": {},
   "outputs": [
    {
     "data": {
      "text/plain": [
       "{'fit_time': array([0.02278399, 0.04883528, 0.10165882, 0.16544628, 0.26511812]),\n",
       " 'score_time': array([0.03306293, 0.04689884, 0.06478381, 0.08073068, 0.12258744]),\n",
       " 'test_score': array([0.87553624, 0.87198426, 0.88848779, 0.8907511 , 0.88423228])}"
      ]
     },
     "execution_count": 74,
     "metadata": {},
     "output_type": "execute_result"
    }
   ],
   "source": [
    "cross_validate(SVC(kernel='rbf', degree=3), X_train, y_train, cv=TimeSeriesSplit(), scoring='f1_macro')"
   ]
  },
  {
   "cell_type": "code",
   "execution_count": 77,
   "id": "e034ff67",
   "metadata": {},
   "outputs": [
    {
     "data": {
      "image/png": "[encoded data removed]",
      "text/plain": [
       "<Figure size 576x396 with 2 Axes>"
      ]
     },
     "metadata": {},
     "output_type": "display_data"
    },
    {
     "data": {
      "text/plain": [
       "ClassificationReport(ax=<AxesSubplot:title={'center':'SVC Classification Report'}>,\n",
       "                     cmap=<matplotlib.colors.ListedColormap object at 0x000001332D6E58B0>,\n",
       "                     estimator=SVC(), is_fitted=False)"
      ]
     },
     "execution_count": 77,
     "metadata": {},
     "output_type": "execute_result"
    }
   ],
   "source": [
    "classification_report(SVC(kernel='rbf', degree=3), X_train, y_train,is_fitted=False)"
   ]
  },
  {
   "cell_type": "code",
   "execution_count": 69,
   "id": "01a1be2d",
   "metadata": {},
   "outputs": [
    {
     "data": {
      "text/plain": [
       "{'fit_time': array([0.00412583, 0.00504732, 0.00597787, 0.0089457 , 0.00990319]),\n",
       " 'score_time': array([0.0394938 , 0.03494596, 0.03488064, 0.03488469, 0.03687716]),\n",
       " 'test_score': array([0.85982607, 0.87354754, 0.87847345, 0.88937212, 0.88580348])}"
      ]
     },
     "execution_count": 69,
     "metadata": {},
     "output_type": "execute_result"
    }
   ],
   "source": [
    "cross_validate(KNeighborsClassifier(n_neighbors=5), X_train, y_train, cv=TimeSeriesSplit(),\n",
    "               scoring='f1_macro')"
   ]
  },
  {
   "cell_type": "code",
   "execution_count": 68,
   "id": "fe5f096a",
   "metadata": {},
   "outputs": [
    {
     "data": {
      "text/plain": [
       "{'fit_time': array([0.0183394 , 0.01195431, 0.0403173 , 0.03567386, 0.04690051]),\n",
       " 'score_time': array([0.00203037, 0.00299048, 0.00199699, 0.00199771, 0.00199676]),\n",
       " 'test_score': array([0.87735314, 0.8648539 , 0.88532713, 0.88010983, 0.88771395])}"
      ]
     },
     "execution_count": 68,
     "metadata": {},
     "output_type": "execute_result"
    }
   ],
   "source": [
    "cross_validate(LogisticRegression(), X_train, y_train, cv=TimeSeriesSplit(), scoring='f1_macro')"
   ]
  },
  {
   "cell_type": "code",
   "execution_count": 78,
   "id": "326c526b",
   "metadata": {},
   "outputs": [
    {
     "data": {
      "image/png": "[encoded data removed]",
      "text/plain": [
       "<Figure size 576x396 with 2 Axes>"
      ]
     },
     "metadata": {},
     "output_type": "display_data"
    },
    {
     "data": {
      "text/plain": [
       "ClassificationReport(ax=<AxesSubplot:title={'center':'LogisticRegression Classification Report'}>,\n",
       "                     cmap=<matplotlib.colors.ListedColormap object at 0x000001332D665520>,\n",
       "                     estimator=LogisticRegression())"
      ]
     },
     "execution_count": 78,
     "metadata": {},
     "output_type": "execute_result"
    }
   ],
   "source": [
    "classification_report(LogisticRegression(), X_train, y_train)"
   ]
  },
  {
   "cell_type": "code",
   "execution_count": 71,
   "id": "e6a2374e",
   "metadata": {},
   "outputs": [
    {
     "data": {
      "text/plain": [
       "{'fit_time': array([0.00298524, 0.00190043, 0.00199366, 0.00257134, 0.0019927 ]),\n",
       " 'score_time': array([0.00298977, 0.00305057, 0.00304389, 0.00199318, 0.00199342]),\n",
       " 'test_score': array([0.7429376 , 0.77308692, 0.74597184, 0.78359339, 0.75527597])}"
      ]
     },
     "execution_count": 71,
     "metadata": {},
     "output_type": "execute_result"
    }
   ],
   "source": [
    "cross_validate(GaussianNB(), X_train, y_train, cv=TimeSeriesSplit(), scoring='f1_macro')"
   ]
  },
  {
   "cell_type": "code",
   "execution_count": 79,
   "id": "144d0c51",
   "metadata": {},
   "outputs": [
    {
     "data": {
      "image/png": "[encoded data removed]",
      "text/plain": [
       "<Figure size 576x396 with 2 Axes>"
      ]
     },
     "metadata": {},
     "output_type": "display_data"
    },
    {
     "data": {
      "text/plain": [
       "ClassificationReport(ax=<AxesSubplot:title={'center':'GaussianNB Classification Report'}>,\n",
       "                     cmap=<matplotlib.colors.ListedColormap object at 0x000001332D7F2B80>,\n",
       "                     estimator=GaussianNB(), is_fitted=False)"
      ]
     },
     "execution_count": 79,
     "metadata": {},
     "output_type": "execute_result"
    }
   ],
   "source": [
    "classification_report(GaussianNB(), X_train, y_train, is_fitted=False)"
   ]
  },
  {
   "cell_type": "markdown",
   "id": "98d112d1",
   "metadata": {},
   "source": []
  },
  {
   "cell_type": "code",
   "execution_count": null,
   "id": "227def46",
   "metadata": {},
   "outputs": [],
   "source": []
  }
 ],
 "metadata": {
  "kernelspec": {
   "display_name": "Python 3",
   "language": "python",
   "name": "python3"
  },
  "language_info": {
   "codemirror_mode": {
    "name": "ipython",
    "version": 3
   },
   "file_extension": ".py",
   "mimetype": "text/x-python",
   "name": "python",
   "nbconvert_exporter": "python",
   "pygments_lexer": "ipython3",
   "version": "3.8.8"
  }
 },
 "nbformat": 4,
 "nbformat_minor": 5
}
