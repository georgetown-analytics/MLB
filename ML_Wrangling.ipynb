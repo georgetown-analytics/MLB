{
 "cells": [
  {
   "cell_type": "code",
   "execution_count": 1,
   "id": "2ee8ed19",
   "metadata": {},
   "outputs": [],
   "source": [
    "import pandas as pd\n",
    "import numpy as np\n",
    "from datetime import datetime\n",
    "import os\n",
    "from matplotlib import pyplot"
   ]
  },
  {
   "cell_type": "markdown",
   "id": "4d2dd2d0",
   "metadata": {},
   "source": [
    "## Game  by game describtion of home team/ visiter team wins "
   ]
  },
  {
   "cell_type": "code",
   "execution_count": 2,
   "id": "8b242c90",
   "metadata": {},
   "outputs": [
    {
     "name": "stderr",
     "output_type": "stream",
     "text": [
      "C:\\Users\\amjad\\anaconda3\\lib\\site-packages\\IPython\\core\\interactiveshell.py:3165: DtypeWarning: Columns (12,13,14,15,19,20,81,83,85,87,93,94,95,96,97,98,99,100,105,106,108,109,111,112,114,115,117,118,120,121,123,124,126,127,129,130,132,133,135,136,138,139,141,142,144,145,147,148,150,151,153,154,156,157,160) have mixed types.Specify dtype option on import or set low_memory=False.\n",
      "  has_raised = await self.run_ast_nodes(code_ast.body, cell_name,\n"
     ]
    }
   ],
   "source": [
    "mainData = pd.read_csv(\"game_logs.csv\")\n",
    "     # just taking the first 40k rows for efficiency\n"
   ]
  },
  {
   "cell_type": "code",
   "execution_count": 3,
   "id": "13469455",
   "metadata": {},
   "outputs": [
    {
     "data": {
      "text/html": [
       "<div>\n",
       "<style scoped>\n",
       "    .dataframe tbody tr th:only-of-type {\n",
       "        vertical-align: middle;\n",
       "    }\n",
       "\n",
       "    .dataframe tbody tr th {\n",
       "        vertical-align: top;\n",
       "    }\n",
       "\n",
       "    .dataframe thead th {\n",
       "        text-align: right;\n",
       "    }\n",
       "</style>\n",
       "<table border=\"1\" class=\"dataframe\">\n",
       "  <thead>\n",
       "    <tr style=\"text-align: right;\">\n",
       "      <th></th>\n",
       "      <th>date</th>\n",
       "      <th>number_of_game</th>\n",
       "      <th>day_of_week</th>\n",
       "      <th>v_name</th>\n",
       "      <th>v_league</th>\n",
       "      <th>v_game_number</th>\n",
       "      <th>h_name</th>\n",
       "      <th>h_league</th>\n",
       "      <th>h_game_number</th>\n",
       "      <th>v_score</th>\n",
       "      <th>...</th>\n",
       "      <th>h_player_7_name</th>\n",
       "      <th>h_player_7_def_pos</th>\n",
       "      <th>h_player_8_id</th>\n",
       "      <th>h_player_8_name</th>\n",
       "      <th>h_player_8_def_pos</th>\n",
       "      <th>h_player_9_id</th>\n",
       "      <th>h_player_9_name</th>\n",
       "      <th>h_player_9_def_pos</th>\n",
       "      <th>additional_info</th>\n",
       "      <th>acquisition_info</th>\n",
       "    </tr>\n",
       "  </thead>\n",
       "  <tbody>\n",
       "    <tr>\n",
       "      <th>0</th>\n",
       "      <td>18710504</td>\n",
       "      <td>0</td>\n",
       "      <td>5</td>\n",
       "      <td>CL1</td>\n",
       "      <td>na</td>\n",
       "      <td>1</td>\n",
       "      <td>FW1</td>\n",
       "      <td>na</td>\n",
       "      <td>1</td>\n",
       "      <td>0</td>\n",
       "      <td>...</td>\n",
       "      <td>Ed Mincher</td>\n",
       "      <td>7.0</td>\n",
       "      <td>mcdej101</td>\n",
       "      <td>James McDermott</td>\n",
       "      <td>8.0</td>\n",
       "      <td>kellb105</td>\n",
       "      <td>Bill Kelly</td>\n",
       "      <td>9.0</td>\n",
       "      <td>NaN</td>\n",
       "      <td>Y</td>\n",
       "    </tr>\n",
       "    <tr>\n",
       "      <th>1</th>\n",
       "      <td>18710505</td>\n",
       "      <td>0</td>\n",
       "      <td>6</td>\n",
       "      <td>BS1</td>\n",
       "      <td>na</td>\n",
       "      <td>1</td>\n",
       "      <td>WS3</td>\n",
       "      <td>na</td>\n",
       "      <td>1</td>\n",
       "      <td>20</td>\n",
       "      <td>...</td>\n",
       "      <td>Asa Brainard</td>\n",
       "      <td>1.0</td>\n",
       "      <td>burrh101</td>\n",
       "      <td>Henry Burroughs</td>\n",
       "      <td>9.0</td>\n",
       "      <td>berth101</td>\n",
       "      <td>Henry Berthrong</td>\n",
       "      <td>8.0</td>\n",
       "      <td>HTBF</td>\n",
       "      <td>Y</td>\n",
       "    </tr>\n",
       "    <tr>\n",
       "      <th>2</th>\n",
       "      <td>18710506</td>\n",
       "      <td>0</td>\n",
       "      <td>7</td>\n",
       "      <td>CL1</td>\n",
       "      <td>na</td>\n",
       "      <td>2</td>\n",
       "      <td>RC1</td>\n",
       "      <td>na</td>\n",
       "      <td>1</td>\n",
       "      <td>12</td>\n",
       "      <td>...</td>\n",
       "      <td>Pony Sager</td>\n",
       "      <td>6.0</td>\n",
       "      <td>birdg101</td>\n",
       "      <td>George Bird</td>\n",
       "      <td>7.0</td>\n",
       "      <td>stirg101</td>\n",
       "      <td>Gat Stires</td>\n",
       "      <td>9.0</td>\n",
       "      <td>NaN</td>\n",
       "      <td>Y</td>\n",
       "    </tr>\n",
       "    <tr>\n",
       "      <th>3</th>\n",
       "      <td>18710508</td>\n",
       "      <td>0</td>\n",
       "      <td>2</td>\n",
       "      <td>CL1</td>\n",
       "      <td>na</td>\n",
       "      <td>3</td>\n",
       "      <td>CH1</td>\n",
       "      <td>na</td>\n",
       "      <td>1</td>\n",
       "      <td>12</td>\n",
       "      <td>...</td>\n",
       "      <td>Ed Duffy</td>\n",
       "      <td>6.0</td>\n",
       "      <td>pinke101</td>\n",
       "      <td>Ed Pinkham</td>\n",
       "      <td>5.0</td>\n",
       "      <td>zettg101</td>\n",
       "      <td>George Zettlein</td>\n",
       "      <td>1.0</td>\n",
       "      <td>NaN</td>\n",
       "      <td>Y</td>\n",
       "    </tr>\n",
       "    <tr>\n",
       "      <th>4</th>\n",
       "      <td>18710509</td>\n",
       "      <td>0</td>\n",
       "      <td>3</td>\n",
       "      <td>BS1</td>\n",
       "      <td>na</td>\n",
       "      <td>2</td>\n",
       "      <td>TRO</td>\n",
       "      <td>na</td>\n",
       "      <td>1</td>\n",
       "      <td>9</td>\n",
       "      <td>...</td>\n",
       "      <td>Steve Bellan</td>\n",
       "      <td>5.0</td>\n",
       "      <td>pikel101</td>\n",
       "      <td>Lip Pike</td>\n",
       "      <td>3.0</td>\n",
       "      <td>cravb101</td>\n",
       "      <td>Bill Craver</td>\n",
       "      <td>6.0</td>\n",
       "      <td>HTBF</td>\n",
       "      <td>Y</td>\n",
       "    </tr>\n",
       "  </tbody>\n",
       "</table>\n",
       "<p>5 rows × 161 columns</p>\n",
       "</div>"
      ],
      "text/plain": [
       "       date  number_of_game  day_of_week v_name v_league  v_game_number  \\\n",
       "0  18710504               0            5    CL1       na              1   \n",
       "1  18710505               0            6    BS1       na              1   \n",
       "2  18710506               0            7    CL1       na              2   \n",
       "3  18710508               0            2    CL1       na              3   \n",
       "4  18710509               0            3    BS1       na              2   \n",
       "\n",
       "  h_name h_league  h_game_number  v_score  ...  h_player_7_name  \\\n",
       "0    FW1       na              1        0  ...       Ed Mincher   \n",
       "1    WS3       na              1       20  ...     Asa Brainard   \n",
       "2    RC1       na              1       12  ...       Pony Sager   \n",
       "3    CH1       na              1       12  ...         Ed Duffy   \n",
       "4    TRO       na              1        9  ...     Steve Bellan   \n",
       "\n",
       "   h_player_7_def_pos h_player_8_id  h_player_8_name h_player_8_def_pos  \\\n",
       "0                 7.0      mcdej101  James McDermott                8.0   \n",
       "1                 1.0      burrh101  Henry Burroughs                9.0   \n",
       "2                 6.0      birdg101      George Bird                7.0   \n",
       "3                 6.0      pinke101       Ed Pinkham                5.0   \n",
       "4                 5.0      pikel101         Lip Pike                3.0   \n",
       "\n",
       "  h_player_9_id  h_player_9_name  h_player_9_def_pos  additional_info  \\\n",
       "0      kellb105       Bill Kelly                 9.0              NaN   \n",
       "1      berth101  Henry Berthrong                 8.0             HTBF   \n",
       "2      stirg101       Gat Stires                 9.0              NaN   \n",
       "3      zettg101  George Zettlein                 1.0              NaN   \n",
       "4      cravb101      Bill Craver                 6.0             HTBF   \n",
       "\n",
       "  acquisition_info  \n",
       "0                Y  \n",
       "1                Y  \n",
       "2                Y  \n",
       "3                Y  \n",
       "4                Y  \n",
       "\n",
       "[5 rows x 161 columns]"
      ]
     },
     "execution_count": 3,
     "metadata": {},
     "output_type": "execute_result"
    }
   ],
   "source": [
    "mainData.head()"
   ]
  },
  {
   "cell_type": "code",
   "execution_count": 4,
   "id": "e1491373",
   "metadata": {},
   "outputs": [],
   "source": [
    "df = mainData[['date', 'day_of_week','v_game_number','h_game_number', 'v_score','h_score','day_night',\n",
    "               'attendance','length_minutes']].copy()"
   ]
  },
  {
   "cell_type": "code",
   "execution_count": 5,
   "id": "e5aef7b6",
   "metadata": {},
   "outputs": [
    {
     "data": {
      "text/plain": [
       "(171907, 9)"
      ]
     },
     "execution_count": 5,
     "metadata": {},
     "output_type": "execute_result"
    }
   ],
   "source": [
    "df.shape"
   ]
  },
  {
   "cell_type": "code",
   "execution_count": 6,
   "id": "ce129a12",
   "metadata": {},
   "outputs": [
    {
     "data": {
      "text/plain": [
       "date                int64\n",
       "day_of_week         int64\n",
       "v_game_number       int64\n",
       "h_game_number       int64\n",
       "v_score             int64\n",
       "h_score             int64\n",
       "day_night          object\n",
       "attendance        float64\n",
       "length_minutes    float64\n",
       "dtype: object"
      ]
     },
     "execution_count": 6,
     "metadata": {},
     "output_type": "execute_result"
    }
   ],
   "source": [
    "df.dtypes"
   ]
  },
  {
   "cell_type": "code",
   "execution_count": 7,
   "id": "33f4860f",
   "metadata": {},
   "outputs": [],
   "source": [
    "# change date into datetime\n",
    "# doing this step create a problem that it makes the data not fitted for the transformer! it make it 3d\n",
    "#df['date'] = datetime.strptime('18710504', '%Y%m%d')\n",
    "df['day_night'] = df['day_night'].replace(['D','N'],[1,0])"
   ]
  },
  {
   "cell_type": "code",
   "execution_count": 8,
   "id": "3c1c4afb",
   "metadata": {},
   "outputs": [
    {
     "data": {
      "text/html": [
       "<div>\n",
       "<style scoped>\n",
       "    .dataframe tbody tr th:only-of-type {\n",
       "        vertical-align: middle;\n",
       "    }\n",
       "\n",
       "    .dataframe tbody tr th {\n",
       "        vertical-align: top;\n",
       "    }\n",
       "\n",
       "    .dataframe thead th {\n",
       "        text-align: right;\n",
       "    }\n",
       "</style>\n",
       "<table border=\"1\" class=\"dataframe\">\n",
       "  <thead>\n",
       "    <tr style=\"text-align: right;\">\n",
       "      <th></th>\n",
       "      <th>day_night</th>\n",
       "    </tr>\n",
       "  </thead>\n",
       "  <tbody>\n",
       "    <tr>\n",
       "      <th>0</th>\n",
       "      <td>1.0</td>\n",
       "    </tr>\n",
       "    <tr>\n",
       "      <th>1</th>\n",
       "      <td>1.0</td>\n",
       "    </tr>\n",
       "    <tr>\n",
       "      <th>2</th>\n",
       "      <td>1.0</td>\n",
       "    </tr>\n",
       "    <tr>\n",
       "      <th>3</th>\n",
       "      <td>1.0</td>\n",
       "    </tr>\n",
       "    <tr>\n",
       "      <th>4</th>\n",
       "      <td>1.0</td>\n",
       "    </tr>\n",
       "    <tr>\n",
       "      <th>...</th>\n",
       "      <td>...</td>\n",
       "    </tr>\n",
       "    <tr>\n",
       "      <th>171902</th>\n",
       "      <td>1.0</td>\n",
       "    </tr>\n",
       "    <tr>\n",
       "      <th>171903</th>\n",
       "      <td>1.0</td>\n",
       "    </tr>\n",
       "    <tr>\n",
       "      <th>171904</th>\n",
       "      <td>1.0</td>\n",
       "    </tr>\n",
       "    <tr>\n",
       "      <th>171905</th>\n",
       "      <td>1.0</td>\n",
       "    </tr>\n",
       "    <tr>\n",
       "      <th>171906</th>\n",
       "      <td>1.0</td>\n",
       "    </tr>\n",
       "  </tbody>\n",
       "</table>\n",
       "<p>171907 rows × 1 columns</p>\n",
       "</div>"
      ],
      "text/plain": [
       "        day_night\n",
       "0             1.0\n",
       "1             1.0\n",
       "2             1.0\n",
       "3             1.0\n",
       "4             1.0\n",
       "...           ...\n",
       "171902        1.0\n",
       "171903        1.0\n",
       "171904        1.0\n",
       "171905        1.0\n",
       "171906        1.0\n",
       "\n",
       "[171907 rows x 1 columns]"
      ]
     },
     "execution_count": 8,
     "metadata": {},
     "output_type": "execute_result"
    }
   ],
   "source": [
    "df[['day_night']]"
   ]
  },
  {
   "cell_type": "code",
   "execution_count": 9,
   "id": "4f9d9448",
   "metadata": {},
   "outputs": [],
   "source": [
    "# calculate which column is greater than the other then if the visiting team win v=1, if the home team win h=0\n",
    "df['vist_win'] = np.where(\n",
    "    df['v_score'] > df['h_score'], 1, 0)"
   ]
  },
  {
   "cell_type": "code",
   "execution_count": 10,
   "id": "b60fd2da",
   "metadata": {},
   "outputs": [
    {
     "data": {
      "text/html": [
       "<div>\n",
       "<style scoped>\n",
       "    .dataframe tbody tr th:only-of-type {\n",
       "        vertical-align: middle;\n",
       "    }\n",
       "\n",
       "    .dataframe tbody tr th {\n",
       "        vertical-align: top;\n",
       "    }\n",
       "\n",
       "    .dataframe thead th {\n",
       "        text-align: right;\n",
       "    }\n",
       "</style>\n",
       "<table border=\"1\" class=\"dataframe\">\n",
       "  <thead>\n",
       "    <tr style=\"text-align: right;\">\n",
       "      <th></th>\n",
       "      <th>vist_win</th>\n",
       "    </tr>\n",
       "  </thead>\n",
       "  <tbody>\n",
       "    <tr>\n",
       "      <th>0</th>\n",
       "      <td>0</td>\n",
       "    </tr>\n",
       "    <tr>\n",
       "      <th>1</th>\n",
       "      <td>1</td>\n",
       "    </tr>\n",
       "    <tr>\n",
       "      <th>2</th>\n",
       "      <td>1</td>\n",
       "    </tr>\n",
       "    <tr>\n",
       "      <th>3</th>\n",
       "      <td>0</td>\n",
       "    </tr>\n",
       "    <tr>\n",
       "      <th>4</th>\n",
       "      <td>1</td>\n",
       "    </tr>\n",
       "    <tr>\n",
       "      <th>...</th>\n",
       "      <td>...</td>\n",
       "    </tr>\n",
       "    <tr>\n",
       "      <th>171902</th>\n",
       "      <td>1</td>\n",
       "    </tr>\n",
       "    <tr>\n",
       "      <th>171903</th>\n",
       "      <td>1</td>\n",
       "    </tr>\n",
       "    <tr>\n",
       "      <th>171904</th>\n",
       "      <td>1</td>\n",
       "    </tr>\n",
       "    <tr>\n",
       "      <th>171905</th>\n",
       "      <td>0</td>\n",
       "    </tr>\n",
       "    <tr>\n",
       "      <th>171906</th>\n",
       "      <td>1</td>\n",
       "    </tr>\n",
       "  </tbody>\n",
       "</table>\n",
       "<p>171907 rows × 1 columns</p>\n",
       "</div>"
      ],
      "text/plain": [
       "        vist_win\n",
       "0              0\n",
       "1              1\n",
       "2              1\n",
       "3              0\n",
       "4              1\n",
       "...          ...\n",
       "171902         1\n",
       "171903         1\n",
       "171904         1\n",
       "171905         0\n",
       "171906         1\n",
       "\n",
       "[171907 rows x 1 columns]"
      ]
     },
     "execution_count": 10,
     "metadata": {},
     "output_type": "execute_result"
    }
   ],
   "source": [
    "df[['vist_win']]"
   ]
  },
  {
   "cell_type": "code",
   "execution_count": 11,
   "id": "923ae31e",
   "metadata": {},
   "outputs": [],
   "source": [
    "win=df['vist_win'].value_counts()"
   ]
  },
  {
   "cell_type": "markdown",
   "id": "e45689ee",
   "metadata": {},
   "source": [
    "#### Detect impalance dataset"
   ]
  },
  {
   "cell_type": "code",
   "execution_count": 12,
   "id": "84e9d14b",
   "metadata": {},
   "outputs": [
    {
     "data": {
      "text/plain": [
       "<AxesSubplot:>"
      ]
     },
     "execution_count": 12,
     "metadata": {},
     "output_type": "execute_result"
    },
    {
     "data": {
      "image/png": "[encoded data removed]",
      "text/plain": [
       "<Figure size 432x288 with 1 Axes>"
      ]
     },
     "metadata": {
      "needs_background": "light"
     },
     "output_type": "display_data"
    }
   ],
   "source": [
    "win.plot(kind='bar')"
   ]
  },
  {
   "cell_type": "code",
   "execution_count": 13,
   "id": "55eb83ac",
   "metadata": {},
   "outputs": [],
   "source": [
    "df = df.replace([' ','NULL','na','(none)'],np.nan)"
   ]
  },
  {
   "cell_type": "code",
   "execution_count": 14,
   "id": "79e4bd2d",
   "metadata": {},
   "outputs": [],
   "source": [
    "# drop any NaNs\n",
    "df_2 = df.dropna()"
   ]
  },
  {
   "cell_type": "code",
   "execution_count": 15,
   "id": "d3b3d19a",
   "metadata": {},
   "outputs": [
    {
     "data": {
      "text/plain": [
       "(114648, 10)"
      ]
     },
     "execution_count": 15,
     "metadata": {},
     "output_type": "execute_result"
    }
   ],
   "source": [
    "df_2.shape"
   ]
  },
  {
   "cell_type": "code",
   "execution_count": 16,
   "id": "6356268f",
   "metadata": {},
   "outputs": [
    {
     "data": {
      "text/plain": [
       "date                int64\n",
       "day_of_week         int64\n",
       "v_game_number       int64\n",
       "h_game_number       int64\n",
       "v_score             int64\n",
       "h_score             int64\n",
       "day_night         float64\n",
       "attendance        float64\n",
       "length_minutes    float64\n",
       "vist_win            int32\n",
       "dtype: object"
      ]
     },
     "execution_count": 16,
     "metadata": {},
     "output_type": "execute_result"
    }
   ],
   "source": [
    "df_2.dtypes"
   ]
  },
  {
   "cell_type": "markdown",
   "id": "8283b5c3",
   "metadata": {},
   "source": [
    "## Modeling"
   ]
  },
  {
   "cell_type": "code",
   "execution_count": 17,
   "id": "cfd4f8df",
   "metadata": {},
   "outputs": [],
   "source": [
    "#ML model\n",
    "from sklearn.model_selection import train_test_split\n",
    "from sklearn.pipeline import Pipeline\n",
    "from sklearn.impute import SimpleImputer \n",
    "from sklearn.model_selection import TimeSeriesSplit\n",
    "from sklearn.model_selection import cross_validate\n",
    "\n",
    "from sklearn.neighbors import KNeighborsClassifier\n",
    "from sklearn.svm import SVC\n",
    "from sklearn.linear_model import LogisticRegression\n",
    "from sklearn.naive_bayes import GaussianNB"
   ]
  },
  {
   "cell_type": "code",
   "execution_count": 18,
   "id": "7c035a71",
   "metadata": {},
   "outputs": [],
   "source": [
    "#VS\n",
    "from yellowbrick.classifier import classification_report, confusion_matrix, discrimination_threshold"
   ]
  },
  {
   "cell_type": "code",
   "execution_count": 27,
   "id": "aab345c4",
   "metadata": {},
   "outputs": [],
   "source": [
    "features = df_2[[\n",
    "    'date', 'day_of_week','v_game_number','h_game_number'\n",
    "    ,'attendance','length_minutes', 'day_night']]\n",
    "\n",
    "target = df_2[['vist_win']].values.ravel()"
   ]
  },
  {
   "cell_type": "code",
   "execution_count": 28,
   "id": "3af23ecc",
   "metadata": {},
   "outputs": [
    {
     "data": {
      "image/png": "[encoded data removed]",
      "text/plain": [
       "<Figure size 576x396 with 1 Axes>"
      ]
     },
     "metadata": {},
     "output_type": "display_data"
    },
    {
     "data": {
      "text/plain": [
       "<AxesSubplot:title={'center':'Feature Importances of 7 Features using RandomForestClassifier'}, xlabel='relative importance'>"
      ]
     },
     "execution_count": 28,
     "metadata": {},
     "output_type": "execute_result"
    }
   ],
   "source": [
    "from sklearn.ensemble import RandomForestClassifier\n",
    "\n",
    "from yellowbrick.datasets import load_occupancy\n",
    "from yellowbrick.model_selection import FeatureImportances\n",
    "\n",
    "# Load the classification data set\n",
    "\n",
    "model = RandomForestClassifier(n_estimators=10)\n",
    "viz = FeatureImportances(model)\n",
    "viz.fit(features, target)\n",
    "viz.show()"
   ]
  },
  {
   "cell_type": "code",
   "execution_count": 29,
   "id": "4cb1dfb0",
   "metadata": {},
   "outputs": [],
   "source": [
    "#split the data\n",
    "X_train, X_test, y_train, y_test = train_test_split(\n",
    "    features, target, test_size=0.2\n",
    ")"
   ]
  },
  {
   "cell_type": "code",
   "execution_count": 30,
   "id": "d8e40adf",
   "metadata": {},
   "outputs": [
    {
     "data": {
      "text/plain": [
       "(91718, 7)"
      ]
     },
     "execution_count": 30,
     "metadata": {},
     "output_type": "execute_result"
    }
   ],
   "source": [
    "X_train.shape"
   ]
  },
  {
   "cell_type": "code",
   "execution_count": 31,
   "id": "c8b0399e",
   "metadata": {},
   "outputs": [
    {
     "data": {
      "text/plain": [
       "(91718,)"
      ]
     },
     "execution_count": 31,
     "metadata": {},
     "output_type": "execute_result"
    }
   ],
   "source": [
    "y_train.shape"
   ]
  },
  {
   "cell_type": "code",
   "execution_count": 32,
   "id": "a39902df",
   "metadata": {},
   "outputs": [
    {
     "data": {
      "text/plain": [
       "{'fit_time': array([0.01373196, 0.02390671, 0.02690959, 0.03388643, 0.03986621]),\n",
       " 'score_time': array([0.01999521, 0.01498032, 0.01594687, 0.01495028, 0.01495028]),\n",
       " 'test_score': array([0.5006232 , 0.50244486, 0.50695825, 0.50076686, 0.48913387])}"
      ]
     },
     "execution_count": 32,
     "metadata": {},
     "output_type": "execute_result"
    }
   ],
   "source": [
    "# Taking the best seven features and applying them to different ML models\n",
    "cross_validate(GaussianNB(), X_train, y_train, cv=TimeSeriesSplit(), scoring='f1_macro')"
   ]
  },
  {
   "cell_type": "code",
   "execution_count": 33,
   "id": "df5991cf",
   "metadata": {},
   "outputs": [
    {
     "data": {
      "image/png": "[encoded data removed]",
      "text/plain": [
       "<Figure size 576x396 with 1 Axes>"
      ]
     },
     "metadata": {},
     "output_type": "display_data"
    },
    {
     "data": {
      "text/plain": [
       "ConfusionMatrix(ax=<AxesSubplot:title={'center':'GaussianNB Confusion Matrix'}, xlabel='Predicted Class', ylabel='True Class'>,\n",
       "                cmap=<matplotlib.colors.ListedColormap object at 0x0000015F1D001880>,\n",
       "                estimator=GaussianNB(), is_fitted=False)"
      ]
     },
     "execution_count": 33,
     "metadata": {},
     "output_type": "execute_result"
    }
   ],
   "source": [
    "confusion_matrix(GaussianNB(), X_train, y_train, X_test, y_test, is_fitted=False)"
   ]
  },
  {
   "cell_type": "code",
   "execution_count": 34,
   "id": "ce581bdf",
   "metadata": {},
   "outputs": [
    {
     "data": {
      "image/png": "[encoded data removed]",
      "text/plain": [
       "<Figure size 576x396 with 2 Axes>"
      ]
     },
     "metadata": {},
     "output_type": "display_data"
    },
    {
     "data": {
      "text/plain": [
       "ClassificationReport(ax=<AxesSubplot:title={'center':'GaussianNB Classification Report'}>,\n",
       "                     cmap=<matplotlib.colors.ListedColormap object at 0x0000015F1D281C40>,\n",
       "                     estimator=GaussianNB(), is_fitted=False)"
      ]
     },
     "execution_count": 34,
     "metadata": {},
     "output_type": "execute_result"
    }
   ],
   "source": [
    "classification_report(GaussianNB(), X_train, y_train, X_test, y_test,scoring='f1_macro', is_fitted=False)"
   ]
  },
  {
   "cell_type": "code",
   "execution_count": null,
   "id": "a4c544bd",
   "metadata": {},
   "outputs": [],
   "source": [
    "cross_validate(SVC(kernel='rbf', degree=3), X_train, y_train, cv=TimeSeriesSplit(), scoring='f1_macro')"
   ]
  },
  {
   "cell_type": "code",
   "execution_count": null,
   "id": "b46d40f8",
   "metadata": {},
   "outputs": [],
   "source": [
    "confusion_matrix(SVC(kernel='rbf', degree=3), X_train, y_train, X_test, y_test, is_fitted=False)"
   ]
  },
  {
   "cell_type": "code",
   "execution_count": null,
   "id": "b77d37c4",
   "metadata": {},
   "outputs": [],
   "source": [
    "classification_report(SVC(kernel='rbf', degree=3), X_train, y_train, X_test, y_test,scoring='f1_macro', is_fitted=False)"
   ]
  },
  {
   "cell_type": "code",
   "execution_count": 35,
   "id": "01a1be2d",
   "metadata": {},
   "outputs": [
    {
     "data": {
      "text/plain": [
       "{'fit_time': array([0.0749681 , 0.14251375, 0.23321891, 0.30606937, 0.41328168]),\n",
       " 'score_time': array([0.84294415, 0.83938813, 0.86546111, 0.85373497, 0.84501815]),\n",
       " 'test_score': array([0.51404498, 0.50201826, 0.49623808, 0.49858662, 0.496927  ])}"
      ]
     },
     "execution_count": 35,
     "metadata": {},
     "output_type": "execute_result"
    }
   ],
   "source": [
    "cross_validate(KNeighborsClassifier(n_neighbors=5), X_train, y_train, cv=TimeSeriesSplit(),\n",
    "               scoring='f1_macro')"
   ]
  },
  {
   "cell_type": "code",
   "execution_count": 36,
   "id": "6384dc55",
   "metadata": {},
   "outputs": [
    {
     "data": {
      "image/png": "[encoded data removed]",
      "text/plain": [
       "<Figure size 576x396 with 1 Axes>"
      ]
     },
     "metadata": {},
     "output_type": "display_data"
    },
    {
     "data": {
      "text/plain": [
       "ConfusionMatrix(ax=<AxesSubplot:title={'center':'KNeighborsClassifier Confusion Matrix'}, xlabel='Predicted Class', ylabel='True Class'>,\n",
       "                cmap=<matplotlib.colors.ListedColormap object at 0x0000015F1D698BE0>,\n",
       "                estimator=KNeighborsClassifier(), is_fitted=False)"
      ]
     },
     "execution_count": 36,
     "metadata": {},
     "output_type": "execute_result"
    }
   ],
   "source": [
    "confusion_matrix(KNeighborsClassifier(n_neighbors=5), X_train, y_train, X_test, y_test, is_fitted=False)"
   ]
  },
  {
   "cell_type": "code",
   "execution_count": 37,
   "id": "fdebe53d",
   "metadata": {},
   "outputs": [
    {
     "data": {
      "image/png": "[encoded data removed]",
      "text/plain": [
       "<Figure size 576x396 with 2 Axes>"
      ]
     },
     "metadata": {},
     "output_type": "display_data"
    },
    {
     "data": {
      "text/plain": [
       "ClassificationReport(ax=<AxesSubplot:title={'center':'KNeighborsClassifier Classification Report'}>,\n",
       "                     cmap=<matplotlib.colors.ListedColormap object at 0x0000015F1E81AC10>,\n",
       "                     estimator=KNeighborsClassifier(), is_fitted=False)"
      ]
     },
     "execution_count": 37,
     "metadata": {},
     "output_type": "execute_result"
    }
   ],
   "source": [
    "classification_report(KNeighborsClassifier(n_neighbors=5), X_train, y_train, X_test, y_test,scoring='f1_macro', is_fitted=False)"
   ]
  },
  {
   "cell_type": "code",
   "execution_count": 38,
   "id": "fe5f096a",
   "metadata": {},
   "outputs": [
    {
     "data": {
      "text/plain": [
       "{'fit_time': array([0.05551958, 0.05575371, 0.0798924 , 0.10359979, 0.12863779]),\n",
       " 'score_time': array([0.0141294 , 0.01515341, 0.01286364, 0.01295614, 0.01309395]),\n",
       " 'test_score': array([0.35014029, 0.3493104 , 0.35434002, 0.35412177, 0.35000213])}"
      ]
     },
     "execution_count": 38,
     "metadata": {},
     "output_type": "execute_result"
    }
   ],
   "source": [
    "cross_validate(LogisticRegression(), X_train, y_train, cv=TimeSeriesSplit(), scoring='f1_macro')"
   ]
  },
  {
   "cell_type": "code",
   "execution_count": 39,
   "id": "5ce6c04c",
   "metadata": {},
   "outputs": [
    {
     "data": {
      "image/png": "[encoded data removed]",
      "text/plain": [
       "<Figure size 576x396 with 1 Axes>"
      ]
     },
     "metadata": {},
     "output_type": "display_data"
    },
    {
     "data": {
      "text/plain": [
       "ConfusionMatrix(ax=<AxesSubplot:title={'center':'LogisticRegression Confusion Matrix'}, xlabel='Predicted Class', ylabel='True Class'>,\n",
       "                cmap=<matplotlib.colors.ListedColormap object at 0x0000015F1D281100>,\n",
       "                estimator=LogisticRegression(), is_fitted=False)"
      ]
     },
     "execution_count": 39,
     "metadata": {},
     "output_type": "execute_result"
    }
   ],
   "source": [
    "confusion_matrix(LogisticRegression(), X_train, y_train, X_test, y_test, is_fitted=False)"
   ]
  },
  {
   "cell_type": "code",
   "execution_count": 40,
   "id": "9e744541",
   "metadata": {},
   "outputs": [
    {
     "name": "stderr",
     "output_type": "stream",
     "text": [
      "C:\\Users\\amjad\\anaconda3\\lib\\site-packages\\sklearn\\metrics\\_classification.py:1245: UndefinedMetricWarning: Precision and F-score are ill-defined and being set to 0.0 in labels with no predicted samples. Use `zero_division` parameter to control this behavior.\n",
      "  _warn_prf(average, modifier, msg_start, len(result))\n"
     ]
    },
    {
     "data": {
      "image/png": "[encoded data removed]",
      "text/plain": [
       "<Figure size 576x396 with 2 Axes>"
      ]
     },
     "metadata": {},
     "output_type": "display_data"
    },
    {
     "data": {
      "text/plain": [
       "ClassificationReport(ax=<AxesSubplot:title={'center':'LogisticRegression Classification Report'}>,\n",
       "                     cmap=<matplotlib.colors.ListedColormap object at 0x0000015F2003FE50>,\n",
       "                     estimator=LogisticRegression(), is_fitted=False)"
      ]
     },
     "execution_count": 40,
     "metadata": {},
     "output_type": "execute_result"
    }
   ],
   "source": [
    "classification_report(LogisticRegression(), X_train, y_train, X_test, y_test,scoring='f1_macro', is_fitted=False)"
   ]
  },
  {
   "cell_type": "markdown",
   "id": "98d112d1",
   "metadata": {},
   "source": []
  },
  {
   "cell_type": "code",
   "execution_count": null,
   "id": "d8986efe",
   "metadata": {},
   "outputs": [],
   "source": []
  }
 ],
 "metadata": {
  "kernelspec": {
   "display_name": "Python 3",
   "language": "python",
   "name": "python3"
  },
  "language_info": {
   "codemirror_mode": {
    "name": "ipython",
    "version": 3
   },
   "file_extension": ".py",
   "mimetype": "text/x-python",
   "name": "python",
   "nbconvert_exporter": "python",
   "pygments_lexer": "ipython3",
   "version": "3.8.8"
  }
 },
 "nbformat": 4,
 "nbformat_minor": 5
}
