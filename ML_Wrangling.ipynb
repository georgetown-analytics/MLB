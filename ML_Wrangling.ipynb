{
 "cells": [
  {
   "cell_type": "code",
   "execution_count": 41,
   "id": "2ee8ed19",
   "metadata": {},
   "outputs": [],
   "source": [
    "import pandas as pd\n",
    "import numpy as np\n",
    "import matplotlib.pyplot as plt\n",
    "import seaborn as sb\n",
    "\n",
    "from sklearn.preprocessing import OneHotEncoder\n",
    "from sklearn.preprocessing import FunctionTransformer\n",
    "from sklearn.preprocessing import LabelEncoder\n",
    "from sklearn.compose import ColumnTransformer\n",
    "from sklearn.pipeline import FeatureUnion"
   ]
  },
  {
   "cell_type": "code",
   "execution_count": 42,
   "id": "8b242c90",
   "metadata": {},
   "outputs": [
    {
     "name": "stderr",
     "output_type": "stream",
     "text": [
      "C:\\Users\\amjad\\anaconda3\\lib\\site-packages\\IPython\\core\\interactiveshell.py:3165: DtypeWarning: Columns (12,13,14,15,19,20,81,83,85,87,93,94,95,96,97,98,99,100,105,106,108,109,111,112,114,115,117,118,120,121,123,124,126,127,129,130,132,133,135,136,138,139,141,142,144,145,147,148,150,151,153,154,156,157,160) have mixed types.Specify dtype option on import or set low_memory=False.\n",
      "  has_raised = await self.run_ast_nodes(code_ast.body, cell_name,\n"
     ]
    }
   ],
   "source": [
    "mainData = pd.read_csv('game_logs.csv')\n",
    "df = mainData.copy()"
   ]
  },
  {
   "cell_type": "code",
   "execution_count": 43,
   "id": "e5aef7b6",
   "metadata": {},
   "outputs": [
    {
     "data": {
      "text/html": [
       "<div>\n",
       "<style scoped>\n",
       "    .dataframe tbody tr th:only-of-type {\n",
       "        vertical-align: middle;\n",
       "    }\n",
       "\n",
       "    .dataframe tbody tr th {\n",
       "        vertical-align: top;\n",
       "    }\n",
       "\n",
       "    .dataframe thead th {\n",
       "        text-align: right;\n",
       "    }\n",
       "</style>\n",
       "<table border=\"1\" class=\"dataframe\">\n",
       "  <thead>\n",
       "    <tr style=\"text-align: right;\">\n",
       "      <th></th>\n",
       "      <th>date</th>\n",
       "      <th>number_of_game</th>\n",
       "      <th>day_of_week</th>\n",
       "      <th>v_name</th>\n",
       "      <th>v_league</th>\n",
       "      <th>v_game_number</th>\n",
       "      <th>h_name</th>\n",
       "      <th>h_league</th>\n",
       "      <th>h_game_number</th>\n",
       "      <th>v_score</th>\n",
       "      <th>...</th>\n",
       "      <th>h_player_7_name</th>\n",
       "      <th>h_player_7_def_pos</th>\n",
       "      <th>h_player_8_id</th>\n",
       "      <th>h_player_8_name</th>\n",
       "      <th>h_player_8_def_pos</th>\n",
       "      <th>h_player_9_id</th>\n",
       "      <th>h_player_9_name</th>\n",
       "      <th>h_player_9_def_pos</th>\n",
       "      <th>additional_info</th>\n",
       "      <th>acquisition_info</th>\n",
       "    </tr>\n",
       "  </thead>\n",
       "  <tbody>\n",
       "    <tr>\n",
       "      <th>0</th>\n",
       "      <td>18710504</td>\n",
       "      <td>0</td>\n",
       "      <td>5</td>\n",
       "      <td>CL1</td>\n",
       "      <td>na</td>\n",
       "      <td>1</td>\n",
       "      <td>FW1</td>\n",
       "      <td>na</td>\n",
       "      <td>1</td>\n",
       "      <td>0</td>\n",
       "      <td>...</td>\n",
       "      <td>Ed Mincher</td>\n",
       "      <td>7.0</td>\n",
       "      <td>mcdej101</td>\n",
       "      <td>James McDermott</td>\n",
       "      <td>8.0</td>\n",
       "      <td>kellb105</td>\n",
       "      <td>Bill Kelly</td>\n",
       "      <td>9.0</td>\n",
       "      <td>NaN</td>\n",
       "      <td>Y</td>\n",
       "    </tr>\n",
       "    <tr>\n",
       "      <th>1</th>\n",
       "      <td>18710505</td>\n",
       "      <td>0</td>\n",
       "      <td>6</td>\n",
       "      <td>BS1</td>\n",
       "      <td>na</td>\n",
       "      <td>1</td>\n",
       "      <td>WS3</td>\n",
       "      <td>na</td>\n",
       "      <td>1</td>\n",
       "      <td>20</td>\n",
       "      <td>...</td>\n",
       "      <td>Asa Brainard</td>\n",
       "      <td>1.0</td>\n",
       "      <td>burrh101</td>\n",
       "      <td>Henry Burroughs</td>\n",
       "      <td>9.0</td>\n",
       "      <td>berth101</td>\n",
       "      <td>Henry Berthrong</td>\n",
       "      <td>8.0</td>\n",
       "      <td>HTBF</td>\n",
       "      <td>Y</td>\n",
       "    </tr>\n",
       "    <tr>\n",
       "      <th>2</th>\n",
       "      <td>18710506</td>\n",
       "      <td>0</td>\n",
       "      <td>7</td>\n",
       "      <td>CL1</td>\n",
       "      <td>na</td>\n",
       "      <td>2</td>\n",
       "      <td>RC1</td>\n",
       "      <td>na</td>\n",
       "      <td>1</td>\n",
       "      <td>12</td>\n",
       "      <td>...</td>\n",
       "      <td>Pony Sager</td>\n",
       "      <td>6.0</td>\n",
       "      <td>birdg101</td>\n",
       "      <td>George Bird</td>\n",
       "      <td>7.0</td>\n",
       "      <td>stirg101</td>\n",
       "      <td>Gat Stires</td>\n",
       "      <td>9.0</td>\n",
       "      <td>NaN</td>\n",
       "      <td>Y</td>\n",
       "    </tr>\n",
       "    <tr>\n",
       "      <th>3</th>\n",
       "      <td>18710508</td>\n",
       "      <td>0</td>\n",
       "      <td>2</td>\n",
       "      <td>CL1</td>\n",
       "      <td>na</td>\n",
       "      <td>3</td>\n",
       "      <td>CH1</td>\n",
       "      <td>na</td>\n",
       "      <td>1</td>\n",
       "      <td>12</td>\n",
       "      <td>...</td>\n",
       "      <td>Ed Duffy</td>\n",
       "      <td>6.0</td>\n",
       "      <td>pinke101</td>\n",
       "      <td>Ed Pinkham</td>\n",
       "      <td>5.0</td>\n",
       "      <td>zettg101</td>\n",
       "      <td>George Zettlein</td>\n",
       "      <td>1.0</td>\n",
       "      <td>NaN</td>\n",
       "      <td>Y</td>\n",
       "    </tr>\n",
       "    <tr>\n",
       "      <th>4</th>\n",
       "      <td>18710509</td>\n",
       "      <td>0</td>\n",
       "      <td>3</td>\n",
       "      <td>BS1</td>\n",
       "      <td>na</td>\n",
       "      <td>2</td>\n",
       "      <td>TRO</td>\n",
       "      <td>na</td>\n",
       "      <td>1</td>\n",
       "      <td>9</td>\n",
       "      <td>...</td>\n",
       "      <td>Steve Bellan</td>\n",
       "      <td>5.0</td>\n",
       "      <td>pikel101</td>\n",
       "      <td>Lip Pike</td>\n",
       "      <td>3.0</td>\n",
       "      <td>cravb101</td>\n",
       "      <td>Bill Craver</td>\n",
       "      <td>6.0</td>\n",
       "      <td>HTBF</td>\n",
       "      <td>Y</td>\n",
       "    </tr>\n",
       "  </tbody>\n",
       "</table>\n",
       "<p>5 rows × 161 columns</p>\n",
       "</div>"
      ],
      "text/plain": [
       "       date  number_of_game  day_of_week v_name v_league  v_game_number  \\\n",
       "0  18710504               0            5    CL1       na              1   \n",
       "1  18710505               0            6    BS1       na              1   \n",
       "2  18710506               0            7    CL1       na              2   \n",
       "3  18710508               0            2    CL1       na              3   \n",
       "4  18710509               0            3    BS1       na              2   \n",
       "\n",
       "  h_name h_league  h_game_number  v_score  ...  h_player_7_name  \\\n",
       "0    FW1       na              1        0  ...       Ed Mincher   \n",
       "1    WS3       na              1       20  ...     Asa Brainard   \n",
       "2    RC1       na              1       12  ...       Pony Sager   \n",
       "3    CH1       na              1       12  ...         Ed Duffy   \n",
       "4    TRO       na              1        9  ...     Steve Bellan   \n",
       "\n",
       "   h_player_7_def_pos h_player_8_id  h_player_8_name h_player_8_def_pos  \\\n",
       "0                 7.0      mcdej101  James McDermott                8.0   \n",
       "1                 1.0      burrh101  Henry Burroughs                9.0   \n",
       "2                 6.0      birdg101      George Bird                7.0   \n",
       "3                 6.0      pinke101       Ed Pinkham                5.0   \n",
       "4                 5.0      pikel101         Lip Pike                3.0   \n",
       "\n",
       "  h_player_9_id  h_player_9_name  h_player_9_def_pos  additional_info  \\\n",
       "0      kellb105       Bill Kelly                 9.0              NaN   \n",
       "1      berth101  Henry Berthrong                 8.0             HTBF   \n",
       "2      stirg101       Gat Stires                 9.0              NaN   \n",
       "3      zettg101  George Zettlein                 1.0              NaN   \n",
       "4      cravb101      Bill Craver                 6.0             HTBF   \n",
       "\n",
       "  acquisition_info  \n",
       "0                Y  \n",
       "1                Y  \n",
       "2                Y  \n",
       "3                Y  \n",
       "4                Y  \n",
       "\n",
       "[5 rows x 161 columns]"
      ]
     },
     "execution_count": 43,
     "metadata": {},
     "output_type": "execute_result"
    }
   ],
   "source": [
    "mainData.head()"
   ]
  },
  {
   "cell_type": "code",
   "execution_count": 44,
   "id": "16168c0c",
   "metadata": {},
   "outputs": [
    {
     "data": {
      "text/plain": [
       "(171907, 161)"
      ]
     },
     "execution_count": 44,
     "metadata": {},
     "output_type": "execute_result"
    }
   ],
   "source": [
    "mainData.shape"
   ]
  },
  {
   "cell_type": "code",
   "execution_count": 45,
   "id": "ce129a12",
   "metadata": {},
   "outputs": [
    {
     "data": {
      "text/plain": [
       "date                    int64\n",
       "number_of_game          int64\n",
       "day_of_week             int64\n",
       "v_name                 object\n",
       "v_league               object\n",
       "                       ...   \n",
       "h_player_9_id          object\n",
       "h_player_9_name        object\n",
       "h_player_9_def_pos    float64\n",
       "additional_info        object\n",
       "acquisition_info       object\n",
       "Length: 161, dtype: object"
      ]
     },
     "execution_count": 45,
     "metadata": {},
     "output_type": "execute_result"
    }
   ],
   "source": [
    "df.dtypes"
   ]
  },
  {
   "cell_type": "code",
   "execution_count": 46,
   "id": "de708aa9",
   "metadata": {},
   "outputs": [],
   "source": [
    "# change day_of_week type into daytime\n",
    "df['day_of_week'] = df['day_of_week'].astype('int')"
   ]
  },
  {
   "cell_type": "code",
   "execution_count": 47,
   "id": "b51f2b96",
   "metadata": {},
   "outputs": [],
   "source": [
    "#Delete repeated columns\n",
    "df = df[df.columns.drop(list(df.filter(regex='name')))]"
   ]
  },
  {
   "cell_type": "code",
   "execution_count": 48,
   "id": "64f3ddf8",
   "metadata": {},
   "outputs": [
    {
     "data": {
      "text/plain": [
       "(171907, 127)"
      ]
     },
     "execution_count": 48,
     "metadata": {},
     "output_type": "execute_result"
    }
   ],
   "source": [
    "df.shape"
   ]
  },
  {
   "cell_type": "markdown",
   "id": "51af0c61",
   "metadata": {},
   "source": [
    "- Deleted all the columns that has \"name\" in the data which are 34, because there are alwayes a columne with the \"name id\" after it.\n",
    "- There is \"v_name\", \"h_name\" and I don't think it is as the same as \"h_league\" and \"v_league\" so I don't know if I should return it back! \n",
    "- The date column is unusual and I don't know how to deal with it, should I change it to datetime!\n",
    "- Change \"day_of_week\" type into datetime"
   ]
  },
  {
   "cell_type": "markdown",
   "id": "8283b5c3",
   "metadata": {},
   "source": [
    "## Feature Engeneering"
   ]
  },
  {
   "cell_type": "markdown",
   "id": "711199bd",
   "metadata": {},
   "source": [
    "* Encoded all the players from different columns so they have the same number\n",
    "* I don't know what are these columns and how should I encode them (completion, h_line_score, v_line_score)"
   ]
  },
  {
   "cell_type": "code",
   "execution_count": 49,
   "id": "f9cbd708",
   "metadata": {},
   "outputs": [],
   "source": [
    "# Encoded all the players so they have the same number even if they are in different columns\n",
    "# I should create a function instead of all these lines but I don't know how =)\n",
    "\n",
    "country_map = {country:i for i, country in enumerate(df.stack().unique())}\n",
    "df['h_player_9_id'] = df['h_player_9_id'].map(country_map)    \n",
    "df['h_player_8_id'] = df['h_player_8_id'].map(country_map)\n",
    "df['h_player_7_id'] = df['h_player_7_id'].map(country_map)\n",
    "df['h_player_6_id'] = df['h_player_6_id'].map(country_map)\n",
    "df['h_player_5_id'] = df['h_player_5_id'].map(country_map)\n",
    "df['h_player_4_id'] = df['h_player_4_id'].map(country_map)\n",
    "df['h_player_3_id'] = df['h_player_3_id'].map(country_map)\n",
    "df['h_player_2_id'] = df['h_player_2_id'].map(country_map)\n",
    "df['h_player_1_id'] = df['h_player_1_id'].map(country_map)\n",
    "df['v_player_9_id'] = df['v_player_9_id'].map(country_map)\n",
    "df['v_player_8_id'] = df['v_player_8_id'].map(country_map)\n",
    "df['v_player_7_id'] = df['v_player_7_id'].map(country_map)\n",
    "df['v_player_6_id'] = df['v_player_6_id'].map(country_map)\n",
    "df['v_player_5_id'] = df['v_player_5_id'].map(country_map)\n",
    "df['v_player_4_id'] = df['v_player_4_id'].map(country_map)\n",
    "df['v_player_3_id'] = df['v_player_3_id'].map(country_map)\n",
    "df['v_player_2_id'] = df['v_player_2_id'].map(country_map)\n",
    "df['v_player_1_id'] = df['v_player_1_id'].map(country_map)\n",
    "df['h_starting_pitcher_id'] = df['h_starting_pitcher_id'].map(country_map)\n",
    "df['v_starting_pitcher_id'] = df['v_starting_pitcher_id'].map(country_map)\n",
    "df['winning_rbi_batter_id'] = df['winning_rbi_batter_id'].map(country_map)\n",
    "df['saving_pitcher_id'] = df['saving_pitcher_id'].map(country_map)\n",
    "df['losing_pitcher_id'] = df['losing_pitcher_id'].map(country_map)\n",
    "df['winning_pitcher_id'] = df['winning_pitcher_id'].map(country_map)\n",
    "df['h_manager_id'] = df['h_manager_id'].map(country_map)\n",
    "df['v_manager_id'] = df['v_manager_id'].map(country_map)\n",
    "df['rf_umpire_id'] = df['rf_umpire_id'].map(country_map)\n",
    "df['lf_umpire_id'] = df['lf_umpire_id'].map(country_map)\n",
    "df['3b_umpire_id'] = df['3b_umpire_id'].map(country_map)\n",
    "df['2b_umpire_id'] = df['2b_umpire_id'].map(country_map)\n",
    "df['1b_umpire_id'] = df['1b_umpire_id'].map(country_map)\n",
    "df['hp_umpire_id'] = df['hp_umpire_id'].map(country_map)\n",
    "df['h_league'] = df['h_league'].map(country_map)\n",
    "df['v_league'] = df['v_league'].map(country_map)"
   ]
  },
  {
   "cell_type": "code",
   "execution_count": 50,
   "id": "feb23598",
   "metadata": {},
   "outputs": [],
   "source": [
    "#functions that make days as sycle \n",
    "\n",
    "def sin_transformer(period):\n",
    "    return FunctionTransformer(lambda x: np.sin(x / period * 2 * np.pi))\n",
    "\n",
    "\n",
    "def cos_transformer(period):\n",
    "    return FunctionTransformer(lambda x: np.cos(x / period * 2 * np.pi))"
   ]
  },
  {
   "cell_type": "code",
   "execution_count": 9,
   "id": "33cc4fb0",
   "metadata": {},
   "outputs": [
    {
     "ename": "ValueError",
     "evalue": "too many values to unpack (expected 3)",
     "output_type": "error",
     "traceback": [
      "\u001b[1;31m---------------------------------------------------------------------------\u001b[0m",
      "\u001b[1;31mValueError\u001b[0m                                Traceback (most recent call last)",
      "\u001b[1;32m<ipython-input-9-fd8d47533ac7>\u001b[0m in \u001b[0;36m<module>\u001b[1;34m\u001b[0m\n\u001b[0;32m     14\u001b[0m ], remainder='passthrough')\n\u001b[0;32m     15\u001b[0m \u001b[1;33m\u001b[0m\u001b[0m\n\u001b[1;32m---> 16\u001b[1;33m \u001b[0mdf\u001b[0m \u001b[1;33m=\u001b[0m \u001b[0mextraction\u001b[0m\u001b[1;33m.\u001b[0m\u001b[0mfit_transform\u001b[0m\u001b[1;33m(\u001b[0m\u001b[0mdf\u001b[0m\u001b[1;33m)\u001b[0m\u001b[1;33m\u001b[0m\u001b[1;33m\u001b[0m\u001b[0m\n\u001b[0m",
      "\u001b[1;32m~\\anaconda3\\lib\\site-packages\\sklearn\\compose\\_column_transformer.py\u001b[0m in \u001b[0;36mfit_transform\u001b[1;34m(self, X, y)\u001b[0m\n\u001b[0;32m    503\u001b[0m         \u001b[0mself\u001b[0m\u001b[1;33m.\u001b[0m\u001b[0m_check_n_features\u001b[0m\u001b[1;33m(\u001b[0m\u001b[0mX\u001b[0m\u001b[1;33m,\u001b[0m \u001b[0mreset\u001b[0m\u001b[1;33m=\u001b[0m\u001b[1;32mTrue\u001b[0m\u001b[1;33m)\u001b[0m\u001b[1;33m\u001b[0m\u001b[1;33m\u001b[0m\u001b[0m\n\u001b[0;32m    504\u001b[0m         \u001b[0mself\u001b[0m\u001b[1;33m.\u001b[0m\u001b[0m_validate_transformers\u001b[0m\u001b[1;33m(\u001b[0m\u001b[1;33m)\u001b[0m\u001b[1;33m\u001b[0m\u001b[1;33m\u001b[0m\u001b[0m\n\u001b[1;32m--> 505\u001b[1;33m         \u001b[0mself\u001b[0m\u001b[1;33m.\u001b[0m\u001b[0m_validate_column_callables\u001b[0m\u001b[1;33m(\u001b[0m\u001b[0mX\u001b[0m\u001b[1;33m)\u001b[0m\u001b[1;33m\u001b[0m\u001b[1;33m\u001b[0m\u001b[0m\n\u001b[0m\u001b[0;32m    506\u001b[0m         \u001b[0mself\u001b[0m\u001b[1;33m.\u001b[0m\u001b[0m_validate_remainder\u001b[0m\u001b[1;33m(\u001b[0m\u001b[0mX\u001b[0m\u001b[1;33m)\u001b[0m\u001b[1;33m\u001b[0m\u001b[1;33m\u001b[0m\u001b[0m\n\u001b[0;32m    507\u001b[0m \u001b[1;33m\u001b[0m\u001b[0m\n",
      "\u001b[1;32m~\\anaconda3\\lib\\site-packages\\sklearn\\compose\\_column_transformer.py\u001b[0m in \u001b[0;36m_validate_column_callables\u001b[1;34m(self, X)\u001b[0m\n\u001b[0;32m    300\u001b[0m         \"\"\"\n\u001b[0;32m    301\u001b[0m         \u001b[0mcolumns\u001b[0m \u001b[1;33m=\u001b[0m \u001b[1;33m[\u001b[0m\u001b[1;33m]\u001b[0m\u001b[1;33m\u001b[0m\u001b[1;33m\u001b[0m\u001b[0m\n\u001b[1;32m--> 302\u001b[1;33m         \u001b[1;32mfor\u001b[0m \u001b[0m_\u001b[0m\u001b[1;33m,\u001b[0m \u001b[0m_\u001b[0m\u001b[1;33m,\u001b[0m \u001b[0mcolumn\u001b[0m \u001b[1;32min\u001b[0m \u001b[0mself\u001b[0m\u001b[1;33m.\u001b[0m\u001b[0mtransformers\u001b[0m\u001b[1;33m:\u001b[0m\u001b[1;33m\u001b[0m\u001b[1;33m\u001b[0m\u001b[0m\n\u001b[0m\u001b[0;32m    303\u001b[0m             \u001b[1;32mif\u001b[0m \u001b[0mcallable\u001b[0m\u001b[1;33m(\u001b[0m\u001b[0mcolumn\u001b[0m\u001b[1;33m)\u001b[0m\u001b[1;33m:\u001b[0m\u001b[1;33m\u001b[0m\u001b[1;33m\u001b[0m\u001b[0m\n\u001b[0;32m    304\u001b[0m                 \u001b[0mcolumn\u001b[0m \u001b[1;33m=\u001b[0m \u001b[0mcolumn\u001b[0m\u001b[1;33m(\u001b[0m\u001b[0mX\u001b[0m\u001b[1;33m)\u001b[0m\u001b[1;33m\u001b[0m\u001b[1;33m\u001b[0m\u001b[0m\n",
      "\u001b[1;31mValueError\u001b[0m: too many values to unpack (expected 3)"
     ]
    }
   ],
   "source": [
    "# encode special columns that don't have any value connected with other columns\n",
    "# unfotinatly it gave an error that so many data to unpack so I will sperate them\n",
    "extraction = ColumnTransformer([\n",
    "    ('lbs', LabelEncoder(), ['acquisition_info'],[\"park_id\"]),\n",
    "    ('date', FeatureUnion([\n",
    "        ('doy_cos', cos_transformer(365)),\n",
    "        ('doy_sin', sin_transformer(365)),\n",
    "    ]), ['date']),\n",
    "    ('deptc', OneHotEncoder(), ['day_night'], [\"forefeit\"],[\"protest\"]),\n",
    "    ('day_of_week', FeatureUnion([\n",
    "        ('dow_cos', cos_transformer(7)),\n",
    "        ('dow_sin', sin_transformer(7)),\n",
    "    ]), ['day_of_week']),\n",
    "], remainder='passthrough')\n",
    "\n",
    "df = extraction.fit_transform(df)"
   ]
  },
  {
   "cell_type": "code",
   "execution_count": 51,
   "id": "0b1a7ba1",
   "metadata": {},
   "outputs": [],
   "source": [
    "lable = LabelEncoder()\n",
    "hotco = OneHotEncoder()"
   ]
  },
  {
   "cell_type": "code",
   "execution_count": 52,
   "id": "c3614a5d",
   "metadata": {},
   "outputs": [],
   "source": [
    "# it gives error when I use 'OneHotEncoder' function coz it's not iterable so I just LabelEncoder all of them\n",
    "#devided into muliple cells so it wont take long time\n",
    "\n",
    "df['acquisition_info'] = lable.fit_transform(df['acquisition_info'])\n",
    "df['park_id'] = lable.fit_transform(df['park_id'])"
   ]
  },
  {
   "cell_type": "code",
   "execution_count": 53,
   "id": "a4793dd9",
   "metadata": {},
   "outputs": [],
   "source": [
    "df['day_night'] = lable.fit_transform(df['day_night'])\n",
    "df['forefeit'] = lable.fit_transform(df['forefeit'])"
   ]
  },
  {
   "cell_type": "code",
   "execution_count": 54,
   "id": "7b91b9f1",
   "metadata": {},
   "outputs": [],
   "source": [
    "df['protest'] = lable.fit_transform(df['protest'])"
   ]
  },
  {
   "cell_type": "raw",
   "id": "248f3102",
   "metadata": {},
   "source": [
    "#that should make the days of the week as a circle but it will change the data type into array and we don't want that now\n",
    "extraction = ColumnTransformer([('day_of_week', FeatureUnion([\n",
    "        ('dow_cos', cos_transformer(7)),\n",
    "        ('dow_sin', sin_transformer(7)),\n",
    "    ]), ['day_of_week']),\n",
    "], remainder='passthrough')\n",
    "\n",
    "df = extraction.fit_transform(df)"
   ]
  },
  {
   "cell_type": "code",
   "execution_count": 59,
   "id": "f931cccb",
   "metadata": {},
   "outputs": [],
   "source": [
    "df.to_csv(\"ML_wranlge.csv\",index=False)"
   ]
  },
  {
   "cell_type": "markdown",
   "id": "98d112d1",
   "metadata": {},
   "source": []
  }
 ],
 "metadata": {
  "kernelspec": {
   "display_name": "Python 3",
   "language": "python",
   "name": "python3"
  },
  "language_info": {
   "codemirror_mode": {
    "name": "ipython",
    "version": 3
   },
   "file_extension": ".py",
   "mimetype": "text/x-python",
   "name": "python",
   "nbconvert_exporter": "python",
   "pygments_lexer": "ipython3",
   "version": "3.8.8"
  }
 },
 "nbformat": 4,
 "nbformat_minor": 5
}
