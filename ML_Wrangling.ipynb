{
 "cells": [
  {
   "cell_type": "code",
   "execution_count": 45,
   "id": "2ee8ed19",
   "metadata": {},
   "outputs": [],
   "source": [
    "import pandas as pd\n",
    "import numpy as np\n",
    "from datetime import datetime\n",
    "import os\n",
    "from matplotlib import pyplot"
   ]
  },
  {
   "cell_type": "markdown",
   "id": "4d2dd2d0",
   "metadata": {},
   "source": [
    "## Game  by game describtion of home team/ visiter team wins "
   ]
  },
  {
   "cell_type": "code",
   "execution_count": 115,
   "id": "8b242c90",
   "metadata": {},
   "outputs": [
    {
     "name": "stderr",
     "output_type": "stream",
     "text": [
      "C:\\Users\\amjad\\anaconda3\\lib\\site-packages\\IPython\\core\\interactiveshell.py:3165: DtypeWarning: Columns (12,13,14,15,19,20,81,83,85,87,93,94,95,96,97,98,99,100,105,106,108,109,111,112,114,115,117,118,120,121,123,124,126,127,129,130,132,133,135,136,138,139,141,142,144,145,147,148,150,151,153,154,156,157,160) have mixed types.Specify dtype option on import or set low_memory=False.\n",
      "  has_raised = await self.run_ast_nodes(code_ast.body, cell_name,\n"
     ]
    }
   ],
   "source": [
    "mainData = pd.read_csv(\"game_logs.csv\")"
   ]
  },
  {
   "cell_type": "code",
   "execution_count": 116,
   "id": "13469455",
   "metadata": {},
   "outputs": [
    {
     "data": {
      "text/html": [
       "<div>\n",
       "<style scoped>\n",
       "    .dataframe tbody tr th:only-of-type {\n",
       "        vertical-align: middle;\n",
       "    }\n",
       "\n",
       "    .dataframe tbody tr th {\n",
       "        vertical-align: top;\n",
       "    }\n",
       "\n",
       "    .dataframe thead th {\n",
       "        text-align: right;\n",
       "    }\n",
       "</style>\n",
       "<table border=\"1\" class=\"dataframe\">\n",
       "  <thead>\n",
       "    <tr style=\"text-align: right;\">\n",
       "      <th></th>\n",
       "      <th>date</th>\n",
       "      <th>number_of_game</th>\n",
       "      <th>day_of_week</th>\n",
       "      <th>v_name</th>\n",
       "      <th>v_league</th>\n",
       "      <th>v_game_number</th>\n",
       "      <th>h_name</th>\n",
       "      <th>h_league</th>\n",
       "      <th>h_game_number</th>\n",
       "      <th>v_score</th>\n",
       "      <th>...</th>\n",
       "      <th>h_player_7_name</th>\n",
       "      <th>h_player_7_def_pos</th>\n",
       "      <th>h_player_8_id</th>\n",
       "      <th>h_player_8_name</th>\n",
       "      <th>h_player_8_def_pos</th>\n",
       "      <th>h_player_9_id</th>\n",
       "      <th>h_player_9_name</th>\n",
       "      <th>h_player_9_def_pos</th>\n",
       "      <th>additional_info</th>\n",
       "      <th>acquisition_info</th>\n",
       "    </tr>\n",
       "  </thead>\n",
       "  <tbody>\n",
       "    <tr>\n",
       "      <th>0</th>\n",
       "      <td>18710504</td>\n",
       "      <td>0</td>\n",
       "      <td>5</td>\n",
       "      <td>CL1</td>\n",
       "      <td>na</td>\n",
       "      <td>1</td>\n",
       "      <td>FW1</td>\n",
       "      <td>na</td>\n",
       "      <td>1</td>\n",
       "      <td>0</td>\n",
       "      <td>...</td>\n",
       "      <td>Ed Mincher</td>\n",
       "      <td>7.0</td>\n",
       "      <td>mcdej101</td>\n",
       "      <td>James McDermott</td>\n",
       "      <td>8.0</td>\n",
       "      <td>kellb105</td>\n",
       "      <td>Bill Kelly</td>\n",
       "      <td>9.0</td>\n",
       "      <td>NaN</td>\n",
       "      <td>Y</td>\n",
       "    </tr>\n",
       "    <tr>\n",
       "      <th>1</th>\n",
       "      <td>18710505</td>\n",
       "      <td>0</td>\n",
       "      <td>6</td>\n",
       "      <td>BS1</td>\n",
       "      <td>na</td>\n",
       "      <td>1</td>\n",
       "      <td>WS3</td>\n",
       "      <td>na</td>\n",
       "      <td>1</td>\n",
       "      <td>20</td>\n",
       "      <td>...</td>\n",
       "      <td>Asa Brainard</td>\n",
       "      <td>1.0</td>\n",
       "      <td>burrh101</td>\n",
       "      <td>Henry Burroughs</td>\n",
       "      <td>9.0</td>\n",
       "      <td>berth101</td>\n",
       "      <td>Henry Berthrong</td>\n",
       "      <td>8.0</td>\n",
       "      <td>HTBF</td>\n",
       "      <td>Y</td>\n",
       "    </tr>\n",
       "    <tr>\n",
       "      <th>2</th>\n",
       "      <td>18710506</td>\n",
       "      <td>0</td>\n",
       "      <td>7</td>\n",
       "      <td>CL1</td>\n",
       "      <td>na</td>\n",
       "      <td>2</td>\n",
       "      <td>RC1</td>\n",
       "      <td>na</td>\n",
       "      <td>1</td>\n",
       "      <td>12</td>\n",
       "      <td>...</td>\n",
       "      <td>Pony Sager</td>\n",
       "      <td>6.0</td>\n",
       "      <td>birdg101</td>\n",
       "      <td>George Bird</td>\n",
       "      <td>7.0</td>\n",
       "      <td>stirg101</td>\n",
       "      <td>Gat Stires</td>\n",
       "      <td>9.0</td>\n",
       "      <td>NaN</td>\n",
       "      <td>Y</td>\n",
       "    </tr>\n",
       "    <tr>\n",
       "      <th>3</th>\n",
       "      <td>18710508</td>\n",
       "      <td>0</td>\n",
       "      <td>2</td>\n",
       "      <td>CL1</td>\n",
       "      <td>na</td>\n",
       "      <td>3</td>\n",
       "      <td>CH1</td>\n",
       "      <td>na</td>\n",
       "      <td>1</td>\n",
       "      <td>12</td>\n",
       "      <td>...</td>\n",
       "      <td>Ed Duffy</td>\n",
       "      <td>6.0</td>\n",
       "      <td>pinke101</td>\n",
       "      <td>Ed Pinkham</td>\n",
       "      <td>5.0</td>\n",
       "      <td>zettg101</td>\n",
       "      <td>George Zettlein</td>\n",
       "      <td>1.0</td>\n",
       "      <td>NaN</td>\n",
       "      <td>Y</td>\n",
       "    </tr>\n",
       "    <tr>\n",
       "      <th>4</th>\n",
       "      <td>18710509</td>\n",
       "      <td>0</td>\n",
       "      <td>3</td>\n",
       "      <td>BS1</td>\n",
       "      <td>na</td>\n",
       "      <td>2</td>\n",
       "      <td>TRO</td>\n",
       "      <td>na</td>\n",
       "      <td>1</td>\n",
       "      <td>9</td>\n",
       "      <td>...</td>\n",
       "      <td>Steve Bellan</td>\n",
       "      <td>5.0</td>\n",
       "      <td>pikel101</td>\n",
       "      <td>Lip Pike</td>\n",
       "      <td>3.0</td>\n",
       "      <td>cravb101</td>\n",
       "      <td>Bill Craver</td>\n",
       "      <td>6.0</td>\n",
       "      <td>HTBF</td>\n",
       "      <td>Y</td>\n",
       "    </tr>\n",
       "  </tbody>\n",
       "</table>\n",
       "<p>5 rows × 161 columns</p>\n",
       "</div>"
      ],
      "text/plain": [
       "       date  number_of_game  day_of_week v_name v_league  v_game_number  \\\n",
       "0  18710504               0            5    CL1       na              1   \n",
       "1  18710505               0            6    BS1       na              1   \n",
       "2  18710506               0            7    CL1       na              2   \n",
       "3  18710508               0            2    CL1       na              3   \n",
       "4  18710509               0            3    BS1       na              2   \n",
       "\n",
       "  h_name h_league  h_game_number  v_score  ...  h_player_7_name  \\\n",
       "0    FW1       na              1        0  ...       Ed Mincher   \n",
       "1    WS3       na              1       20  ...     Asa Brainard   \n",
       "2    RC1       na              1       12  ...       Pony Sager   \n",
       "3    CH1       na              1       12  ...         Ed Duffy   \n",
       "4    TRO       na              1        9  ...     Steve Bellan   \n",
       "\n",
       "   h_player_7_def_pos h_player_8_id  h_player_8_name h_player_8_def_pos  \\\n",
       "0                 7.0      mcdej101  James McDermott                8.0   \n",
       "1                 1.0      burrh101  Henry Burroughs                9.0   \n",
       "2                 6.0      birdg101      George Bird                7.0   \n",
       "3                 6.0      pinke101       Ed Pinkham                5.0   \n",
       "4                 5.0      pikel101         Lip Pike                3.0   \n",
       "\n",
       "  h_player_9_id  h_player_9_name  h_player_9_def_pos  additional_info  \\\n",
       "0      kellb105       Bill Kelly                 9.0              NaN   \n",
       "1      berth101  Henry Berthrong                 8.0             HTBF   \n",
       "2      stirg101       Gat Stires                 9.0              NaN   \n",
       "3      zettg101  George Zettlein                 1.0              NaN   \n",
       "4      cravb101      Bill Craver                 6.0             HTBF   \n",
       "\n",
       "  acquisition_info  \n",
       "0                Y  \n",
       "1                Y  \n",
       "2                Y  \n",
       "3                Y  \n",
       "4                Y  \n",
       "\n",
       "[5 rows x 161 columns]"
      ]
     },
     "execution_count": 116,
     "metadata": {},
     "output_type": "execute_result"
    }
   ],
   "source": [
    "mainData.head()"
   ]
  },
  {
   "cell_type": "code",
<<<<<<< HEAD
   "execution_count": 3,
=======
   "execution_count": 117,
>>>>>>> 56d0d7259c7ef232fd69480aedcd055d1f658694
   "id": "e1491373",
   "metadata": {},
   "outputs": [],
   "source": [
    "df = mainData[['date', 'day_of_week','v_game_number','h_game_number', 'v_score','h_score','day_night',\n",
    "               'attendance','length_minutes']].copy()"
   ]
  },
  {
   "cell_type": "code",
   "execution_count": 118,
   "id": "e5aef7b6",
   "metadata": {},
   "outputs": [
    {
     "data": {
      "text/plain": [
       "(171907, 9)"
      ]
     },
     "execution_count": 118,
     "metadata": {},
     "output_type": "execute_result"
    }
   ],
   "source": [
    "df.shape"
   ]
  },
  {
   "cell_type": "code",
   "execution_count": 119,
   "id": "ce129a12",
   "metadata": {},
   "outputs": [
    {
     "data": {
      "text/plain": [
       "date                int64\n",
       "day_of_week         int64\n",
       "v_game_number       int64\n",
       "h_game_number       int64\n",
       "v_score             int64\n",
       "h_score             int64\n",
       "day_night          object\n",
       "attendance        float64\n",
       "length_minutes    float64\n",
       "dtype: object"
      ]
     },
     "execution_count": 119,
     "metadata": {},
     "output_type": "execute_result"
    }
   ],
   "source": [
    "df.dtypes"
   ]
  },
  {
   "cell_type": "code",
<<<<<<< HEAD
   "execution_count": 21,
=======
   "execution_count": 120,
>>>>>>> 56d0d7259c7ef232fd69480aedcd055d1f658694
   "id": "33f4860f",
   "metadata": {},
   "outputs": [],
   "source": [
    "# change date into datetime\n",
    "# doing this step create a problem that it makes the data not fitted for the transformer! it make it 3d\n",
    "#df['date'] = datetime.strptime('18710504', '%Y%m%d')\n",
    "df['day_night'] = df['day_night'].replace(['D','N'],[1,0])"
   ]
  },
  {
   "cell_type": "code",
<<<<<<< HEAD
   "execution_count": 22,
=======
   "execution_count": 121,
>>>>>>> 56d0d7259c7ef232fd69480aedcd055d1f658694
   "id": "3c1c4afb",
   "metadata": {},
   "outputs": [
    {
     "data": {
      "text/html": [
       "<div>\n",
       "<style scoped>\n",
       "    .dataframe tbody tr th:only-of-type {\n",
       "        vertical-align: middle;\n",
       "    }\n",
       "\n",
       "    .dataframe tbody tr th {\n",
       "        vertical-align: top;\n",
       "    }\n",
       "\n",
       "    .dataframe thead th {\n",
       "        text-align: right;\n",
       "    }\n",
       "</style>\n",
       "<table border=\"1\" class=\"dataframe\">\n",
       "  <thead>\n",
       "    <tr style=\"text-align: right;\">\n",
       "      <th></th>\n",
       "      <th>day_night</th>\n",
       "    </tr>\n",
       "  </thead>\n",
       "  <tbody>\n",
       "    <tr>\n",
       "      <th>0</th>\n",
       "      <td>1.0</td>\n",
       "    </tr>\n",
       "    <tr>\n",
       "      <th>1</th>\n",
       "      <td>1.0</td>\n",
       "    </tr>\n",
       "    <tr>\n",
       "      <th>2</th>\n",
       "      <td>1.0</td>\n",
       "    </tr>\n",
       "    <tr>\n",
       "      <th>3</th>\n",
       "      <td>1.0</td>\n",
       "    </tr>\n",
       "    <tr>\n",
       "      <th>4</th>\n",
       "      <td>1.0</td>\n",
       "    </tr>\n",
       "    <tr>\n",
       "      <th>...</th>\n",
       "      <td>...</td>\n",
       "    </tr>\n",
       "    <tr>\n",
       "      <th>171902</th>\n",
       "      <td>1.0</td>\n",
       "    </tr>\n",
       "    <tr>\n",
       "      <th>171903</th>\n",
       "      <td>1.0</td>\n",
       "    </tr>\n",
       "    <tr>\n",
       "      <th>171904</th>\n",
       "      <td>1.0</td>\n",
       "    </tr>\n",
       "    <tr>\n",
       "      <th>171905</th>\n",
       "      <td>1.0</td>\n",
       "    </tr>\n",
       "    <tr>\n",
       "      <th>171906</th>\n",
       "      <td>1.0</td>\n",
       "    </tr>\n",
       "  </tbody>\n",
       "</table>\n",
       "<p>171907 rows × 1 columns</p>\n",
       "</div>"
      ],
      "text/plain": [
       "        day_night\n",
       "0             1.0\n",
       "1             1.0\n",
       "2             1.0\n",
       "3             1.0\n",
       "4             1.0\n",
       "...           ...\n",
       "171902        1.0\n",
       "171903        1.0\n",
       "171904        1.0\n",
       "171905        1.0\n",
       "171906        1.0\n",
       "\n",
       "[171907 rows x 1 columns]"
      ]
     },
<<<<<<< HEAD
     "execution_count": 22,
=======
     "execution_count": 121,
>>>>>>> 56d0d7259c7ef232fd69480aedcd055d1f658694
     "metadata": {},
     "output_type": "execute_result"
    }
   ],
   "source": [
    "df[['day_night']]"
   ]
  },
  {
   "cell_type": "code",
<<<<<<< HEAD
   "execution_count": 23,
=======
   "execution_count": 122,
>>>>>>> 56d0d7259c7ef232fd69480aedcd055d1f658694
   "id": "4f9d9448",
   "metadata": {},
   "outputs": [],
   "source": [
    "# calculate which column is greater than the other then if the visiting team win v=1, if the home team win h=0\n",
    "df['visit_win'] = np.where(\n",
    "    df['v_score'] > df['h_score'], 1, 0)"
   ]
  },
  {
   "cell_type": "code",
<<<<<<< HEAD
   "execution_count": 24,
=======
   "execution_count": 123,
>>>>>>> 56d0d7259c7ef232fd69480aedcd055d1f658694
   "id": "b60fd2da",
   "metadata": {},
   "outputs": [
    {
     "data": {
      "text/html": [
       "<div>\n",
       "<style scoped>\n",
       "    .dataframe tbody tr th:only-of-type {\n",
       "        vertical-align: middle;\n",
       "    }\n",
       "\n",
       "    .dataframe tbody tr th {\n",
       "        vertical-align: top;\n",
       "    }\n",
       "\n",
       "    .dataframe thead th {\n",
       "        text-align: right;\n",
       "    }\n",
       "</style>\n",
       "<table border=\"1\" class=\"dataframe\">\n",
       "  <thead>\n",
       "    <tr style=\"text-align: right;\">\n",
       "      <th></th>\n",
       "      <th>visit_win</th>\n",
       "    </tr>\n",
       "  </thead>\n",
       "  <tbody>\n",
       "    <tr>\n",
       "      <th>0</th>\n",
       "      <td>0</td>\n",
       "    </tr>\n",
       "    <tr>\n",
       "      <th>1</th>\n",
       "      <td>1</td>\n",
       "    </tr>\n",
       "    <tr>\n",
       "      <th>2</th>\n",
       "      <td>1</td>\n",
       "    </tr>\n",
       "    <tr>\n",
       "      <th>3</th>\n",
       "      <td>0</td>\n",
       "    </tr>\n",
       "    <tr>\n",
       "      <th>4</th>\n",
       "      <td>1</td>\n",
       "    </tr>\n",
       "    <tr>\n",
       "      <th>...</th>\n",
       "      <td>...</td>\n",
       "    </tr>\n",
       "    <tr>\n",
       "      <th>171902</th>\n",
       "      <td>1</td>\n",
       "    </tr>\n",
       "    <tr>\n",
       "      <th>171903</th>\n",
       "      <td>1</td>\n",
       "    </tr>\n",
       "    <tr>\n",
       "      <th>171904</th>\n",
       "      <td>1</td>\n",
       "    </tr>\n",
       "    <tr>\n",
       "      <th>171905</th>\n",
       "      <td>0</td>\n",
       "    </tr>\n",
       "    <tr>\n",
       "      <th>171906</th>\n",
       "      <td>1</td>\n",
       "    </tr>\n",
       "  </tbody>\n",
       "</table>\n",
       "<p>171907 rows × 1 columns</p>\n",
       "</div>"
      ],
      "text/plain": [
       "        visit_win\n",
       "0               0\n",
       "1               1\n",
       "2               1\n",
       "3               0\n",
       "4               1\n",
       "...           ...\n",
       "171902          1\n",
       "171903          1\n",
       "171904          1\n",
       "171905          0\n",
       "171906          1\n",
       "\n",
       "[171907 rows x 1 columns]"
      ]
     },
<<<<<<< HEAD
     "execution_count": 24,
=======
     "execution_count": 123,
>>>>>>> 56d0d7259c7ef232fd69480aedcd055d1f658694
     "metadata": {},
     "output_type": "execute_result"
    }
   ],
   "source": [
    "df[['visit_win']]"
   ]
  },
  {
   "cell_type": "code",
<<<<<<< HEAD
   "execution_count": 25,
=======
   "execution_count": 124,
>>>>>>> 56d0d7259c7ef232fd69480aedcd055d1f658694
   "id": "923ae31e",
   "metadata": {},
   "outputs": [],
   "source": [
    "win=df['visit_win'].value_counts()"
   ]
  },
  {
   "cell_type": "markdown",
   "id": "e45689ee",
   "metadata": {},
   "source": [
    "### - Detect impalance dataset"
   ]
  },
  {
   "cell_type": "code",
<<<<<<< HEAD
   "execution_count": 26,
=======
   "execution_count": 125,
>>>>>>> 56d0d7259c7ef232fd69480aedcd055d1f658694
   "id": "84e9d14b",
   "metadata": {},
   "outputs": [
    {
     "data": {
      "text/plain": [
       "<AxesSubplot:>"
      ]
     },
<<<<<<< HEAD
     "execution_count": 26,
=======
     "execution_count": 125,
>>>>>>> 56d0d7259c7ef232fd69480aedcd055d1f658694
     "metadata": {},
     "output_type": "execute_result"
    },
    {
     "data": {
      "image/png": "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\n",
      "text/plain": [
       "<Figure size 576x396 with 1 Axes>"
      ]
     },
     "metadata": {},
     "output_type": "display_data"
    }
   ],
   "source": [
    "win.plot(kind='bar')"
   ]
  },
  {
   "cell_type": "code",
<<<<<<< HEAD
   "execution_count": 27,
=======
   "execution_count": 126,
>>>>>>> 56d0d7259c7ef232fd69480aedcd055d1f658694
   "id": "55eb83ac",
   "metadata": {},
   "outputs": [],
   "source": [
    "df = df.replace([' ','NULL','na','(none)'],np.nan)"
   ]
  },
  {
   "cell_type": "markdown",
   "id": "ed2c6252",
   "metadata": {},
   "source": [
    "### - Acoording the analysis we detict a big gab in the score before 1960"
   ]
  },
  {
   "cell_type": "code",
<<<<<<< HEAD
   "execution_count": 28,
=======
   "execution_count": 127,
>>>>>>> 56d0d7259c7ef232fd69480aedcd055d1f658694
   "id": "c9bc7911",
   "metadata": {},
   "outputs": [],
   "source": [
    "df_2 = df[df[\"date\"] > 19600411]"
   ]
  },
  {
   "cell_type": "code",
<<<<<<< HEAD
   "execution_count": 29,
=======
   "execution_count": 128,
>>>>>>> 56d0d7259c7ef232fd69480aedcd055d1f658694
   "id": "79e4bd2d",
   "metadata": {},
   "outputs": [],
   "source": [
    "# drop any NaNs\n",
    "df_3 = df_2.dropna()"
   ]
  },
  {
   "cell_type": "code",
<<<<<<< HEAD
   "execution_count": 30,
=======
   "execution_count": 129,
>>>>>>> 56d0d7259c7ef232fd69480aedcd055d1f658694
   "id": "d3b3d19a",
   "metadata": {},
   "outputs": [
    {
     "data": {
      "text/plain": [
       "(77594, 10)"
      ]
     },
<<<<<<< HEAD
     "execution_count": 30,
=======
     "execution_count": 129,
>>>>>>> 56d0d7259c7ef232fd69480aedcd055d1f658694
     "metadata": {},
     "output_type": "execute_result"
    }
   ],
   "source": [
    "df_3.shape"
   ]
  },
  {
   "cell_type": "code",
<<<<<<< HEAD
   "execution_count": 31,
=======
   "execution_count": 130,
>>>>>>> 56d0d7259c7ef232fd69480aedcd055d1f658694
   "id": "6356268f",
   "metadata": {},
   "outputs": [
    {
     "data": {
      "text/plain": [
       "date                int64\n",
       "day_of_week         int64\n",
       "v_game_number       int64\n",
       "h_game_number       int64\n",
       "v_score             int64\n",
       "h_score             int64\n",
       "day_night         float64\n",
       "attendance        float64\n",
       "length_minutes    float64\n",
       "visit_win           int32\n",
       "dtype: object"
      ]
     },
<<<<<<< HEAD
     "execution_count": 31,
=======
     "execution_count": 130,
>>>>>>> 56d0d7259c7ef232fd69480aedcd055d1f658694
     "metadata": {},
     "output_type": "execute_result"
    }
   ],
   "source": [
    "df_3.dtypes"
   ]
  },
  {
   "cell_type": "code",
<<<<<<< HEAD
   "execution_count": 37,
=======
   "execution_count": 131,
>>>>>>> 56d0d7259c7ef232fd69480aedcd055d1f658694
   "id": "e833ecc0",
   "metadata": {},
   "outputs": [],
   "source": [
    "# drop date feature\n",
    "df_4 = df_3.drop(['date'],axis=1)"
   ]
  },
  {
   "cell_type": "markdown",
   "id": "8283b5c3",
   "metadata": {},
   "source": [
    "## Modeling"
   ]
  },
  {
   "cell_type": "markdown",
   "id": "f3696618",
   "metadata": {},
   "source": [
    "- Deleted Linear Support Vector Classifier (SVC) because it took forever to run \n",
    "- Deleted Logistic Regression model because it could not predict 1 at all."
   ]
  },
  {
   "cell_type": "code",
<<<<<<< HEAD
   "execution_count": 38,
=======
   "execution_count": 132,
>>>>>>> 56d0d7259c7ef232fd69480aedcd055d1f658694
   "id": "cfd4f8df",
   "metadata": {},
   "outputs": [],
   "source": [
    "#ML model\n",
    "from sklearn.model_selection import train_test_split\n",
    "from sklearn.pipeline import Pipeline\n",
    "from sklearn.impute import SimpleImputer \n",
    "from sklearn.model_selection import TimeSeriesSplit\n",
    "from sklearn.model_selection import cross_validate\n",
    "from sklearn.preprocessing import StandardScaler\n",
    "\n",
    "from sklearn.neighbors import KNeighborsClassifier\n",
    "from sklearn.svm import SVC\n",
    "from sklearn.linear_model import LogisticRegression\n",
    "from sklearn.naive_bayes import GaussianNB\n",
    "from sklearn.ensemble import RandomForestClassifier"
   ]
  },
  {
   "cell_type": "code",
<<<<<<< HEAD
   "execution_count": 39,
=======
   "execution_count": 133,
>>>>>>> 56d0d7259c7ef232fd69480aedcd055d1f658694
   "id": "7c035a71",
   "metadata": {},
   "outputs": [],
   "source": [
    "#VS\n",
    "from yellowbrick.classifier import classification_report, confusion_matrix, discrimination_threshold"
   ]
  },
  {
   "cell_type": "code",
<<<<<<< HEAD
   "execution_count": 40,
=======
   "execution_count": 134,
>>>>>>> 56d0d7259c7ef232fd69480aedcd055d1f658694
   "id": "5b701266",
   "metadata": {},
   "outputs": [],
   "source": [
    "scale= StandardScaler()"
   ]
  },
  {
   "cell_type": "code",
<<<<<<< HEAD
   "execution_count": 43,
=======
   "execution_count": 135,
>>>>>>> 56d0d7259c7ef232fd69480aedcd055d1f658694
   "id": "f75df5c5",
   "metadata": {},
   "outputs": [
    {
     "data": {
      "text/plain": [
       "StandardScaler()"
      ]
     },
<<<<<<< HEAD
     "execution_count": 43,
=======
     "execution_count": 135,
>>>>>>> 56d0d7259c7ef232fd69480aedcd055d1f658694
     "metadata": {},
     "output_type": "execute_result"
    }
   ],
   "source": [
<<<<<<< HEAD
    "scale.fit(df_3)"
=======
    "scale.fit(df_4)"
>>>>>>> 56d0d7259c7ef232fd69480aedcd055d1f658694
   ]
  },
  {
   "cell_type": "code",
<<<<<<< HEAD
   "execution_count": 44,
=======
   "execution_count": 149,
>>>>>>> 56d0d7259c7ef232fd69480aedcd055d1f658694
   "id": "aab345c4",
   "metadata": {},
   "outputs": [],
   "source": [
<<<<<<< HEAD
    "features = df_3[[\n",
    "    'date','day_of_week','v_game_number','h_game_number'\n",
=======
    "features = df_4[[\n",
    "    'day_of_week','v_game_number','h_game_number'\n",
>>>>>>> 56d0d7259c7ef232fd69480aedcd055d1f658694
    "    ,'attendance','length_minutes', 'day_night']]\n",
    "\n",
    "target = df_4[['visit_win']].values.ravel()"
   ]
  },
  {
   "cell_type": "code",
<<<<<<< HEAD
   "execution_count": 45,
=======
   "execution_count": 150,
>>>>>>> 56d0d7259c7ef232fd69480aedcd055d1f658694
   "id": "3af23ecc",
   "metadata": {},
   "outputs": [
    {
     "data": {
<<<<<<< HEAD
      "image/png": "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\n",
=======
      "image/png": "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\n",
>>>>>>> 56d0d7259c7ef232fd69480aedcd055d1f658694
      "text/plain": [
       "<Figure size 576x396 with 1 Axes>"
      ]
     },
     "metadata": {},
     "output_type": "display_data"
    },
    {
     "data": {
      "text/plain": [
       "<AxesSubplot:title={'center':'Feature Importances of 6 Features using RandomForestClassifier'}, xlabel='relative importance'>"
      ]
     },
<<<<<<< HEAD
     "execution_count": 45,
=======
     "execution_count": 150,
>>>>>>> 56d0d7259c7ef232fd69480aedcd055d1f658694
     "metadata": {},
     "output_type": "execute_result"
    }
   ],
   "source": [
    "from sklearn.ensemble import RandomForestClassifier\n",
    "\n",
    "from yellowbrick.datasets import load_occupancy\n",
    "from yellowbrick.model_selection import FeatureImportances\n",
    "\n",
    "# Load the classification data set\n",
    "\n",
    "model = RandomForestClassifier(n_estimators=10)\n",
    "viz = FeatureImportances(model)\n",
    "viz.fit(features, target)\n",
    "viz.show()"
   ]
  },
  {
   "cell_type": "code",
   "execution_count": 151,
   "id": "4cb1dfb0",
   "metadata": {},
   "outputs": [],
   "source": [
    "#split the data\n",
    "X_train, X_test, y_train, y_test = train_test_split(\n",
    "    features, target, test_size=0.2\n",
    ")"
   ]
  },
  {
   "cell_type": "code",
   "execution_count": 152,
   "id": "d8e40adf",
   "metadata": {},
   "outputs": [
    {
     "data": {
      "text/plain": [
       "(62075, 6)"
      ]
     },
     "execution_count": 152,
     "metadata": {},
     "output_type": "execute_result"
    }
   ],
   "source": [
    "X_train.shape"
   ]
  },
  {
   "cell_type": "code",
   "execution_count": 153,
   "id": "c8b0399e",
   "metadata": {},
   "outputs": [
    {
     "data": {
      "text/plain": [
       "(62075,)"
      ]
     },
     "execution_count": 153,
     "metadata": {},
     "output_type": "execute_result"
    }
   ],
   "source": [
    "y_train.shape"
   ]
  },
  {
   "cell_type": "markdown",
   "id": "979dad56",
   "metadata": {},
   "source": [
    "## Gaussian Naive Bayes model "
   ]
  },
  {
   "cell_type": "code",
<<<<<<< HEAD
   "execution_count": 49,
=======
   "execution_count": 154,
>>>>>>> 56d0d7259c7ef232fd69480aedcd055d1f658694
   "id": "a39902df",
   "metadata": {},
   "outputs": [
    {
     "data": {
      "text/plain": [
<<<<<<< HEAD
       "{'fit_time': array([0.01430893, 0.01595449, 0.02093458, 0.0259378 , 0.02884316]),\n",
       " 'score_time': array([0.01196027, 0.01201701, 0.01089859, 0.01098537, 0.01196003]),\n",
       " 'test_score': array([0.53904255, 0.51714523, 0.51513983, 0.51110386, 0.50925296])}"
      ]
     },
     "execution_count": 49,
=======
       "{'fit_time': array([0.0132122 , 0.01495433, 0.01793861, 0.02198696, 0.02826667]),\n",
       " 'score_time': array([0.01195979, 0.01196837, 0.00996685, 0.01096582, 0.01096296]),\n",
       " 'test_score': array([0.51485272, 0.51011897, 0.51673315, 0.51579315, 0.51913857])}"
      ]
     },
     "execution_count": 154,
>>>>>>> 56d0d7259c7ef232fd69480aedcd055d1f658694
     "metadata": {},
     "output_type": "execute_result"
    }
   ],
   "source": [
    "# Taking the best seven features and applying them to different ML models\n",
    "cross_validate(GaussianNB(), X_train, y_train, cv=TimeSeriesSplit(), scoring='f1_macro')"
   ]
  },
  {
   "cell_type": "code",
<<<<<<< HEAD
   "execution_count": 50,
=======
   "execution_count": 88,
>>>>>>> 56d0d7259c7ef232fd69480aedcd055d1f658694
   "id": "df5991cf",
   "metadata": {},
   "outputs": [
    {
     "data": {
<<<<<<< HEAD
      "image/png": "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\n",
=======
      "image/png": "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\n",
>>>>>>> 56d0d7259c7ef232fd69480aedcd055d1f658694
      "text/plain": [
       "<Figure size 576x396 with 1 Axes>"
      ]
     },
     "metadata": {},
     "output_type": "display_data"
    },
    {
     "data": {
      "text/plain": [
       "ConfusionMatrix(ax=<AxesSubplot:title={'center':'GaussianNB Confusion Matrix'}, xlabel='Predicted Class', ylabel='True Class'>,\n",
<<<<<<< HEAD
       "                cmap=<matplotlib.colors.ListedColormap object at 0x0000020985640DC0>,\n",
       "                estimator=GaussianNB(), is_fitted=False)"
      ]
     },
     "execution_count": 50,
=======
       "                cmap=<matplotlib.colors.ListedColormap object at 0x000001445F28BAF0>,\n",
       "                estimator=GaussianNB(), is_fitted=False)"
      ]
     },
     "execution_count": 88,
>>>>>>> 56d0d7259c7ef232fd69480aedcd055d1f658694
     "metadata": {},
     "output_type": "execute_result"
    }
   ],
   "source": [
    "confusion_matrix(GaussianNB(), X_train, y_train, X_test, y_test, is_fitted=False)"
   ]
  },
  {
   "cell_type": "code",
<<<<<<< HEAD
   "execution_count": 51,
=======
   "execution_count": 148,
>>>>>>> 56d0d7259c7ef232fd69480aedcd055d1f658694
   "id": "ce581bdf",
   "metadata": {},
   "outputs": [
    {
     "data": {
<<<<<<< HEAD
      "image/png": "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\n",
=======
      "image/png": "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\n",
>>>>>>> 56d0d7259c7ef232fd69480aedcd055d1f658694
      "text/plain": [
       "<Figure size 576x396 with 2 Axes>"
      ]
     },
     "metadata": {},
     "output_type": "display_data"
    },
    {
     "data": {
      "text/plain": [
       "ClassificationReport(ax=<AxesSubplot:title={'center':'GaussianNB Classification Report'}>,\n",
<<<<<<< HEAD
       "                     cmap=<matplotlib.colors.ListedColormap object at 0x0000020984839E80>,\n",
       "                     estimator=GaussianNB(), is_fitted=False)"
      ]
     },
     "execution_count": 51,
=======
       "                     cmap=<matplotlib.colors.ListedColormap object at 0x0000014453068EE0>,\n",
       "                     estimator=GaussianNB(), is_fitted=False)"
      ]
     },
     "execution_count": 148,
>>>>>>> 56d0d7259c7ef232fd69480aedcd055d1f658694
     "metadata": {},
     "output_type": "execute_result"
    }
   ],
   "source": [
    "classification_report(GaussianNB(), X_train, y_train, X_test, y_test,scoring='f1_macro', is_fitted=False)"
   ]
  },
  {
   "cell_type": "markdown",
   "id": "9b092260",
   "metadata": {},
   "source": [
    " ## K nearest neighbors classifier"
   ]
  },
  {
   "cell_type": "code",
   "execution_count": 43,
   "id": "01a1be2d",
   "metadata": {},
   "outputs": [
    {
     "data": {
      "text/plain": [
       "{'fit_time': array([0.24944639, 0.2951622 , 0.26628685, 0.27929997, 0.28427958]),\n",
       " 'score_time': array([0.68023252, 0.77571726, 0.7707231 , 0.76357794, 0.76521754]),\n",
       " 'test_score': array([0.51799217, 0.52045937, 0.52370382, 0.51797609, 0.51646654])}"
      ]
     },
     "execution_count": 43,
     "metadata": {},
     "output_type": "execute_result"
    }
   ],
   "source": [
    "cross_validate(KNeighborsClassifier(n_neighbors=5), X_train, y_train,\n",
    "               scoring='f1_macro')"
   ]
  },
  {
   "cell_type": "code",
   "execution_count": 42,
   "id": "6384dc55",
   "metadata": {},
   "outputs": [
    {
     "data": {
      "image/png": "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\n",
      "text/plain": [
       "<Figure size 576x396 with 1 Axes>"
      ]
     },
     "metadata": {},
     "output_type": "display_data"
    },
    {
     "data": {
      "text/plain": [
       "ConfusionMatrix(ax=<AxesSubplot:title={'center':'KNeighborsClassifier Confusion Matrix'}, xlabel='Predicted Class', ylabel='True Class'>,\n",
       "                cmap=<matplotlib.colors.ListedColormap object at 0x00000144666FD970>,\n",
       "                estimator=KNeighborsClassifier(), is_fitted=False)"
      ]
     },
     "execution_count": 42,
     "metadata": {},
     "output_type": "execute_result"
    }
   ],
   "source": [
    "confusion_matrix(KNeighborsClassifier(n_neighbors=5), X_train, y_train, X_test, y_test, is_fitted=False)"
   ]
  },
  {
   "cell_type": "code",
   "execution_count": 44,
   "id": "fdebe53d",
   "metadata": {},
   "outputs": [
    {
     "data": {
      "image/png": "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\n",
      "text/plain": [
       "<Figure size 576x396 with 2 Axes>"
      ]
     },
     "metadata": {},
     "output_type": "display_data"
    },
    {
     "data": {
      "text/plain": [
       "ClassificationReport(ax=<AxesSubplot:title={'center':'KNeighborsClassifier Classification Report'}>,\n",
       "                     cmap=<matplotlib.colors.ListedColormap object at 0x000001446671A2E0>,\n",
       "                     estimator=KNeighborsClassifier(), is_fitted=False)"
      ]
     },
     "execution_count": 44,
     "metadata": {},
     "output_type": "execute_result"
    }
   ],
   "source": [
    "classification_report(KNeighborsClassifier(n_neighbors=5), X_train, y_train, X_test, y_test,scoring='f1_macro', is_fitted=False)"
   ]
  },
  {
   "cell_type": "markdown",
   "id": "5c78e6cc",
   "metadata": {},
   "source": [
    "## Random Forest Classifier"
   ]
  },
  {
   "cell_type": "code",
<<<<<<< HEAD
   "execution_count": 52,
=======
   "execution_count": 103,
>>>>>>> 56d0d7259c7ef232fd69480aedcd055d1f658694
   "id": "b7cdc138",
   "metadata": {},
   "outputs": [
    {
     "data": {
      "text/plain": [
<<<<<<< HEAD
       "{'fit_time': array([3.2253747 , 3.3063345 , 3.38654351, 3.0458293 , 3.09238386]),\n",
       " 'score_time': array([0.17741942, 0.15946341, 0.15656996, 0.15765882, 0.15946651]),\n",
       " 'test_score': array([0.51259529, 0.511498  , 0.49689449, 0.48789671, 0.5174663 ])}"
      ]
     },
     "execution_count": 52,
=======
       "{'fit_time': array([3.08541608, 3.12624192, 3.11952758, 3.01153827, 3.01400566]),\n",
       " 'score_time': array([0.16141438, 0.16661215, 0.16792417, 0.16644287, 0.16644382]),\n",
       " 'test_score': array([0.56393111, 0.55235017, 0.54616903, 0.54038386, 0.56011155])}"
      ]
     },
     "execution_count": 103,
>>>>>>> 56d0d7259c7ef232fd69480aedcd055d1f658694
     "metadata": {},
     "output_type": "execute_result"
    }
   ],
   "source": [
    "cross_validate(RandomForestClassifier(max_depth=3, random_state=0), X_train, y_train,\n",
    "               scoring='f1_macro')"
   ]
  },
  {
   "cell_type": "code",
<<<<<<< HEAD
   "execution_count": 53,
=======
   "execution_count": 104,
>>>>>>> 56d0d7259c7ef232fd69480aedcd055d1f658694
   "id": "771a82f4",
   "metadata": {},
   "outputs": [
    {
     "data": {
<<<<<<< HEAD
      "image/png": "iVBORw0KGgoAAAANSUhEUgAAAggAAAGACAYAAADI95pLAAAAOXRFWHRTb2Z0d2FyZQBNYXRwbG90bGliIHZlcnNpb24zLjMuNCwgaHR0cHM6Ly9tYXRwbG90bGliLm9yZy8QVMy6AAAACXBIWXMAAAsTAAALEwEAmpwYAAA6I0lEQVR4nO3de3zPdf/H8ef3sAObjQnJzGFM12XOurqkVUiIMUmjWuVKSlFKl0NFQggddHBMJUn6SYlKcrrWJQqXYWKOLXNmx+9mx+/798cu3+z6OJZtrMf9dnO7fT+n9/f12b72fX7f7/fn87UZY4wAAADOYC/tAgAAwJWHgAAAACwICAAAwIKAAAAALAgIAADAgoAAAAAsCAhlSIMGDRQZGalu3bopKipKHTp0UI8ePbRt27bL9hzLli1TTEzMZWsvJiZGbdu2Vbdu3Yr8K24ZGRl64IEHiqxbvXq1YmJi1K1bN3Xu3FmDBg3S4cOHJUmLFi3So48+ellrOHr0qHr16iVJcrlc6tWrlzp37qwlS5Z41v8ROTk5euONNxQVFaVu3bopMjJSM2fO1Okrm2NiYrRs2bI//Dxnmj9/vmbOnClJ+ve//602bdro7rvv1scff+xZ/3v84x//UHJysiTpkUce0Z49ey5LvYsWLVKLFi08r7uuXbuqbdu2GjJkiHJyci7Lc1zI//3f/2nevHkl8lzApXCWdgG4vObMmaOgoCDP8uzZszV27FgtWLCgFKs6vyFDhqhjx44l+pxpaWlFgtOSJUs0bdo0TZs2TbVq1ZIxRjNnztQDDzygr776qlhqqFatmj755BNJ0o4dO3Ty5El99913kqTIyMg/1LYxRo8//rjq1KmjBQsWyMfHRykpKXr00UeVlZWlQYMG/dHyz6p3796ex1999ZV69uypxx9//A+3u3btWs/jWbNm/eH2ztSyZUvNmDHDs5yTk6PevXvr888/vyxB7UI2bdqk+vXrF/vzAJeKgFCG5efn6/DhwwoMDJQknThxQiNHjtTJkyd1/Phx1ahRQ2+88YYqV66stm3bqnv37lq3bp0OHz6sbt26ed5EpkyZoiVLlqhixYqqVauWp/2MjAy99NJL2rlzp2w2myIiIvTMM8/I6XSqUaNG6tOnj3744QdlZWVpwIABWrZsmXbt2qWqVatq+vTpKl++/HnrP3LkiEaNGqWDBw/KGKOoqCj17dtXSUlJuu+++xQaGqqDBw9q7ty5SkpK0uTJk3Xq1CnZ7XYNGDBAbdq00fHjxzV06FClpKRIkm699VYNGjRIw4cPV3Z2trp166ZFixbp9ddf15gxYzznZ7PZ1K9fP1WvXl25ublF6oqLi9OkSZOUm5ur48eP66abbtK4ceOUn5+vMWPG6D//+Y+8vLwUHBys8ePHy8fH56zrU1JSFBkZqc8++0zPPfecjh49qm7duum1117T3Xffrc2bN0uSpk2bpuXLl8vtdqtGjRp68cUXVa1aNcXExCgwMFD79u1T7969i/TsbNiwQfv27dPMmTPlcDgkSZUqVdLEiRN18OBBy896+vTpWrlypbKzs3Xq1CkNHTpU7du31969e/X8888rNzdXxhjdfffduu+++865/q233lJKSoquu+46rVy5Uj4+PsrIyFD58uWVkpKikSNHav/+/Ro5cqSSk5Nlt9vVv39/3XnnnVq9erVmzJih3NxcJScnKyoqyvO7kqQHH3xQM2fO1H333acpU6aoUaNGWrBggebOnSu73a5rrrlGI0aMUJ06dTRs2DD5+/srISFBR44cUYMGDfTKK6/Iz8/vgv9vUlNT5XK5PP9vjh49qtGjR+vw4cPKy8tT586d9dhjjykpKUkxMTGKiIjQli1bZIzRyJEj1bJlS+Xl5WnChAlat26dHA6HGjdurOHDh8vf319t27ZV48aNlZCQoGeeeUarVq3S2rVr5evrq/vuu++C9QElxqDMCAsLM126dDFdunQxrVu3Nm3btjVjxowxJ06cMMYY88EHH5gZM2YYY4xxu92mb9++Zvbs2cYYY9q0aWMmTJhgjDHmyJEjplGjRubXX3813333nbnzzjtNRkaGycvLM/369TP333+/McaYIUOGmDFjxhi3221ycnLMP/7xD0/7YWFhZs6cOcYYY2bMmGGaNWtmjhw5YgoKCkz37t3Nl19+aYwx5v777zdt2rQxXbt29fxbs2aNMcaY++67z7z33nvGGGPS09NNZGSkWbp0qTlw4IAJCwszGzZsMMYYk5qaau644w5z4MABT/233HKLOXjwoHn77bfNiBEjjDHGZGZmmkGDBpn09HRz4MAB07RpU2OMMcnJySYsLMxkZWWd82f72WefmX79+hljjHn66afN+vXrjTHGuFwuc+ONN5pt27aZDRs2mI4dOxq3222MMWbixIlm06ZN51x/Zg3r1683nTt3NsaYIus///xzM2jQIJOXl2eMMeaTTz4xffv29fzshg8fftZ6Z8+ebZ588slzns/p47/55huTlJRkYmJizKlTp4wxxixdutR06dLFGGPM8OHDPb/TY8eOmUGDBpmCgoJzrn/zzTfNSy+9ZIwxZujQoebdd981xpgi66OiosxHH31kjDHm0KFDpl27diY9Pd3cf//9Zv/+/caYwt/hX/7yF3Py5EljTOHr6fTjNm3amK1bt5offvjB3H777Z71n332menUqZNxu91m6NChJjo62uTk5Jjc3FwTFRVlFi5ceNbfa/PmzU3Xrl1Nhw4dzI033miio6PN/PnzPfvExMSYlStXGmOMyc7ONjExMearr77yvA5Pv5bXrFljWrdubXJzc82UKVPMgAEDTG5urikoKDDDhg3zvA7btGlj3n77bU/7Z/6cgCsJPQhlzOkhhu3bt6tfv3668cYbVblyZUmFn8A2btyo999/X7/88ot2796tJk2aeI5t166dpMKu78qVKystLU3r1q1T+/bt5e/vL0nq0aOH5s6dK0mKjY3V/PnzZbPZ5O3trV69emnOnDnq16+fJKlDhw6SpJCQEIWFhalatWqSpODgYKWlpXme92xDDFlZWfrPf/6j9957T5JUoUIF3XXXXYqNjVWTJk3kdDrVtGlTSYWf6I8fP64nnnjCc7zNZlNCQoIiIiLUr18/HT58WDfddJMGDx6sChUqFHl+u71wKo7b7b6on/GECRMUGxur6dOna9++fcrJyVFWVpauv/56ORwO9ezZUzfffLM6dOigxo0bKz09/azrk5KSLvhcq1ev1rZt29SjRw9PjadOnfJsb9my5VmPs9vtnrkGF1KjRg1NnDhRS5YsUWJiorZs2aLMzExJUvv27TV06FBt3bpVrVq10gsvvCC73X7O9ReSmpqqnTt3qmfPnpKk6tWra8WKFZIKezHWrFmjpUuXau/evTLGFDnX//X999/rzjvv9Ayp3XXXXXr55Zc9P9eIiAh5e3tLksLCwor8zs90eojB7XZr6tSpWrp0qef1mJWVpQ0bNigtLU1TpkzxrNu5c6caN26swMBAz3DQrbfeKofDoYSEBMXGxurpp5+Wl5eXpML5Hme+Ps/1ewOuJExSLKMaNmyo4cOHa9iwYZ4/mJMmTdKUKVNUqVIlRUdHq3Xr1kXeRHx8fDyPbTabZ9uZ+5zurpYK36xsNluR5fz8fM/y6T+O//v4Yrjdbssb3Jnte3t7y+kszLcFBQUKDQ3V4sWLPf8WLFigm2++WY0bN9bKlSsVHR2tgwcPqmfPnoqPjy/SbmBgoGrXrq0tW7ZY6njqqae0c+fOIuvuv/9+/etf/1LdunX1xBNPqGrVqjLGKCAgQIsXL9bQoUPlcDg0aNAgzZs375zrL/bn0LdvX895ffbZZ5o/f75n+7mGaZo0aaJt27apoKCgyPqtW7fqn//8Z5F127dvV3R0tFwul1q3bq2+fft6trVp00bffvutOnXqpB07digyMlJHjhw55/oLOf07O/N1s2/fPmVlZal79+7avn27/vrXv2rIkCFyOp3nDTlnC3TGGM9rxNfX17P+zNfzuZwemqpRo4aGDRvmeQ5jjD755JMir63TE1bP/P9wen+Hw3HW/xt5eXme5QsNrwFXAgJCGdalSxc1btxY48ePl1Q4q/zBBx9UVFSUKleurB9++MHyBvK/brnlFi1btkzp6elyu91avHixZ9vNN9+sjz76SMYY5ebm6tNPP9VNN910WWr39/dXkyZNPG+kGRkZ+uKLL87aftOmTZWYmKgNGzZIKpzw16FDBx09elSTJ0/W1KlTdfvtt+v5559XvXr1tHv3bjmdThUUFHjeNAYMGKCXX35ZiYmJkgpDx9SpU7Vz507VrVvX81zp6enatm2bnn32Wd1xxx06cuSIfv31V7ndbq1evVoPPfSQmjVrpoEDByoqKkrx8fHnXH8xbr75Zi1cuFAul0tS4XyQIUOGXPC4Zs2aqW7duho/frxnNv6JEyc0duxYBQcHF9l3w4YNCg8PV58+ffS3v/1NK1eu9LwuBg8erK+//lqdO3fWiy++KH9/f/3666/nXH8h/v7+atiwob744gtJ0uHDh9W7d2/t2rVLLpdLgwYNUtu2bfXjjz8qNzfXEwIcDkeR8CkV9hB8/fXXnqsbPvvsM8s8md/jxRdf1Nq1a7VixQr5+/uradOmev/99yUV/v579+6tlStXSpKSk5MVGxsrSVq1apW8vLwUFhamiIgIzZ8/X3l5eXK73Zo3b55at2591uc727kBVwKGGMq4ESNGqGvXrvr+++/1xBNPaOLEiZoyZYq8vLzUvHnzC/5Rv/XWW5WQkKAePXooICBA119/vWfC3wsvvKCxY8cqMjJSeXl5ioiI0GOPPXbZap88ebJGjx6tRYsWKTc3V5GRkbrrrrssk+yCgoL05ptvauLEicrJyZExRhMnTlRwcLAefPBBDRs2TF26dJG3t7caNGigzp07eyaOde7cWfPmzVNkZKSMMXrmmWeUn5+vnJwcNWzYUHPmzPF0U0tSQECA+vXrp+7du6t8+fKqVq2amjdvrsTERPXs2VOxsbHq0qWLypcvr8DAQI0ZM0bVq1c/6/qL0bNnTx09elT33HOPbDabqlevrgkTJlzUsW+++aZef/113XXXXZ5PtVFRUXr44YeL7NelSxctX75cnTp1ktvtVps2bZSWliaXy6XHH39czz//vBYsWCCHw6Hbb79dN9xwgypXrnzW9T/++OMF63r11Vf10ksvae7cubLZbHr55ZfVuHFj3XbbberUqZO8vb0VFhamevXqKTExUSEhIerYsaNiYmL01ltvedpp3bq1HnroIT344INyu90KCgrSjBkzLmqo43xCQkL0yCOPaPz48YqIiNDkyZM1ZswYRUZGKjc3V126dFHXrl2VlJQkHx8fLV68WJMnT5avr6/eeecdORwO9e/fX6+88oqioqKUn5+vxo0ba8SIEWd9vltuucXzO73cl9ICf4TNXOxAJQDAIykpSZGRkZ6rTYCyhiEGAABgQQ8CAACwoAcBAIAyYsuWLWe9Hf6qVavUo0cPRUdH69NPP72otpikCABAGTBr1ix9+eWXKleuXJH1eXl5Gj9+vBYuXKhy5cqpd+/eatOmjapUqXLe9i5rQHC73crMzJSXl1eRa4ABALgSGWOUl5cnPz+/P3wFzMXIz8+/4OXl5+JwODz3EjmbkJAQvfXWW5ZLoffu3auQkBDP7cNbtGihjRs3qlOnTud9vssaEDIzM7Vr167L2SQAAMUuLCxMFSpUKNbnyM/P14bYtfIO9P9dxzscDoWHh58zJHTo0OGsd2h1uVxFzs3Pz89zb5XzuawB4fTd8kLfGyPvjJTL2TTKOMes5YUPUj8r3UJwdarYQ2b/xd0fAjhTXo1ntGvXrku+2+vvUVBQIO9Af619+CVlHzt5Scf6Vq2s1rNfVEFBwXl7Ec7G39/fc/t0qfDD/MWEocsaEE4PK3hnpMgn7cTlbBplnOP0bZ698s6/I3A2Pj4y9qzSrgJXIdt/b4RWksPi2cdO6tThknuPDA0NVWJiolJTU1W+fHlt3LjRcsO0s2GSIgAAZdCSJUuUlZWl6OhoDRs2TA8//LCMMerRo4fny/POh4AAAEAZERwc7LmM8fQ3jUpS27Zt1bZt20tqi/sgAAAACwICAACwICAAAAALAgIAALAgIAAAAAsCAgAAsCAgAAAACwICAACwICAAAAALAgIAALAgIAAAAAsCAgAAsCAgAAAACwICAACwICAAAAALAgIAALAgIAAAAAsCAgAAsCAgAAAACwICAACwICAAAAALAgIAALAgIAAAAAsCAgAAsCAgAAAACwICAACwICAAAAALAgIAALAgIAAAAAsCAgAAsHCWdgEAAPyZ3CDJXOIxtuIo5ALoQQAAABYEBAAAYEFAAAAAFgQEAABgQUAAAAAWBAQAAGBBQAAAABYEBAAAYEFAAAAAFgQEAABgQUAAAAAWBAQAAGBBQAAAABYEBAAAYEFAAAAAFgQEAABgQUAAAAAWBAQAAGBBQAAAABYEBAAAYEFAAAAAFgQEAABgQUAAAAAWBAQAAGBBQAAAoAxwu90aOXKkoqOjFRMTo8TExCLbv/zyS3Xv3l09evTQxx9/fMH2nMVVKAAAKDkrVqxQbm6uFixYoLi4OE2YMEHTpk3zbJ84caKWLl2q8uXLq3PnzurcubMCAwPP2R4BAQCAMmDTpk2KiIiQJDVt2lTx8fFFtjdo0EAZGRlyOp0yxshms523PQICAABlgMvlkr+/v2fZ4XAoPz9fTmfhW339+vXVo0cPlStXTu3bt1dAQMB522MOAgAAZYC/v78yMzM9y2632xMOdu7cqTVr1mjlypVatWqVkpOT9c0335y3PQICAABlQPPmzRUbGytJiouLU1hYmGdbhQoV5OvrKx8fHzkcDgUFBSk9Pf287THEAABAGdC+fXutXbtWvXr1kjFG48aN05IlS5SVlaXo6GhFR0fr3nvvlZeXl0JCQtS9e/fztkdAAACgDLDb7Ro9enSRdaGhoZ7HvXv3Vu/evS++vctWGQAAKDMICAAAwIIhBgAASlDdatly2LIu6ZiCqtk6UUz1nAs9CAAAwIKAAAAALAgIAADAgjkIv9NXRzP0ws/HlOM2ahTgo1lNr1OAl6PIPs/GH9Fnh9MV9N/1Yf4+mt8yWJI0bX+y3vs1VacK3GoeWE6zmlaXj8Ou3a4cPRJ3WCdz8+XntOuDZjV0fQWfEj8/FJ+vlsdp+JiFysnJV+OGwZo95WEFBJSz7GeM0UNPvKtGfw3WswM6SZKSU1zq/+yHitv2q/z8fNSn980a2K+9JGnJss168Il3FRIc5Gnj+6XPqUIFa9u4en21Zq+eezVWObn5atygqt4d11EB/kX/Rny0eLsmz/5JNptN5cs5NeX5dmrZqLoKCtwaMHqFYjcckCR1urWuJg25TTabTavXJ+rZV1YrP9+ockVfvf58OzW5vmppnCKuEBfVg7BlyxbFxMQUdy1XjeM5+eq7+ZA+vSFYP7erpzp+3npuxzHLfutSTmlei2Btui1Um24L9YSDzw+l6539yfq2VS1tbROqU2633tiXLEmK+c9BPVq7kra1racXG1RR9MYkGWNK9PxQfI6fSFefgbP12QcDlPDTBNWtVVXDRv+fZb8dCYfULmqiFi7ZUGT908/Pl7+fj35eN07rvx2hb1Zu09Jv4yRJP/y0R88+0VFx/xrj+Uc4KFuOJ2fpH8O/0cK3umnnt4+oTs1ADZv8ryL7JOw7qSGT1uibd3tq8+KH9Hz/Vuox8AtJ0tzF27Vrf7K2LumjuMUPKfanA1q4LEFpGTnqMfALTRzSRluW9NHUUXco+qnFysnNL4WzxJXiggFh1qxZeuGFF5STk1MS9VwVvjueqZYVy6n+f1P7Y7Ur6eOktCJv5DkFbsWlZWvynpNqunqvem44oF+z8iRJc5PS9HRoZQV5O2S32TS1cXXdHxyog6fylODKVXSNwi/Q6FStglz5bm1Oyy75k0SxWL46Xjc0q6P6oddKkvr/o43mLVxnCYHvzF6pvjG3qGfXG4qs37TlF8Xcc5McDru8vZ3q3L6xFn5ZGCJ+2LBHq77foSa3jFBE53GK/SGhZE4KJWb5v/frhkbXqn7twl6i/r2b6eMlPxd5/fh4OzVrbEdVr1r4pT0tw6/VkROZys0tUEGBUeapPOXkFignt0C5eQXy9XFq9y/JCqzgo3atakmSrg+trAB/H63bfKjkTxJXjAsGhJCQEL311lslUctV48CpPNUs5+VZDvb1Unq+Wxn5bs+6Q9n5anONn0ZfX0Wbb6urGyuV010/HZAxRrtdOTqWk6871yWq2eq9Gp1wXBW9HDpwKk/X+TplP+MrOGuUc+pgNim+rDhwMFk1a/w2BBB8XZDSM04pI6NoCHx7YozuvbuV5fgbW9TV3E9/UF5evlyubH22ZJMOH02TJFWu5K/H+rRR3L9Ga/yIu9X9gTeVdDC5eE8IJerAkQwFX1vBsxx8bQWlu3KVkZnrWVc7OFCdbyu8e54xRoPHr1bXtvXk7e3QQ3eFq1KAr4Jvmarrbn5H9WpVUmTbegqrE6TMrDwt//d+SdKGrYe1fc8JHT7uKtkTxBXlggGhQ4cOnm+DQiG3MTrbt2g7znhjr+PnraV/D1F4gK9sNpsGh1bW3qxc/ZKVpzwjrTieqU9aBuvHW+sqOa9AI3Yek1uytGuMZD//V3bjKuJ2G9nO8upxOC5uvvCrY3rJZrOp2W0vKirmTbW/raG8vQvnuCz6cKDu7nqDbDabbv57mG76Wz19t2b7Za0fpcvtNrLZzvL6OcsficysXEU/9aX2/JqiWWM7SpJeenutqgSV05G1A3Qg9nElp57Sq+/9pAB/H33+TneNn7FeTbu+rw8Xb1fbv4fI+3/mVeHPhasYfoeQcl46lJPnWT6YnadKXnb5OX/7cW5Ny9ZHB1KLHGeM5GW3qbqvU92rByjAyyFvu033BgdqXXKWQsp56XB2fpHuwsM5+Qr29RLKhpDgyjp0JNWzfPBwiipV9JOf38VNRE3PyNbEUfcofu3LWvH5EBljVK9ONaWmZWrca0uKvHaMkbz4A1+mhFQP0OFjv32qP3g0Q5UCfeVX3rvIfr8eSlfrXvPkcNi06sNeqhjgK0n6/Lvd6tOjkby9HQqs4KMHuodrzY+/yu028vfz1uq5vRX3ZR+9NeJ27folRfVqVSrR88OVhYDwO7Sv6q8fk09pt6twXsaMX1LU9YxuP6nwU/+g+CPa/9+uv+m/pKhRgI+Cy3mpR/UA/d+hNJ0qcMsYoy8PZ+iGiuUUXM5L9fy89emhwq/g/PaYS3ZJjQK4iqGsuKNNuNZv2qvde49Ikqa/v1rdOjW76OOnv79aI8d/Lkk6eixN734Uq3t7/F0V/MvpndkrtWjJRknS5q2J+uk/+9SxXaPLfxIoNXfcXFvrtxzS7l8Kh46mfxKnbu3qFdknw5WjNjHz1f2OMM1/vavKnfEBo/lfq+nTbwrnpuTlFWjJqj26scl1stmkzo8s1MZthyVJC77eIV9vpxo3qFJCZ4YrEWMHv0NVH6febXadojcmKddtVNfPWx80q6GNqaf0aNwhbbotVOEBvpoSfq2ifjqgAmNUw9dL81oUXsXQv04lJecV6G//2qcCIzWr6KtJDatLkj5qUUOPbjmscbtOyNdu0yctg4vMScDVrWqVAL3/1sO6u887ys3NV2idqvpw6iPauHm/+g56T3H/GnPe44cP6qyY/jMV3vp5GWM0elh33dC8riRp8UdPaeCwj/TiK1/I6bRrwbuP65rKFc7bHq4uVSv76b3xndTzycXKzStQaEhFzXmlszZuO6xHXvhWmxc/pLfnbVbioXR98d1uffHdbs+xKz6I1mvD22rgmO/0l47vyuGwqW2rWhrS90bZbDbNe7WL+o34Vrl5BapexV+fT+1+1uEM/HnYzGW8hi4nJ0fx8fH6y5Rn5JNW0neNxtXMsfi/Y+XJc0q3EFydgh6U2TW0tKvAVSi31mjFx8crPDxcPj7F21t7+j3ymr795DhmvTT+fAqqVtWJd2eWSJ2nMcQAAAAsCAgAAMCCgAAAACwICAAAwIKAAAAALAgIAADAgoAAAAAsCAgAAMCCgAAAACwICAAAwIKAAAAALAgIAADAgoAAAAAsCAgAAMCCgAAAACwICAAAwIKAAAAALAgIAADAgoAAAAAsCAgAAMCCgAAAACwICAAAwMJZ2gUAAPBnUqWRv3zSsi/pmJxAf50opnrOhR4EAABgQUAAAAAWBAQAAGBBQAAAABYEBAAAYEFAAAAAFgQEAABgQUAAAAAWBAQAAGBBQAAAABYEBAAAYEFAAAAAFgQEAABgQUAAAAAWBAQAAGBBQAAAABbO0i4AAAD8cW63W6NGjVJCQoK8vb01duxY1apVy7N969atmjBhgowxqlKliiZNmiQfH59ztkcPAgAAZcCKFSuUm5urBQsWaPDgwZowYYJnmzFGI0aM0Pjx4zV//nxFRETo4MGD522PHgQAAMqATZs2KSIiQpLUtGlTxcfHe7bt379fFStW1Jw5c7Rr1y7deuutqlu37nnbowcBAIAywOVyyd/f37PscDiUn58vSUpJSdHmzZt177336v3339f69eu1bt2687ZHQAAAoAzw9/dXZmamZ9ntdsvpLBwoqFixomrVqqV69erJy8tLERERRXoYzoaAAABAGdC8eXPFxsZKkuLi4hQWFubZVrNmTWVmZioxMVGStHHjRtWvX/+87TEHAQCAMqB9+/Zau3atevXqJWOMxo0bpyVLligrK0vR0dF6+eWXNXjwYBlj1KxZM912223nbY+AAABAGWC32zV69Ogi60JDQz2PW7VqpYULF158e5etMgAAUGYQEAAAgAUBAQAAWBAQAACABQEBAABYEBAAAIAFAQEAAFgQEAAAgAUBAQAAWBAQAACABbdaBgCgBNlurChbjvvSjvGpWDzFnAc9CAAAwIKAAAAALAgIAADAgoAAAAAsCAgAAMCCgAAAACwICAAAwIKAAAAALAgIAADAgoAAAAAsCAgAAMCCgAAAACwICAAAwIKAAAAALAgIAADAwlkcjTpmLZfDx6c4mkZZF/RgaVeAq5Qt7JXSLgFXo5yc0q7gikUPAgAAsCiWHoSCR+5QQdqJ4mgaZZRj8XZJ0ipbg1KuBFejtiZBSTVqlnYZuApV2bentEu4YtGDAAAALAgIAADAgoAAAAAsCAgAAMCCgAAAACwICAAAwIKAAAAALAgIAADAgoAAAAAsCAgAAMCCgAAAACwICAAAwIKAAAAALAgIAADAgoAAAAAsCAgAAMDCWdoFAADwZ2KrEyBbgfvSjnEEFFM150YPAgAAsCAgAAAACwICAACwICAAAAALAgIAALAgIAAAAAsCAgAAsCAgAAAACwICAACwICAAAFAGuN1ujRw5UtHR0YqJiVFiYuJZ9xsxYoQmT558wfYICAAAlAErVqxQbm6uFixYoMGDB2vChAmWfT755BPt2rXrotojIAAAUAZs2rRJERERkqSmTZsqPj6+yPbNmzdry5Ytio6Ovqj2CAgAAJQBLpdL/v7+nmWHw6H8/HxJ0rFjx/T2229r5MiRF90e3+YIAEAZ4O/vr8zMTM+y2+2W01n4Nr9s2TKlpKSoX79+On78uLKzs1W3bl3ddddd52yPgAAAQBnQvHlzrV69Wnfeeafi4uIUFhbm2fbAAw/ogQcekCQtWrRI+/btO284kAgIAACUCe3bt9fatWvVq1cvGWM0btw4LVmyRFlZWRc97+BMBAQAAMoAu92u0aNHF1kXGhpq2e9CPQee9i5LVQAAoEwhIAAAAAsCAgAAsCAgAAAACwICAACwICAAAAALAgIAALAgIAAAAAsCAgAAsCAgAAAACwICAACwICAAAAALAgIAALAgIAAAAAsCAgAAsCAgAAAACwICAACwcJZ2AQAA/KnUrSfZsy7tGHd5KbN4yjkXehAAAIAFAQEAAFgQEAAAgAUBAQAAWBAQAACABQEBAABYEBAAAIAFAQEAAFgQEAAAgAUBAQAAWBAQAACABQEBAABYEBAAAIAFAQEAAFgQEAAAgAUBAQAAWBAQAACABQEBAABYEBAAAIAFAQEAAFg4S7uAq9VXRzP0ws/HlOM2ahTgo1lNr1OAl6PIPs/GH9Fnh9MV9N/1Yf4+mt8yWJJUbVmCgn1/+/EPrneN7g0O1M8ZOXpsyyFl5rtlk00v/7WqOlT1L7kTQ7GrfOetCh0/WDYfb2VuTdCOh59TQUZmkX2uibpddV96UsbtVn5ymnY+8oJO7TsgSarR/15d1/du2cv5KmPTdu14+DmZ3DxVvO1G1X91qGxOp/JOpmr3oJfl2ppQGqeIYuTbrq0Chg2TzcdbeTt2KGXwP2VcriL7OK+/XpXGjJYtoIJU4FbK0GHK27ZNQTOny1m79m/71aypnPU/6mSff8jnplYKHDlCcjjlTk1R2oujlPfzjhI+O1xJLtiD4Ha7NXLkSEVHRysmJkaJiYklUdcV7XhOvvpuPqRPbwjWz+3qqY6ft57bccyy37qUU5rXIlibbgvVpttCPeEgwZWjIC+HZ/2m20J1b3CgJGnA1sPqE1JRm24L1axm1dV7Y5Ly3aZEzw/Fx+uaSvrL++O1rcdA/Xh9R53ad0ChE54tso/d10cNP5qkbXcN0IZmUTqxZJXqv/mCJKlK9/YKHni/Nt/eRz827Cx7OR+FPP2QHAH+arToLe3550T91KSrEvqPUsNPp8jm7VUap4liYg8KUqXXXlVyv346esttKkj8VYHPDS+yj83XV1U+/kgZ06bpWIdOSn9jioLeflOSlNzvMR27o6OO3dFRKf8cKnd6ulKff162ChVUedZMpY19Wcfa36HUYc8paPo0ydu7NE4TV4gLBoQVK1YoNzdXCxYs0ODBgzVhwoSSqOuK9t3xTLWsWE71/X0kSY/VrqSPk9JkzG9v5DkFbsWlZWvynpNqunqvem44oF+z8iRJ65JPyWGTbv33fjVbvVdjEo6r4L/HFhijlFy3JCkj3y1fu62Ezw7FKeiOm5W+YZtO7SkM2genzde190UW2cfmcEg2m5yBFSRJDn8/ubNzJEnXPhClX199T/kpaZIxSnjsRR2eu1jl69dWflqGUlatlyRlJexTQbpLga2aleDZobj53HqLcrdsUf7+XyRJrg/nqnz3qP/Z51blJyYqe9VqSVL28uVKfqx/0Ya8vBT0xmtKffElFRw6LGedOnJnZCjn32slSfl798pkuOTTonlxnxKuYBccYti0aZMiIiIkSU2bNlV8fHyxF3WlO3AqTzXL/fbJLNjXS+n5bmXkuz3DDIey89XmGj+Nvr6KGlbw0at7T+qunw5ow611lG+M2lXx07i/VFOeMYpc/6sCnHY9FVpZbzWqrvbrEjVl30kdy8nXxy2C5SQklBm+Na9VzoEjnuWcpCNyBlaQo4KfZ5ihIDNLCY+9qBY/fKK8k6myOeza1Lq3JKl8WG15V62sJt+8K5/rqir1+43aM2SSCjIy5fArr6D2rZX83VpVaNlIfg3ryad6lVI5TxQP53XXqeDQIc9yweHDsgcEyObv7xlmcNato4Ljx1Vp8iR5/fWvcqenKW3suCLt+PXupYKjR5W9bJkkKX/fPtnKl5fPLbcoJzZWXk2ayNkgTPaq1Uru5HDFuWAPgsvlkr//b2PgDodD+fn5xVrUlc5tjM72lu2w/ba2jp+3lv49ROEBvrLZbBocWll7s3L1S1ae+taqpCmNqsvPaVdFL4eeDq2sL45kKLvArXs3JWl20+uUeEeYVreurf5bD+vAqbySOzkUL7u9SE/TaabA7XnsFx6m2iOf0I9/vVNra0Tol5enK/yztyRJNi+ngtq3Vvw9T2lDyx7yCgpU6MtPqyAjU9uinlCt5x7VDXGLde0D3ZSyar3cubx2yhS7XTrbiGNBgeehzctLvm3bKnPePB27s7Nc732ga+bOKTJc4P9IX2VMedOzbFwunfxHXwUMHKCq330rv7t7KGftWikvtzjPBle4CwYEf39/ZWb+NoHK7XbL6fxzz20MKeelQzm//eE9mJ2nSl52+Tl/+3FuTcvWRwdSixxnjORlt+mjA6nampb923pJXjab4jNylFVg1OXawq7lvweV118r+OinlFPFej4oOdm/HpbPdVU9yz41qikvOVXurN9+x0Edblba2v94JiUmvTNP/uH15VW5knIOHdPxRctVkJEpk5enIx99qYBWTSWbTQWuTG1u84A2NO2m3U+OVfmw2p6hDJQNBQcPylHtt0/1jmuvlTslVebUb6+fgiNHlb97t3I3x0kqHGKQwyFnSIgkyathQ9kcDuWsW/9bwzabTFamjve8R8fad1DqiJFy1q2r/F9+KYnTwhXqggGhefPmio2NlSTFxcUpLCys2Iu60rWv6q8fk09pt6twXHjGLynq+t839dPsNmlQ/BHtzyxM4NN/SVGjAB8Fl/NSfEaORv133sGpArfe2Z+se2oEqJ6ft9LyCvRDcpYkaW9mrnZk5KhpoG/JniCKTfLyfyvw701Url4tSdJ1j/XSicUri+zj+s/PqnjrDfKqWlmSVCXqdp3an6S8kyk6vvBbVb2nk+y+Pp5tGRu2ScaoydezVKFFuCSp6j2d5M7O5SqGMib7X7Hybt5Mzjq1JUl+Mffr1PLlRfdZvVrOmiHyatRIkuR9442SMco/UBg4fVr9XTlrfyjasDG65sMP5dW4sSSpXNdImewcrmL4k7tgV0D79u21du1a9erVS8YYjRs37kKHlHlVfZx6t9l1it6YpFy3UV0/b33QrIY2pp7So3GHtOm2UIUH+GpK+LWK+umACoxRDV8vzWtReBXDyLAqenLbETVdvVd5RupxXQU9HFJRNptNC/9WU8/EH1F2gZHTZtP0JtUV6sdM4rIi73iydvQZrvCFb8ru7aVTe3/Vzw8MVYUW4br+3bHa0CxKKavX69dJs9V8zVy5c/OUn5ymbd0elyQlTf1YzqBA3bBpkeRwyPWf7do9uHDi8PZ7B+v6WWNk8/ZS7uHj2hr1eGmeKoqB++RJpTwzWEEzZ8jm5aX8xEQlP/W0vBo3VqXJE3Xsjo5yHz+uEw/3VaVxL8tWvrxMbo5O9u0n5RR+oHHWqaP8pCRL2ycHDFSlSa/I5uWlgmPHdPLhviV9erjC2MzZBkR/p5ycHMXHx+svU56RT9qJy9Us/gQci7dLklbZGpRyJbgatTUJSqpRs7TLwFWoyr49io+PV3h4uHx8fIr1uU6/Rzb0Wyofe9alHesur+2ZXUqkztO4kyIAALAgIAAAAAsCAgAAsCAgAAAACwICAACw+HPf8QgAgBJmq1RfNq9Lu8upLc9LyrzwfpcTPQgAAMCCgAAAACwYYgAAoAxwu90aNWqUEhIS5O3trbFjx6pWrVqe7UuXLtWcOXPkcDgUFhamUaNGyW4/dz8BPQgAAJQBK1asUG5urhYsWKDBgwdrwoQJnm3Z2dl644039OGHH+qTTz6Ry+XS6tWrz9seAQEAgDJg06ZNioiIkCQ1bdpU8fHxnm3e3t765JNPVK5cOUlSfn7+BW/ZTEAAAKAMcLlc8vf39yw7HA7l5+dLkux2u6655hpJ0ty5c5WVlaXWrVuftz3mIAAAUAb4+/srM/O3ayHdbrecTmeR5UmTJmn//v166623ZLPZztsePQgAAJQBzZs3V2xsrCQpLi5OYWFhRbaPHDlSOTk5mjp1qmeo4XzoQQAAoAxo37691q5dq169eskYo3HjxmnJkiXKyspSeHi4Fi5cqJYtW+rBBx+UJD3wwANq3779OdsjIAAAUAbY7XaNHj26yLrQ0FDP4507d15ae5elKgAAUKYQEAAAgAUBAQAAWBAQAACABQEBAABYEBAAAIAFAQEAAFgQEAAAgAUBAQAAWBAQAACABQEBAABYEBAAAIAFAQEAAFgQEAAAgAUBAQAAWBAQAACABQEBAABYEBAAAIAFAQEAAFgQEAAAgAUBAQAAWBAQAACABQEBAABYEBAAAICFs7QLAADgT6ViA8nnEo/JkZRUHMWcGz0IAADAgoAAAAAsCAgAAMCCgAAAACwICAAAwIKAAAAALAgIAADAgoAAAAAsCAgAAMCCgAAAACwICAAAwIKAAAAALAgIAADAgoAAAAAsCAgAAMCCgAAAACwICAAAwIKAAAAALAgIAADAgoAAAAAsCAgAAMCCgAAAACwICAAAwIKAAAAALAgIAADAgoAAAAAsCAgAAMCCgAAAACwICAAAwIKAAAAALAgIAACUAW63WyNHjlR0dLRiYmKUmJhYZPuqVavUo0cPRUdH69NPP71gewQEAADKgBUrVig3N1cLFizQ4MGDNWHCBM+2vLw8jR8/Xu+9957mzp2rBQsW6Pjx4+dtz3k5izPGSJIK3lmqfG/vy9k0yrj8nBxJUuvsraVcCa5GOTk5qrJvT2mXgatQbm6upN/ev0pCXl7xHLNp0yZFRERIkpo2bar4+HjPtr179yokJESBgYGSpBYtWmjjxo3q1KnTOdu7rAEh779nsGvXrsvZLAAAxSovL0++vr7F+hwOh0MOh0MJCQV/6Phzcblc8vf3L7J/fn6+nE6nXC6XKlSo4Nnm5+cnl8t13ue7rAHBz89PYWFh8vLyks1mu5xNAwBw2RljlJeXJz8/v2J/LqfTqfDwcBUU/P6A4HSe+23b399fmZmZnmW32+3Z/3+3ZWZmFgkMZ633d1V5Dna7/YJPCADAlaS4ew7O5HQ6z/sm/0c0b95cq1ev1p133qm4uDiFhYV5toWGhioxMVGpqakqX768Nm7cqIcffvi87dlMSQ68AACAYuF2uzVq1Cjt2rVLxhiNGzdOP//8s7KyshQdHa1Vq1bpnXfekTFGPXr00H333Xfe9ggIAADAgsscAQCABQEBAABYEBAAAIAFAQG4Su3Zs0f5+fmlXQaucG63u7RLwFWKgHCF+b3Xx+LP5ZtvvtG0adO0fft2QgLO6v3331daWprsdjshAb8LAeEK4na75XA4ZIzRli1bdOTIkdIuCVcYY4xef/11tWvXTo0bN9bixYsJCbBwuVxavny5pk+frtTUVEICfhcCwhWioKBAdrtdxhg9+eSTmjBhgmbNmqUVK1aUdmm4gthsNiUkJGjw4MHq3bu3QkJC9MUXXxASIKnwQ8bs2bO1YcMG5eTkyOl06tVXXyUk4HchIFwhTvcczJ49Wy1atNAHH3ygBg0aKC4uTt9++21pl4crwOnvOpk+fboqVKigJ598Uvfee69q1aqlJUuWKC4ujiGqP7mpU6dqy5YtatasmXr16qX7779fQUFBeu211wgJuGQEhFJ25n/WjRs3asGCBfLx8ZGPj4/atWun6tWra9OmTTp58mQpVonS5na75eXlpeTkZCUlJWncuHGqVauWBg4cqHvvvVdVqlTRypUr6UX4k4uMjNQvv/yiYcOGqWHDhqpWrZq6d++uKlWqaOzYsZ45CcDFKJ4bQuOiFBQUeHoOEhISFBYWpqFDh+rjjz9W/fr11bJlS3Xq1Ek5OTmqXLlyaZeLUmKMkd1u17FjxzRw4EDVqVNHubm5eu211zRhwgQ99NBD+uCDD5SVlSUfH5/SLhelqGbNmnI6ndqzZ4+Sk5MlSbVq1dKdd96p7777zvPVxsDF4FbLpcztduvRRx9VUFCQ4uLiNHz4cKWkpGj+/Pl6+umn1apVq9IuEVeAjIwMPf30054hhRdeeEFhYWF68cUXNWXKFPXq1UvVq1cv7TJxBUhOTtaBAwc0fvx49enTRx06dJBUOETl5eVVytXhakJAKAUHDhxQ9erV5XQ6NX78eNntdg0dOlQbNmzQ+PHjNWnSJO3YsUM1a9ZUkyZNSrtclJLTPUxS4az0r7/+WnXq1NGiRYsUERGhDz74QCEhIZo8eXIpV4orUWxsrCZMmKDBgwerXbt2pV0OrkIMMZSwdevWyeVyqWbNmpKk6tWre1L9DTfcoLZt22rbtm2KiooqxSpR2k5f8nr06FGtWbNGISEhatCggb7//nv16NFDbrdbYWFh6tevX2mXiivULbfcIi8vL8/fGuBSERBK2Okhgzlz5qhevXoqX768Dh48qBUrViggIEDLly/XqFGjSrdIlDq73a7jx49ryJAhCgsLU1hYmJo0aaJly5bpyy+/1A8//KAZM2YoJCSktEvFFYwhSvwRDDGUkDO7i6XCy5HS09N18803a/v27crKytKOHTv04IMPqnXr1qVYKUqb2+2W3W7XjBkzlJqaqqFDh0qSfvrpJ23YsEHNmzdXzZo1FRwcXMqVAijL6EEoAacnB7ndbo0ZM0YNGzbU448/rg8++EAbNmzQjTfeqJtuuknp6ekKCAgo7XJRSk4Hg9OZvWbNmrLb7crKylL58uW1adMmVa9enU+FAEoEAaEEnJ5jMHDgQN1www2qWrWqli9frtatW+urr77S0qVLFR4ergoVKpRypSgtp8PBsWPHNG/ePDVo0EDZ2dn68ccf5eXlpaysLK1fv57hJwAlhoBQjL744gudOnVKvXv31pEjR+RyuRQREaFJkyapZs2a+uqrrzRx4kSdPHmSnoM/sdPhIDk5WY888oj69OmjZcuWqVatWuratavcbrdcLpdeeukl1alTp7TLBfAnQUAoRqevRHjttdf0zDPPqEmTJvrpp5/02GOPqV69enr88ceVnJys6667rnQLRak5HQ5SU1OVkJCgu+++W1FRUVqwYIGaNGmiKlWqMKQAoFRwz81i8L/3w9+9e7cef/xxPfPMM2rcuLFWrlyp3r176+GHH+bmNn9ydrtdKSkp6tevn7Zv366ZM2cqMjJSU6dOVd26dTVv3jxlZmaKucQASho9CJfZ6evX3W63Xn75ZQUEBGjKlCl67rnn1K9fP82cOVN2u10dO3ZUw4YNS7tclDK3261ly5YpPz9ft99+uwIDAzVt2jStWLFC8+bN0+TJk+Xn51faZQL4E+Iyx2LSv39/1a9fX61atVKrVq2UnZ2toUOHKjk5WXPnzi3t8nAFSU5O1qeffqrU1FR169ZNkvTLL7+oYcOG3OcAQKkhIFwmxhjZbDZJ0uHDhzVmzBhNnTpVkrRnzx7NnDlTEydOVEJCgho0aFCapeIKlJycrC+//FL79u1Tnz59mIwIoNQxB+EyKCgo8IQDSapatar8/f312muvSZJ8fHyUnp6u1NRUwgHOKigoSJGRkapfvz5XtAC4ItCD8Aed7jlwu9168sknVbduXe3Zs0ePPvqo5s+fr/T0dB0/flz9+/dX27ZtS7tcXOH+946bAFBaCAh/wJnDCs8++6yaNWumTp066Z577lGnTp00YMAA7d69W/7+/qpdu3bpFgsAwCXgKobf6fT166fVrl1boaGhGjFihJ577jklJydr//79Cg8PL8UqAQD4fZiD8DsYYzz3zH/uuef0xRdfKDk5Wa+88opuuukmNWzYUB9++CHXrgMArlr0IFyiM8eIn332WZUrV05RUVFq1KiRTpw4IZfLpcGDB2vw4MH6y1/+UsrVAgDw+xAQLsGZN0H66aefdPDgQeXn5ysxMVGhoaEaPny4fH19dfvttys0NLS0ywUA4HdjkuJFOj0h0Rij/v37q2rVqjp27JjWrFmj8PBwvf7666pZs2ZplwkAwGVBQLhE77zzjpKSkjR+/HgZYzRo0CDFxsaqRo0aWrhwoXx9fUu7RAAA/jCGGC5BRkaGsrOzdfLkSe3cuVPXX3+9IiMj1bFjR4WHhxMOAABlBj0IlygtLU2LFi1SUlKS6tatq8WLF+upp55S69atS7s0AAAuGy5zvESBgYHq1q2bKlWqpK+//lo9e/ZU69atuaQRAFCmMMTwOwQFBen+++9X+fLllZCQ4BluAACgrKAH4XeqWLGiunXrptq1a+uaa64p7XIAALismIPwB/HlOgCAsoiAAAAALBhiAAAAFgQEAABgQUAAAAAWBAQAAGBBQAAAABb/D/Ll6j1HLsceAAAAAElFTkSuQmCC\n",
=======
      "image/png": "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\n",
>>>>>>> 56d0d7259c7ef232fd69480aedcd055d1f658694
      "text/plain": [
       "<Figure size 576x396 with 2 Axes>"
      ]
     },
     "metadata": {},
     "output_type": "display_data"
    },
    {
     "data": {
      "text/plain": [
       "ClassificationReport(ax=<AxesSubplot:title={'center':'RandomForestClassifier Classification Report'}>,\n",
<<<<<<< HEAD
       "                     cmap=<matplotlib.colors.ListedColormap object at 0x0000020988714F70>,\n",
=======
       "                     cmap=<matplotlib.colors.ListedColormap object at 0x0000014464DEFF10>,\n",
>>>>>>> 56d0d7259c7ef232fd69480aedcd055d1f658694
       "                     estimator=RandomForestClassifier(max_depth=3,\n",
       "                                                      random_state=0),\n",
       "                     is_fitted=False)"
      ]
     },
<<<<<<< HEAD
     "execution_count": 53,
=======
     "execution_count": 104,
>>>>>>> 56d0d7259c7ef232fd69480aedcd055d1f658694
     "metadata": {},
     "output_type": "execute_result"
    }
   ],
   "source": [
    "classification_report(RandomForestClassifier(max_depth=3, random_state=0), X_train, y_train, X_test, y_test,scoring='f1_macro', is_fitted=False)\n"
   ]
  },
  {
   "cell_type": "code",
<<<<<<< HEAD
   "execution_count": 54,
=======
   "execution_count": 105,
>>>>>>> 56d0d7259c7ef232fd69480aedcd055d1f658694
   "id": "e39577a6",
   "metadata": {},
   "outputs": [
    {
     "data": {
<<<<<<< HEAD
      "image/png": "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\n",
=======
      "image/png": "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\n",
>>>>>>> 56d0d7259c7ef232fd69480aedcd055d1f658694
      "text/plain": [
       "<Figure size 576x396 with 1 Axes>"
      ]
     },
     "metadata": {},
     "output_type": "display_data"
    },
    {
     "data": {
      "text/plain": [
       "ConfusionMatrix(ax=<AxesSubplot:title={'center':'RandomForestClassifier Confusion Matrix'}, xlabel='Predicted Class', ylabel='True Class'>,\n",
<<<<<<< HEAD
       "                cmap=<matplotlib.colors.ListedColormap object at 0x00000209871E1DF0>,\n",
=======
       "                cmap=<matplotlib.colors.ListedColormap object at 0x0000014465DD3E20>,\n",
>>>>>>> 56d0d7259c7ef232fd69480aedcd055d1f658694
       "                estimator=RandomForestClassifier(max_depth=3, random_state=0),\n",
       "                is_fitted=False)"
      ]
     },
<<<<<<< HEAD
     "execution_count": 54,
=======
     "execution_count": 105,
>>>>>>> 56d0d7259c7ef232fd69480aedcd055d1f658694
     "metadata": {},
     "output_type": "execute_result"
    }
   ],
   "source": [
    "confusion_matrix(RandomForestClassifier(max_depth=3, random_state=0), X_train, y_train, X_test, y_test, is_fitted=False)"
   ]
  },
  {
   "cell_type": "markdown",
   "id": "98d112d1",
   "metadata": {},
   "source": []
  },
  {
   "cell_type": "markdown",
   "id": "eca33b2a",
   "metadata": {},
   "source": [
    "# Conclusion"
   ]
  },
  {
   "cell_type": "markdown",
   "id": "6211af2a",
   "metadata": {},
   "source": [
    "- Though the K nearest neighbors classifier and Gaussian Naive Bayes model have the best scores around 5, when we look at the proficiency visualization we find out that Gaussian Naive Bayes does better. \n",
    "- Gaussian Naive Bayes model predicted false positives (positive that is actually negative) more accurately than K nearest neighbors classifier. The second model gives 0.4 percentage on labeling an instance 1 that is actually 0. Which indicates that it can't be reliable in that matter.\n",
    "- Recall shows a significant difference in these two models too. Gaussian Naive Bayes model predicted true positive 0 better by 0.8, while K nearest neighbors classifier is 0.5. However, the Gaussian Naive Bayes model predicted true positive 1 less precisely by 0.2, while K nearest neighbors classifier got a better score by 0.5\n",
    "- The balance between the precision and the recall which is F1 score indicates that Gaussian Naive Bayes model accuracy is o.3 in 1 and 0.6 in 0, while K nearest neighbors classifier accuracy is 0.4 in 1 and 0.5 in 0. \n",
    "- In the end, the question is which result matter to you, is it predicting positive as positive or negative as negative to choose between the two models."
   ]
  },
  {
   "cell_type": "code",
   "execution_count": null,
   "id": "11171959",
   "metadata": {},
   "outputs": [],
   "source": []
  }
 ],
 "metadata": {
  "kernelspec": {
   "display_name": "Python 3",
   "language": "python",
   "name": "python3"
  },
  "language_info": {
   "codemirror_mode": {
    "name": "ipython",
    "version": 3
   },
   "file_extension": ".py",
   "mimetype": "text/x-python",
   "name": "python",
   "nbconvert_exporter": "python",
   "pygments_lexer": "ipython3",
   "version": "3.8.8"
  }
 },
 "nbformat": 4,
 "nbformat_minor": 5
}
